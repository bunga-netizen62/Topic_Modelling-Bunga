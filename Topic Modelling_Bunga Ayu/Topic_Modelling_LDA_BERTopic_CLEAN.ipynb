{
 "nbformat": 4,
 "nbformat_minor": 0,
 "metadata": {
  "colab": {
   "provenance": []
  },
  "kernelspec": {
   "name": "python3",
   "display_name": "Python 3"
  },
  "language_info": {
   "name": "python"
  }
 },
 "cells": [
  {
   "cell_type": "markdown",
   "source": [
    "# ***Topic Modelling***\n",
    "**1. Latar Belakang**\n",
    "\n",
    "Judul berita sering kali bersifat singkat, sehingga sulit untuk diklasifikasikan hanya berdasarkan teks judul saja. Oleh karena itu, topic modeling dapat dimanfaatkan untuk mengidentifikasi pola kata dan mengelompokkan tema utama yang tersembunyi dalam kumpulan judul tersebut. Sebagai model unsupervised, topic modeling mampu mendeteksi tema-tema baru atau subtopik yang lebih granular, yang mungkin tidak tercakup dalam label kategori yang telah ditentukan sebelumnya.\n",
    "\n",
    "Penelitian ini menggunakan dataset dari detik.com dengan kategori health yang diambil dari 91.000 judul berita, yang telah diklasifikasikan ke dalam sembilan kategori utama: finance, food, health, hot, inet, news, oto, sport, dan travel. Dengan menerapkan metode topic modeling LDA dan BERTopic, analisis ini bertujuan untuk mengidentifikasi topik-topik utama yang tersembunyi di dalam kumpulan data pada kategori utama health.\n",
    "\n",
    "**2. Fokus Analisis**\n",
    "\n",
    "Penelitian ini berfokus pada eksplorasi dan identifikasi topik-topik tersembunyi dalam judul berita detik.com menggunakan metode topic modeling (LDA dan BERTopic). Tujuannya adalah untuk mengungkap subtopik atau tema baru yang muncul dari kumpulan judul berita yang ada pada kategori berita health."
   ],
   "metadata": {
    "id": "-jPe5n5jRNVI"
   }
  },
  {
   "cell_type": "code",
   "source": [
    "!pip install pandas==1.5.3 numpy==1.24.4"
   ],
   "metadata": {
    "colab": {
     "base_uri": "https://localhost:8080/",
     "height": 0
    },
    "id": "jq1nGNoxAvqI",
    "outputId": "35199af9-99a8-4b4a-957f-afe243031fe3"
   },
   "execution_count": 1,
   "outputs": [
    {
     "output_type": "stream",
     "name": "stdout",
     "text": [
      "Requirement already satisfied: pandas==1.5.3 in /usr/local/lib/python3.11/dist-packages (1.5.3)\n",
      "Requirement already satisfied: numpy==1.24.4 in /usr/local/lib/python3.11/dist-packages (1.24.4)\n",
      "Requirement already satisfied: python-dateutil>=2.8.1 in /usr/local/lib/python3.11/dist-packages (from pandas==1.5.3) (2.9.0.post0)\n",
      "Requirement already satisfied: pytz>=2020.1 in /usr/local/lib/python3.11/dist-packages (from pandas==1.5.3) (2025.2)\n",
      "Requirement already satisfied: six>=1.5 in /usr/local/lib/python3.11/dist-packages (from python-dateutil>=2.8.1->pandas==1.5.3) (1.17.0)\n"
     ]
    }
   ]
  },
  {
   "cell_type": "markdown",
   "source": [
    "# **1. LOAD DATA**\n",
    "> Data diambil dari https://github.com/ibamibrahim/dataset-judul-berita-indonesia/blob/master/detik_news_title.csv"
   ],
   "metadata": {
    "id": "ru8iNOo0uqD7"
   }
  },
  {
   "cell_type": "code",
   "source": [
    "import pandas as pd\n",
    "df = pd.read_excel('/content/detik_news_title (1).xlsx')\n",
    "df"
   ],
   "metadata": {
    "colab": {
     "base_uri": "https://localhost:8080/",
     "height": 423
    },
    "id": "Fy3MUcTIzlgO",
    "outputId": "6f98c7c8-a637-4799-f6e1-1418c05e5235"
   },
   "execution_count": 2,
   "outputs": [
    {
     "output_type": "execute_result",
     "data": {
      "text/plain": [
       "                     date                                                url  \\\n",
       "0              02/17/2020  https://health.detik.com/sexual-health/d-49029...   \n",
       "1              02/17/2020  https://health.detik.com/sexual-health/d-49028...   \n",
       "2              02/17/2020  https://health.detik.com/berita-detikhealth/d-...   \n",
       "3              02/17/2020  https://health.detik.com/sexual-health/d-49029...   \n",
       "4              02/17/2020  https://health.detik.com/berita-detikhealth/d-...   \n",
       "...                   ...                                                ...   \n",
       "1995  2020-04-04 00:00:00  https://health.detik.com/berita-detikhealth/d-...   \n",
       "1996  2020-04-04 00:00:00  https://health.detik.com/sexual-health/d-49646...   \n",
       "1997  2020-12-06 00:00:00  https://health.detik.com/sexual-health/d-50517...   \n",
       "1998  2020-12-06 00:00:00  https://health.detik.com/detiktv/d-5051740/seb...   \n",
       "1999  2020-12-06 00:00:00  https://health.detik.com/fotohealth/d-5051703/...   \n",
       "\n",
       "                                                  title category  \n",
       "0     Pemuda Sulsel Curi CD dan Bra Emak-emak, Terma...   health  \n",
       "1     Pemuda di Sulsel Curi Bra dan 'CD' Emak-emak, ...   health  \n",
       "2     Netizen Sebut Health Alert Card Ribet dan Tak ...   health  \n",
       "3     Apa yang Bikin Seks Terasa Menyenangkan? Riset...   health  \n",
       "4      Studi Mengatakan COVID-19 Tidak Menular ke Janin   health  \n",
       "...                                                 ...      ...  \n",
       "1995  RS di AS Ancam Pecat Tenaga Medis Jika Adukan ...   health  \n",
       "1996             Tips Merangsang 'G-Spot' Saat Bercinta   health  \n",
       "1997            5 Manfaat Tidur Malam Tanpa Memakai Bra   health  \n",
       "1998  Seberapa Siapkah Sektor Medis Indonesia Hadapi...   health  \n",
       "1999      Di Tengah Pandemi, Telekonsultasi jadi Solusi   health  \n",
       "\n",
       "[2000 rows x 4 columns]"
      ],
      "text/html": [
       "\n",
       "  <div id=\"df-bc4d365a-30f4-459f-a9dc-97260117fcdf\" class=\"colab-df-container\">\n",
       "    <div>\n",
       "<style scoped>\n",
       "    .dataframe tbody tr th:only-of-type {\n",
       "        vertical-align: middle;\n",
       "    }\n",
       "\n",
       "    .dataframe tbody tr th {\n",
       "        vertical-align: top;\n",
       "    }\n",
       "\n",
       "    .dataframe thead th {\n",
       "        text-align: right;\n",
       "    }\n",
       "</style>\n",
       "<table border=\"1\" class=\"dataframe\">\n",
       "  <thead>\n",
       "    <tr style=\"text-align: right;\">\n",
       "      <th></th>\n",
       "      <th>date</th>\n",
       "      <th>url</th>\n",
       "      <th>title</th>\n",
       "      <th>category</th>\n",
       "    </tr>\n",
       "  </thead>\n",
       "  <tbody>\n",
       "    <tr>\n",
       "      <th>0</th>\n",
       "      <td>02/17/2020</td>\n",
       "      <td>https://health.detik.com/sexual-health/d-49029...</td>\n",
       "      <td>Pemuda Sulsel Curi CD dan Bra Emak-emak, Terma...</td>\n",
       "      <td>health</td>\n",
       "    </tr>\n",
       "    <tr>\n",
       "      <th>1</th>\n",
       "      <td>02/17/2020</td>\n",
       "      <td>https://health.detik.com/sexual-health/d-49028...</td>\n",
       "      <td>Pemuda di Sulsel Curi Bra dan 'CD' Emak-emak, ...</td>\n",
       "      <td>health</td>\n",
       "    </tr>\n",
       "    <tr>\n",
       "      <th>2</th>\n",
       "      <td>02/17/2020</td>\n",
       "      <td>https://health.detik.com/berita-detikhealth/d-...</td>\n",
       "      <td>Netizen Sebut Health Alert Card Ribet dan Tak ...</td>\n",
       "      <td>health</td>\n",
       "    </tr>\n",
       "    <tr>\n",
       "      <th>3</th>\n",
       "      <td>02/17/2020</td>\n",
       "      <td>https://health.detik.com/sexual-health/d-49029...</td>\n",
       "      <td>Apa yang Bikin Seks Terasa Menyenangkan? Riset...</td>\n",
       "      <td>health</td>\n",
       "    </tr>\n",
       "    <tr>\n",
       "      <th>4</th>\n",
       "      <td>02/17/2020</td>\n",
       "      <td>https://health.detik.com/berita-detikhealth/d-...</td>\n",
       "      <td>Studi Mengatakan COVID-19 Tidak Menular ke Janin</td>\n",
       "      <td>health</td>\n",
       "    </tr>\n",
       "    <tr>\n",
       "      <th>...</th>\n",
       "      <td>...</td>\n",
       "      <td>...</td>\n",
       "      <td>...</td>\n",
       "      <td>...</td>\n",
       "    </tr>\n",
       "    <tr>\n",
       "      <th>1995</th>\n",
       "      <td>2020-04-04 00:00:00</td>\n",
       "      <td>https://health.detik.com/berita-detikhealth/d-...</td>\n",
       "      <td>RS di AS Ancam Pecat Tenaga Medis Jika Adukan ...</td>\n",
       "      <td>health</td>\n",
       "    </tr>\n",
       "    <tr>\n",
       "      <th>1996</th>\n",
       "      <td>2020-04-04 00:00:00</td>\n",
       "      <td>https://health.detik.com/sexual-health/d-49646...</td>\n",
       "      <td>Tips Merangsang 'G-Spot' Saat Bercinta</td>\n",
       "      <td>health</td>\n",
       "    </tr>\n",
       "    <tr>\n",
       "      <th>1997</th>\n",
       "      <td>2020-12-06 00:00:00</td>\n",
       "      <td>https://health.detik.com/sexual-health/d-50517...</td>\n",
       "      <td>5 Manfaat Tidur Malam Tanpa Memakai Bra</td>\n",
       "      <td>health</td>\n",
       "    </tr>\n",
       "    <tr>\n",
       "      <th>1998</th>\n",
       "      <td>2020-12-06 00:00:00</td>\n",
       "      <td>https://health.detik.com/detiktv/d-5051740/seb...</td>\n",
       "      <td>Seberapa Siapkah Sektor Medis Indonesia Hadapi...</td>\n",
       "      <td>health</td>\n",
       "    </tr>\n",
       "    <tr>\n",
       "      <th>1999</th>\n",
       "      <td>2020-12-06 00:00:00</td>\n",
       "      <td>https://health.detik.com/fotohealth/d-5051703/...</td>\n",
       "      <td>Di Tengah Pandemi, Telekonsultasi jadi Solusi</td>\n",
       "      <td>health</td>\n",
       "    </tr>\n",
       "  </tbody>\n",
       "</table>\n",
       "<p>2000 rows \u00d7 4 columns</p>\n",
       "</div>\n",
       "    <div class=\"colab-df-buttons\">\n",
       "\n",
       "  <div class=\"colab-df-container\">\n",
       "    <button class=\"colab-df-convert\" onclick=\"convertToInteractive('df-bc4d365a-30f4-459f-a9dc-97260117fcdf')\"\n",
       "            title=\"Convert this dataframe to an interactive table.\"\n",
       "            style=\"display:none;\">\n",
       "\n",
       "  <svg xmlns=\"http://www.w3.org/2000/svg\" height=\"24px\" viewBox=\"0 -960 960 960\">\n",
       "    <path d=\"M120-120v-720h720v720H120Zm60-500h600v-160H180v160Zm220 220h160v-160H400v160Zm0 220h160v-160H400v160ZM180-400h160v-160H180v160Zm440 0h160v-160H620v160ZM180-180h160v-160H180v160Zm440 0h160v-160H620v160Z\"/>\n",
       "  </svg>\n",
       "    </button>\n",
       "\n",
       "  <style>\n",
       "    .colab-df-container {\n",
       "      display:flex;\n",
       "      gap: 12px;\n",
       "    }\n",
       "\n",
       "    .colab-df-convert {\n",
       "      background-color: #E8F0FE;\n",
       "      border: none;\n",
       "      border-radius: 50%;\n",
       "      cursor: pointer;\n",
       "      display: none;\n",
       "      fill: #1967D2;\n",
       "      height: 32px;\n",
       "      padding: 0 0 0 0;\n",
       "      width: 32px;\n",
       "    }\n",
       "\n",
       "    .colab-df-convert:hover {\n",
       "      background-color: #E2EBFA;\n",
       "      box-shadow: 0px 1px 2px rgba(60, 64, 67, 0.3), 0px 1px 3px 1px rgba(60, 64, 67, 0.15);\n",
       "      fill: #174EA6;\n",
       "    }\n",
       "\n",
       "    .colab-df-buttons div {\n",
       "      margin-bottom: 4px;\n",
       "    }\n",
       "\n",
       "    [theme=dark] .colab-df-convert {\n",
       "      background-color: #3B4455;\n",
       "      fill: #D2E3FC;\n",
       "    }\n",
       "\n",
       "    [theme=dark] .colab-df-convert:hover {\n",
       "      background-color: #434B5C;\n",
       "      box-shadow: 0px 1px 3px 1px rgba(0, 0, 0, 0.15);\n",
       "      filter: drop-shadow(0px 1px 2px rgba(0, 0, 0, 0.3));\n",
       "      fill: #FFFFFF;\n",
       "    }\n",
       "  </style>\n",
       "\n",
       "    <script>\n",
       "      const buttonEl =\n",
       "        document.querySelector('#df-bc4d365a-30f4-459f-a9dc-97260117fcdf button.colab-df-convert');\n",
       "      buttonEl.style.display =\n",
       "        google.colab.kernel.accessAllowed ? 'block' : 'none';\n",
       "\n",
       "      async function convertToInteractive(key) {\n",
       "        const element = document.querySelector('#df-bc4d365a-30f4-459f-a9dc-97260117fcdf');\n",
       "        const dataTable =\n",
       "          await google.colab.kernel.invokeFunction('convertToInteractive',\n",
       "                                                    [key], {});\n",
       "        if (!dataTable) return;\n",
       "\n",
       "        const docLinkHtml = 'Like what you see? Visit the ' +\n",
       "          '<a target=\"_blank\" href=https://colab.research.google.com/notebooks/data_table.ipynb>data table notebook</a>'\n",
       "          + ' to learn more about interactive tables.';\n",
       "        element.innerHTML = '';\n",
       "        dataTable['output_type'] = 'display_data';\n",
       "        await google.colab.output.renderOutput(dataTable, element);\n",
       "        const docLink = document.createElement('div');\n",
       "        docLink.innerHTML = docLinkHtml;\n",
       "        element.appendChild(docLink);\n",
       "      }\n",
       "    </script>\n",
       "  </div>\n",
       "\n",
       "\n",
       "    <div id=\"df-49fbb36b-5418-435c-84dd-29ee9c1c03bb\">\n",
       "      <button class=\"colab-df-quickchart\" onclick=\"quickchart('df-49fbb36b-5418-435c-84dd-29ee9c1c03bb')\"\n",
       "                title=\"Suggest charts\"\n",
       "                style=\"display:none;\">\n",
       "\n",
       "<svg xmlns=\"http://www.w3.org/2000/svg\" height=\"24px\"viewBox=\"0 0 24 24\"\n",
       "     width=\"24px\">\n",
       "    <g>\n",
       "        <path d=\"M19 3H5c-1.1 0-2 .9-2 2v14c0 1.1.9 2 2 2h14c1.1 0 2-.9 2-2V5c0-1.1-.9-2-2-2zM9 17H7v-7h2v7zm4 0h-2V7h2v10zm4 0h-2v-4h2v4z\"/>\n",
       "    </g>\n",
       "</svg>\n",
       "      </button>\n",
       "\n",
       "<style>\n",
       "  .colab-df-quickchart {\n",
       "      --bg-color: #E8F0FE;\n",
       "      --fill-color: #1967D2;\n",
       "      --hover-bg-color: #E2EBFA;\n",
       "      --hover-fill-color: #174EA6;\n",
       "      --disabled-fill-color: #AAA;\n",
       "      --disabled-bg-color: #DDD;\n",
       "  }\n",
       "\n",
       "  [theme=dark] .colab-df-quickchart {\n",
       "      --bg-color: #3B4455;\n",
       "      --fill-color: #D2E3FC;\n",
       "      --hover-bg-color: #434B5C;\n",
       "      --hover-fill-color: #FFFFFF;\n",
       "      --disabled-bg-color: #3B4455;\n",
       "      --disabled-fill-color: #666;\n",
       "  }\n",
       "\n",
       "  .colab-df-quickchart {\n",
       "    background-color: var(--bg-color);\n",
       "    border: none;\n",
       "    border-radius: 50%;\n",
       "    cursor: pointer;\n",
       "    display: none;\n",
       "    fill: var(--fill-color);\n",
       "    height: 32px;\n",
       "    padding: 0;\n",
       "    width: 32px;\n",
       "  }\n",
       "\n",
       "  .colab-df-quickchart:hover {\n",
       "    background-color: var(--hover-bg-color);\n",
       "    box-shadow: 0 1px 2px rgba(60, 64, 67, 0.3), 0 1px 3px 1px rgba(60, 64, 67, 0.15);\n",
       "    fill: var(--button-hover-fill-color);\n",
       "  }\n",
       "\n",
       "  .colab-df-quickchart-complete:disabled,\n",
       "  .colab-df-quickchart-complete:disabled:hover {\n",
       "    background-color: var(--disabled-bg-color);\n",
       "    fill: var(--disabled-fill-color);\n",
       "    box-shadow: none;\n",
       "  }\n",
       "\n",
       "  .colab-df-spinner {\n",
       "    border: 2px solid var(--fill-color);\n",
       "    border-color: transparent;\n",
       "    border-bottom-color: var(--fill-color);\n",
       "    animation:\n",
       "      spin 1s steps(1) infinite;\n",
       "  }\n",
       "\n",
       "  @keyframes spin {\n",
       "    0% {\n",
       "      border-color: transparent;\n",
       "      border-bottom-color: var(--fill-color);\n",
       "      border-left-color: var(--fill-color);\n",
       "    }\n",
       "    20% {\n",
       "      border-color: transparent;\n",
       "      border-left-color: var(--fill-color);\n",
       "      border-top-color: var(--fill-color);\n",
       "    }\n",
       "    30% {\n",
       "      border-color: transparent;\n",
       "      border-left-color: var(--fill-color);\n",
       "      border-top-color: var(--fill-color);\n",
       "      border-right-color: var(--fill-color);\n",
       "    }\n",
       "    40% {\n",
       "      border-color: transparent;\n",
       "      border-right-color: var(--fill-color);\n",
       "      border-top-color: var(--fill-color);\n",
       "    }\n",
       "    60% {\n",
       "      border-color: transparent;\n",
       "      border-right-color: var(--fill-color);\n",
       "    }\n",
       "    80% {\n",
       "      border-color: transparent;\n",
       "      border-right-color: var(--fill-color);\n",
       "      border-bottom-color: var(--fill-color);\n",
       "    }\n",
       "    90% {\n",
       "      border-color: transparent;\n",
       "      border-bottom-color: var(--fill-color);\n",
       "    }\n",
       "  }\n",
       "</style>\n",
       "\n",
       "      <script>\n",
       "        async function quickchart(key) {\n",
       "          const quickchartButtonEl =\n",
       "            document.querySelector('#' + key + ' button');\n",
       "          quickchartButtonEl.disabled = true;  // To prevent multiple clicks.\n",
       "          quickchartButtonEl.classList.add('colab-df-spinner');\n",
       "          try {\n",
       "            const charts = await google.colab.kernel.invokeFunction(\n",
       "                'suggestCharts', [key], {});\n",
       "          } catch (error) {\n",
       "            console.error('Error during call to suggestCharts:', error);\n",
       "          }\n",
       "          quickchartButtonEl.classList.remove('colab-df-spinner');\n",
       "          quickchartButtonEl.classList.add('colab-df-quickchart-complete');\n",
       "        }\n",
       "        (() => {\n",
       "          let quickchartButtonEl =\n",
       "            document.querySelector('#df-49fbb36b-5418-435c-84dd-29ee9c1c03bb button');\n",
       "          quickchartButtonEl.style.display =\n",
       "            google.colab.kernel.accessAllowed ? 'block' : 'none';\n",
       "        })();\n",
       "      </script>\n",
       "    </div>\n",
       "\n",
       "  <div id=\"id_56e82d79-2c50-4183-bf52-7237c2a5fa63\">\n",
       "    <style>\n",
       "      .colab-df-generate {\n",
       "        background-color: #E8F0FE;\n",
       "        border: none;\n",
       "        border-radius: 50%;\n",
       "        cursor: pointer;\n",
       "        display: none;\n",
       "        fill: #1967D2;\n",
       "        height: 32px;\n",
       "        padding: 0 0 0 0;\n",
       "        width: 32px;\n",
       "      }\n",
       "\n",
       "      .colab-df-generate:hover {\n",
       "        background-color: #E2EBFA;\n",
       "        box-shadow: 0px 1px 2px rgba(60, 64, 67, 0.3), 0px 1px 3px 1px rgba(60, 64, 67, 0.15);\n",
       "        fill: #174EA6;\n",
       "      }\n",
       "\n",
       "      [theme=dark] .colab-df-generate {\n",
       "        background-color: #3B4455;\n",
       "        fill: #D2E3FC;\n",
       "      }\n",
       "\n",
       "      [theme=dark] .colab-df-generate:hover {\n",
       "        background-color: #434B5C;\n",
       "        box-shadow: 0px 1px 3px 1px rgba(0, 0, 0, 0.15);\n",
       "        filter: drop-shadow(0px 1px 2px rgba(0, 0, 0, 0.3));\n",
       "        fill: #FFFFFF;\n",
       "      }\n",
       "    </style>\n",
       "    <button class=\"colab-df-generate\" onclick=\"generateWithVariable('df')\"\n",
       "            title=\"Generate code using this dataframe.\"\n",
       "            style=\"display:none;\">\n",
       "\n",
       "  <svg xmlns=\"http://www.w3.org/2000/svg\" height=\"24px\"viewBox=\"0 0 24 24\"\n",
       "       width=\"24px\">\n",
       "    <path d=\"M7,19H8.4L18.45,9,17,7.55,7,17.6ZM5,21V16.75L18.45,3.32a2,2,0,0,1,2.83,0l1.4,1.43a1.91,1.91,0,0,1,.58,1.4,1.91,1.91,0,0,1-.58,1.4L9.25,21ZM18.45,9,17,7.55Zm-12,3A5.31,5.31,0,0,0,4.9,8.1,5.31,5.31,0,0,0,1,6.5,5.31,5.31,0,0,0,4.9,4.9,5.31,5.31,0,0,0,6.5,1,5.31,5.31,0,0,0,8.1,4.9,5.31,5.31,0,0,0,12,6.5,5.46,5.46,0,0,0,6.5,12Z\"/>\n",
       "  </svg>\n",
       "    </button>\n",
       "    <script>\n",
       "      (() => {\n",
       "      const buttonEl =\n",
       "        document.querySelector('#id_56e82d79-2c50-4183-bf52-7237c2a5fa63 button.colab-df-generate');\n",
       "      buttonEl.style.display =\n",
       "        google.colab.kernel.accessAllowed ? 'block' : 'none';\n",
       "\n",
       "      buttonEl.onclick = () => {\n",
       "        google.colab.notebook.generateWithVariable('df');\n",
       "      }\n",
       "      })();\n",
       "    </script>\n",
       "  </div>\n",
       "\n",
       "    </div>\n",
       "  </div>\n"
      ],
      "application/vnd.google.colaboratory.intrinsic+json": {
       "type": "dataframe",
       "variable_name": "df",
       "summary": "{\n  \"name\": \"df\",\n  \"rows\": 2000,\n  \"fields\": [\n    {\n      \"column\": \"date\",\n      \"properties\": {\n        \"dtype\": \"object\",\n        \"num_unique_values\": 57,\n        \"samples\": [\n          \"02/17/2020\",\n          \"05/19/2020\",\n          \"05/29/2020\"\n        ],\n        \"semantic_type\": \"\",\n        \"description\": \"\"\n      }\n    },\n    {\n      \"column\": \"url\",\n      \"properties\": {\n        \"dtype\": \"string\",\n        \"num_unique_values\": 2000,\n        \"samples\": [\n          \"https://health.detik.com/berita-detikhealth/d-4862777/berniat-redakan-sembelit-dengan-telan-belut-hidup-usus-pria-ini-bolong\",\n          \"https://health.detik.com/berita-detikhealth/d-4936613/pasangan-menteri-di-spanyol-positif-virus-corona-seluruh-pejabat-dites\",\n          \"https://health.detik.com/sexual-health/d-4873348/bercinta-sambil-berolahraga-3-posisi-ini-juga-bikin-bugar\"\n        ],\n        \"semantic_type\": \"\",\n        \"description\": \"\"\n      }\n    },\n    {\n      \"column\": \"title\",\n      \"properties\": {\n        \"dtype\": \"string\",\n        \"num_unique_values\": 1999,\n        \"samples\": [\n          \"Cuma Punya 11 Ruang Isolasi, Ini 'Curhat' RSPI Sulianti Saroso\",\n          \"Tangkal Corona di Indonesia, Perlukah Sekolah Diliburkan?\",\n          \"Kebas Kesemutan pada Diabetes Melitus, Ini Faktanya!\"\n        ],\n        \"semantic_type\": \"\",\n        \"description\": \"\"\n      }\n    },\n    {\n      \"column\": \"category\",\n      \"properties\": {\n        \"dtype\": \"category\",\n        \"num_unique_values\": 1,\n        \"samples\": [\n          \"health\"\n        ],\n        \"semantic_type\": \"\",\n        \"description\": \"\"\n      }\n    }\n  ]\n}"
      }
     },
     "metadata": {},
     "execution_count": 2
    }
   ]
  },
  {
   "cell_type": "markdown",
   "source": [
    "# **2. Text Preprocessing**"
   ],
   "metadata": {
    "id": "YnR5dILwvqj8"
   }
  },
  {
   "cell_type": "markdown",
   "source": [
    "### *a. Case folding*"
   ],
   "metadata": {
    "id": "ABD5VVw7vyIr"
   }
  },
  {
   "cell_type": "code",
   "source": [
    "#case folding\n",
    "import pickle\n",
    "import re\n",
    "\n",
    "\n",
    "#Buat fungsi untuk langkah case folding\n",
    "def casefolding(text):\n",
    "    if isinstance(text, str):\n",
    "        # Membersihkan teks dari karakter non-alfanumerik, angka, dan simbol\n",
    "        text = re.sub(r'[^a-zA-Z]', ' ', text)\n",
    "        # Menghapus spasi berlebih\n",
    "        text = re.sub(r'\\s+', ' ', text)\n",
    "        # Mengubah teks menjadi lowercase\n",
    "        text = text.lower()\n",
    "        # Menghapus kata yang hanya terdiri dari 2 huruf\n",
    "        text = re.sub(r'\\b\\w{1,2}\\b', '', text)\n",
    "        return text\n",
    "    else:\n",
    "        # Return the original value if it's not a string\n",
    "        return text"
   ],
   "metadata": {
    "id": "C0eDWhFrpaEj"
   },
   "execution_count": 3,
   "outputs": []
  },
  {
   "cell_type": "markdown",
   "source": [
    "### *b. Stemming*"
   ],
   "metadata": {
    "id": "pxW6m7Dmv6n8"
   }
  },
  {
   "cell_type": "code",
   "source": [
    "!pip install PySastrawi"
   ],
   "metadata": {
    "colab": {
     "base_uri": "https://localhost:8080/",
     "height": 0
    },
    "id": "k0RGfeGpzqMY",
    "outputId": "90f17101-81d2-41ba-9baa-abe3f51c951f"
   },
   "execution_count": 4,
   "outputs": [
    {
     "output_type": "stream",
     "name": "stdout",
     "text": [
      "Collecting PySastrawi\n",
      "  Downloading PySastrawi-1.2.0-py2.py3-none-any.whl.metadata (892 bytes)\n",
      "Downloading PySastrawi-1.2.0-py2.py3-none-any.whl (210 kB)\n",
      "\u001b[?25l   \u001b[90m\u2501\u2501\u2501\u2501\u2501\u2501\u2501\u2501\u2501\u2501\u2501\u2501\u2501\u2501\u2501\u2501\u2501\u2501\u2501\u2501\u2501\u2501\u2501\u2501\u2501\u2501\u2501\u2501\u2501\u2501\u2501\u2501\u2501\u2501\u2501\u2501\u2501\u2501\u2501\u2501\u001b[0m \u001b[32m0.0/210.6 kB\u001b[0m \u001b[31m?\u001b[0m eta \u001b[36m-:--:--\u001b[0m\r\u001b[2K   \u001b[90m\u2501\u2501\u2501\u2501\u2501\u2501\u2501\u2501\u2501\u2501\u2501\u2501\u2501\u2501\u2501\u2501\u2501\u2501\u2501\u2501\u2501\u2501\u2501\u2501\u2501\u2501\u2501\u2501\u2501\u2501\u2501\u2501\u2501\u2501\u2501\u2501\u2501\u2501\u2501\u2501\u001b[0m \u001b[32m210.6/210.6 kB\u001b[0m \u001b[31m6.5 MB/s\u001b[0m eta \u001b[36m0:00:00\u001b[0m\n",
      "\u001b[?25hInstalling collected packages: PySastrawi\n",
      "Successfully installed PySastrawi-1.2.0\n"
     ]
    }
   ]
  },
  {
   "cell_type": "code",
   "source": [
    "#stemming\n",
    "from Sastrawi.Stemmer.StemmerFactory import StemmerFactory\n",
    "\n",
    "factory = StemmerFactory()\n",
    "stemmer = factory.create_stemmer()\n",
    "\n",
    "# Membuat fungsi untuk langkah stemming bahasa Indonesia\n",
    "def stemming(text):\n",
    "  text = stemmer.stem(text)\n",
    "  return text"
   ],
   "metadata": {
    "id": "iRN4RizDz2jY"
   },
   "execution_count": 5,
   "outputs": []
  },
  {
   "cell_type": "markdown",
   "source": [
    "### *c. Stopwords Removal*"
   ],
   "metadata": {
    "id": "mq7-1vRrwFb4"
   }
  },
  {
   "cell_type": "code",
   "source": [
    "from nltk.tokenize import sent_tokenize, word_tokenize\n",
    "from nltk.corpus import stopwords\n",
    "import nltk\n",
    "nltk.download('stopwords')\n",
    "nltk.download('punkt_tab')"
   ],
   "metadata": {
    "colab": {
     "base_uri": "https://localhost:8080/",
     "height": 0
    },
    "id": "z669w6v6rueA",
    "outputId": "7e617dfd-231e-4f35-8dfa-bc5db123e04a"
   },
   "execution_count": 6,
   "outputs": [
    {
     "output_type": "stream",
     "name": "stderr",
     "text": [
      "[nltk_data] Downloading package stopwords to /root/nltk_data...\n",
      "[nltk_data]   Unzipping corpora/stopwords.zip.\n",
      "[nltk_data] Downloading package punkt_tab to /root/nltk_data...\n",
      "[nltk_data]   Unzipping tokenizers/punkt_tab.zip.\n"
     ]
    },
    {
     "output_type": "execute_result",
     "data": {
      "text/plain": [
       "True"
      ]
     },
     "metadata": {},
     "execution_count": 6
    }
   ]
  },
  {
   "cell_type": "code",
   "source": [
    "#membuat fungsi untuk langkah stopword removal\n",
    "stopwords_ind = set(stopwords.words('indonesian'))\n",
    "\n",
    "def remove_stop_words(text):\n",
    "  clean_words = []\n",
    "  text = text.split()\n",
    "  for word in text:\n",
    "    if word not in stopwords_ind:\n",
    "      clean_words.append(word)\n",
    "  return \" \".join(clean_words)"
   ],
   "metadata": {
    "id": "6N5h3I4JqIdi"
   },
   "execution_count": 7,
   "outputs": []
  },
  {
   "cell_type": "markdown",
   "source": [
    "### *Load Text preprocessing*"
   ],
   "metadata": {
    "id": "g0-fclzEwXAR"
   }
  },
  {
   "cell_type": "code",
   "source": [
    "#contoh sampel hasil preprocessing\n",
    "sample = df['title'].iloc[2]\n",
    "case_folding = casefolding(sample)\n",
    "stopword_removal = remove_stop_words(case_folding)\n",
    "text_stemming = stemming(stopword_removal)\n",
    "\n",
    "print('Raw data\\t\\t: ', sample)\n",
    "print('Case folding\\t\\t: ', case_folding)\n",
    "print('Stopword removal\\t: ', stopword_removal)\n",
    "print('Stemming\\t\\t: ', text_stemming)"
   ],
   "metadata": {
    "colab": {
     "base_uri": "https://localhost:8080/",
     "height": 0
    },
    "id": "dtl8TiRiqLzm",
    "outputId": "0748c8fa-cf4a-4600-cc22-fe9d2676edc9"
   },
   "execution_count": 9,
   "outputs": [
    {
     "output_type": "stream",
     "name": "stdout",
     "text": [
      "Raw data\t\t:  Netizen Sebut Health Alert Card Ribet dan Tak Efektif, Ini Kata Kemenkes\n",
      "Case folding\t\t:  netizen sebut health alert card ribet dan tak efektif ini kata kemenkes\n",
      "Stopword removal\t:  netizen health alert card ribet efektif kemenkes\n",
      "Stemming\t\t:  netizen health alert card ribet efektif kemenkes\n"
     ]
    }
   ]
  },
  {
   "cell_type": "code",
   "source": [
    "def text_preprocessing_process(text):\n",
    "  text = casefolding(text)\n",
    "  text = remove_stop_words(text)\n",
    "  text = stemming(text)\n",
    "  return text"
   ],
   "metadata": {
    "id": "JbL0MO8Rq7Iy"
   },
   "execution_count": 10,
   "outputs": []
  },
  {
   "cell_type": "code",
   "source": [
    "%%time\n",
    "df['text_preprocessing'] = df['title'].astype(str).apply(text_preprocessing_process)"
   ],
   "metadata": {
    "colab": {
     "base_uri": "https://localhost:8080/",
     "height": 0
    },
    "id": "Wu4bGsl2q-34",
    "outputId": "d141ebd4-c7aa-4a43-efe5-c318a5618308"
   },
   "execution_count": 11,
   "outputs": [
    {
     "output_type": "stream",
     "name": "stdout",
     "text": [
      "CPU times: user 566 ms, sys: 3.37 ms, total: 569 ms\n",
      "Wall time: 664 ms\n"
     ]
    }
   ]
  },
  {
   "cell_type": "code",
   "source": [
    "df"
   ],
   "metadata": {
    "colab": {
     "base_uri": "https://localhost:8080/",
     "height": 423
    },
    "id": "Dnn2-iLCrNcP",
    "outputId": "c7c2b26d-a69e-4397-ab39-39220ea462e5"
   },
   "execution_count": 12,
   "outputs": [
    {
     "output_type": "execute_result",
     "data": {
      "text/plain": [
       "                     date                                                url  \\\n",
       "0              02/17/2020  https://health.detik.com/sexual-health/d-49029...   \n",
       "1              02/17/2020  https://health.detik.com/sexual-health/d-49028...   \n",
       "2              02/17/2020  https://health.detik.com/berita-detikhealth/d-...   \n",
       "3              02/17/2020  https://health.detik.com/sexual-health/d-49029...   \n",
       "4              02/17/2020  https://health.detik.com/berita-detikhealth/d-...   \n",
       "...                   ...                                                ...   \n",
       "1995  2020-04-04 00:00:00  https://health.detik.com/berita-detikhealth/d-...   \n",
       "1996  2020-04-04 00:00:00  https://health.detik.com/sexual-health/d-49646...   \n",
       "1997  2020-12-06 00:00:00  https://health.detik.com/sexual-health/d-50517...   \n",
       "1998  2020-12-06 00:00:00  https://health.detik.com/detiktv/d-5051740/seb...   \n",
       "1999  2020-12-06 00:00:00  https://health.detik.com/fotohealth/d-5051703/...   \n",
       "\n",
       "                                                  title category  \\\n",
       "0     Pemuda Sulsel Curi CD dan Bra Emak-emak, Terma...   health   \n",
       "1     Pemuda di Sulsel Curi Bra dan 'CD' Emak-emak, ...   health   \n",
       "2     Netizen Sebut Health Alert Card Ribet dan Tak ...   health   \n",
       "3     Apa yang Bikin Seks Terasa Menyenangkan? Riset...   health   \n",
       "4      Studi Mengatakan COVID-19 Tidak Menular ke Janin   health   \n",
       "...                                                 ...      ...   \n",
       "1995  RS di AS Ancam Pecat Tenaga Medis Jika Adukan ...   health   \n",
       "1996             Tips Merangsang 'G-Spot' Saat Bercinta   health   \n",
       "1997            5 Manfaat Tidur Malam Tanpa Memakai Bra   health   \n",
       "1998  Seberapa Siapkah Sektor Medis Indonesia Hadapi...   health   \n",
       "1999      Di Tengah Pandemi, Telekonsultasi jadi Solusi   health   \n",
       "\n",
       "                                     text_preprocessing  \n",
       "0     pemuda sulsel curi bra emak emak fetish ganggu...  \n",
       "1     pemuda sulsel curi bra emak emak ilmu hitam fe...  \n",
       "2      netizen health alert card ribet efektif kemenkes  \n",
       "3                  bikin seks senang riset ungkap jawab  \n",
       "4                               studi covid tular janin  \n",
       "...                                                 ...  \n",
       "1995         ancam pecat tenaga medis adu langka masker  \n",
       "1996                           tips rangsang spot cinta  \n",
       "1997                      manfaat tidur malam pakai bra  \n",
       "1998       siap sektor medis indonesia hadap new normal  \n",
       "1999                      pandemi telekonsultasi solusi  \n",
       "\n",
       "[2000 rows x 5 columns]"
      ],
      "text/html": [
       "\n",
       "  <div id=\"df-d5664358-861c-4df4-9e49-9aecb92241c1\" class=\"colab-df-container\">\n",
       "    <div>\n",
       "<style scoped>\n",
       "    .dataframe tbody tr th:only-of-type {\n",
       "        vertical-align: middle;\n",
       "    }\n",
       "\n",
       "    .dataframe tbody tr th {\n",
       "        vertical-align: top;\n",
       "    }\n",
       "\n",
       "    .dataframe thead th {\n",
       "        text-align: right;\n",
       "    }\n",
       "</style>\n",
       "<table border=\"1\" class=\"dataframe\">\n",
       "  <thead>\n",
       "    <tr style=\"text-align: right;\">\n",
       "      <th></th>\n",
       "      <th>date</th>\n",
       "      <th>url</th>\n",
       "      <th>title</th>\n",
       "      <th>category</th>\n",
       "      <th>text_preprocessing</th>\n",
       "    </tr>\n",
       "  </thead>\n",
       "  <tbody>\n",
       "    <tr>\n",
       "      <th>0</th>\n",
       "      <td>02/17/2020</td>\n",
       "      <td>https://health.detik.com/sexual-health/d-49029...</td>\n",
       "      <td>Pemuda Sulsel Curi CD dan Bra Emak-emak, Terma...</td>\n",
       "      <td>health</td>\n",
       "      <td>pemuda sulsel curi bra emak emak fetish ganggu...</td>\n",
       "    </tr>\n",
       "    <tr>\n",
       "      <th>1</th>\n",
       "      <td>02/17/2020</td>\n",
       "      <td>https://health.detik.com/sexual-health/d-49028...</td>\n",
       "      <td>Pemuda di Sulsel Curi Bra dan 'CD' Emak-emak, ...</td>\n",
       "      <td>health</td>\n",
       "      <td>pemuda sulsel curi bra emak emak ilmu hitam fe...</td>\n",
       "    </tr>\n",
       "    <tr>\n",
       "      <th>2</th>\n",
       "      <td>02/17/2020</td>\n",
       "      <td>https://health.detik.com/berita-detikhealth/d-...</td>\n",
       "      <td>Netizen Sebut Health Alert Card Ribet dan Tak ...</td>\n",
       "      <td>health</td>\n",
       "      <td>netizen health alert card ribet efektif kemenkes</td>\n",
       "    </tr>\n",
       "    <tr>\n",
       "      <th>3</th>\n",
       "      <td>02/17/2020</td>\n",
       "      <td>https://health.detik.com/sexual-health/d-49029...</td>\n",
       "      <td>Apa yang Bikin Seks Terasa Menyenangkan? Riset...</td>\n",
       "      <td>health</td>\n",
       "      <td>bikin seks senang riset ungkap jawab</td>\n",
       "    </tr>\n",
       "    <tr>\n",
       "      <th>4</th>\n",
       "      <td>02/17/2020</td>\n",
       "      <td>https://health.detik.com/berita-detikhealth/d-...</td>\n",
       "      <td>Studi Mengatakan COVID-19 Tidak Menular ke Janin</td>\n",
       "      <td>health</td>\n",
       "      <td>studi covid tular janin</td>\n",
       "    </tr>\n",
       "    <tr>\n",
       "      <th>...</th>\n",
       "      <td>...</td>\n",
       "      <td>...</td>\n",
       "      <td>...</td>\n",
       "      <td>...</td>\n",
       "      <td>...</td>\n",
       "    </tr>\n",
       "    <tr>\n",
       "      <th>1995</th>\n",
       "      <td>2020-04-04 00:00:00</td>\n",
       "      <td>https://health.detik.com/berita-detikhealth/d-...</td>\n",
       "      <td>RS di AS Ancam Pecat Tenaga Medis Jika Adukan ...</td>\n",
       "      <td>health</td>\n",
       "      <td>ancam pecat tenaga medis adu langka masker</td>\n",
       "    </tr>\n",
       "    <tr>\n",
       "      <th>1996</th>\n",
       "      <td>2020-04-04 00:00:00</td>\n",
       "      <td>https://health.detik.com/sexual-health/d-49646...</td>\n",
       "      <td>Tips Merangsang 'G-Spot' Saat Bercinta</td>\n",
       "      <td>health</td>\n",
       "      <td>tips rangsang spot cinta</td>\n",
       "    </tr>\n",
       "    <tr>\n",
       "      <th>1997</th>\n",
       "      <td>2020-12-06 00:00:00</td>\n",
       "      <td>https://health.detik.com/sexual-health/d-50517...</td>\n",
       "      <td>5 Manfaat Tidur Malam Tanpa Memakai Bra</td>\n",
       "      <td>health</td>\n",
       "      <td>manfaat tidur malam pakai bra</td>\n",
       "    </tr>\n",
       "    <tr>\n",
       "      <th>1998</th>\n",
       "      <td>2020-12-06 00:00:00</td>\n",
       "      <td>https://health.detik.com/detiktv/d-5051740/seb...</td>\n",
       "      <td>Seberapa Siapkah Sektor Medis Indonesia Hadapi...</td>\n",
       "      <td>health</td>\n",
       "      <td>siap sektor medis indonesia hadap new normal</td>\n",
       "    </tr>\n",
       "    <tr>\n",
       "      <th>1999</th>\n",
       "      <td>2020-12-06 00:00:00</td>\n",
       "      <td>https://health.detik.com/fotohealth/d-5051703/...</td>\n",
       "      <td>Di Tengah Pandemi, Telekonsultasi jadi Solusi</td>\n",
       "      <td>health</td>\n",
       "      <td>pandemi telekonsultasi solusi</td>\n",
       "    </tr>\n",
       "  </tbody>\n",
       "</table>\n",
       "<p>2000 rows \u00d7 5 columns</p>\n",
       "</div>\n",
       "    <div class=\"colab-df-buttons\">\n",
       "\n",
       "  <div class=\"colab-df-container\">\n",
       "    <button class=\"colab-df-convert\" onclick=\"convertToInteractive('df-d5664358-861c-4df4-9e49-9aecb92241c1')\"\n",
       "            title=\"Convert this dataframe to an interactive table.\"\n",
       "            style=\"display:none;\">\n",
       "\n",
       "  <svg xmlns=\"http://www.w3.org/2000/svg\" height=\"24px\" viewBox=\"0 -960 960 960\">\n",
       "    <path d=\"M120-120v-720h720v720H120Zm60-500h600v-160H180v160Zm220 220h160v-160H400v160Zm0 220h160v-160H400v160ZM180-400h160v-160H180v160Zm440 0h160v-160H620v160ZM180-180h160v-160H180v160Zm440 0h160v-160H620v160Z\"/>\n",
       "  </svg>\n",
       "    </button>\n",
       "\n",
       "  <style>\n",
       "    .colab-df-container {\n",
       "      display:flex;\n",
       "      gap: 12px;\n",
       "    }\n",
       "\n",
       "    .colab-df-convert {\n",
       "      background-color: #E8F0FE;\n",
       "      border: none;\n",
       "      border-radius: 50%;\n",
       "      cursor: pointer;\n",
       "      display: none;\n",
       "      fill: #1967D2;\n",
       "      height: 32px;\n",
       "      padding: 0 0 0 0;\n",
       "      width: 32px;\n",
       "    }\n",
       "\n",
       "    .colab-df-convert:hover {\n",
       "      background-color: #E2EBFA;\n",
       "      box-shadow: 0px 1px 2px rgba(60, 64, 67, 0.3), 0px 1px 3px 1px rgba(60, 64, 67, 0.15);\n",
       "      fill: #174EA6;\n",
       "    }\n",
       "\n",
       "    .colab-df-buttons div {\n",
       "      margin-bottom: 4px;\n",
       "    }\n",
       "\n",
       "    [theme=dark] .colab-df-convert {\n",
       "      background-color: #3B4455;\n",
       "      fill: #D2E3FC;\n",
       "    }\n",
       "\n",
       "    [theme=dark] .colab-df-convert:hover {\n",
       "      background-color: #434B5C;\n",
       "      box-shadow: 0px 1px 3px 1px rgba(0, 0, 0, 0.15);\n",
       "      filter: drop-shadow(0px 1px 2px rgba(0, 0, 0, 0.3));\n",
       "      fill: #FFFFFF;\n",
       "    }\n",
       "  </style>\n",
       "\n",
       "    <script>\n",
       "      const buttonEl =\n",
       "        document.querySelector('#df-d5664358-861c-4df4-9e49-9aecb92241c1 button.colab-df-convert');\n",
       "      buttonEl.style.display =\n",
       "        google.colab.kernel.accessAllowed ? 'block' : 'none';\n",
       "\n",
       "      async function convertToInteractive(key) {\n",
       "        const element = document.querySelector('#df-d5664358-861c-4df4-9e49-9aecb92241c1');\n",
       "        const dataTable =\n",
       "          await google.colab.kernel.invokeFunction('convertToInteractive',\n",
       "                                                    [key], {});\n",
       "        if (!dataTable) return;\n",
       "\n",
       "        const docLinkHtml = 'Like what you see? Visit the ' +\n",
       "          '<a target=\"_blank\" href=https://colab.research.google.com/notebooks/data_table.ipynb>data table notebook</a>'\n",
       "          + ' to learn more about interactive tables.';\n",
       "        element.innerHTML = '';\n",
       "        dataTable['output_type'] = 'display_data';\n",
       "        await google.colab.output.renderOutput(dataTable, element);\n",
       "        const docLink = document.createElement('div');\n",
       "        docLink.innerHTML = docLinkHtml;\n",
       "        element.appendChild(docLink);\n",
       "      }\n",
       "    </script>\n",
       "  </div>\n",
       "\n",
       "\n",
       "    <div id=\"df-61d5db42-7239-4fa7-95e9-581a95627f67\">\n",
       "      <button class=\"colab-df-quickchart\" onclick=\"quickchart('df-61d5db42-7239-4fa7-95e9-581a95627f67')\"\n",
       "                title=\"Suggest charts\"\n",
       "                style=\"display:none;\">\n",
       "\n",
       "<svg xmlns=\"http://www.w3.org/2000/svg\" height=\"24px\"viewBox=\"0 0 24 24\"\n",
       "     width=\"24px\">\n",
       "    <g>\n",
       "        <path d=\"M19 3H5c-1.1 0-2 .9-2 2v14c0 1.1.9 2 2 2h14c1.1 0 2-.9 2-2V5c0-1.1-.9-2-2-2zM9 17H7v-7h2v7zm4 0h-2V7h2v10zm4 0h-2v-4h2v4z\"/>\n",
       "    </g>\n",
       "</svg>\n",
       "      </button>\n",
       "\n",
       "<style>\n",
       "  .colab-df-quickchart {\n",
       "      --bg-color: #E8F0FE;\n",
       "      --fill-color: #1967D2;\n",
       "      --hover-bg-color: #E2EBFA;\n",
       "      --hover-fill-color: #174EA6;\n",
       "      --disabled-fill-color: #AAA;\n",
       "      --disabled-bg-color: #DDD;\n",
       "  }\n",
       "\n",
       "  [theme=dark] .colab-df-quickchart {\n",
       "      --bg-color: #3B4455;\n",
       "      --fill-color: #D2E3FC;\n",
       "      --hover-bg-color: #434B5C;\n",
       "      --hover-fill-color: #FFFFFF;\n",
       "      --disabled-bg-color: #3B4455;\n",
       "      --disabled-fill-color: #666;\n",
       "  }\n",
       "\n",
       "  .colab-df-quickchart {\n",
       "    background-color: var(--bg-color);\n",
       "    border: none;\n",
       "    border-radius: 50%;\n",
       "    cursor: pointer;\n",
       "    display: none;\n",
       "    fill: var(--fill-color);\n",
       "    height: 32px;\n",
       "    padding: 0;\n",
       "    width: 32px;\n",
       "  }\n",
       "\n",
       "  .colab-df-quickchart:hover {\n",
       "    background-color: var(--hover-bg-color);\n",
       "    box-shadow: 0 1px 2px rgba(60, 64, 67, 0.3), 0 1px 3px 1px rgba(60, 64, 67, 0.15);\n",
       "    fill: var(--button-hover-fill-color);\n",
       "  }\n",
       "\n",
       "  .colab-df-quickchart-complete:disabled,\n",
       "  .colab-df-quickchart-complete:disabled:hover {\n",
       "    background-color: var(--disabled-bg-color);\n",
       "    fill: var(--disabled-fill-color);\n",
       "    box-shadow: none;\n",
       "  }\n",
       "\n",
       "  .colab-df-spinner {\n",
       "    border: 2px solid var(--fill-color);\n",
       "    border-color: transparent;\n",
       "    border-bottom-color: var(--fill-color);\n",
       "    animation:\n",
       "      spin 1s steps(1) infinite;\n",
       "  }\n",
       "\n",
       "  @keyframes spin {\n",
       "    0% {\n",
       "      border-color: transparent;\n",
       "      border-bottom-color: var(--fill-color);\n",
       "      border-left-color: var(--fill-color);\n",
       "    }\n",
       "    20% {\n",
       "      border-color: transparent;\n",
       "      border-left-color: var(--fill-color);\n",
       "      border-top-color: var(--fill-color);\n",
       "    }\n",
       "    30% {\n",
       "      border-color: transparent;\n",
       "      border-left-color: var(--fill-color);\n",
       "      border-top-color: var(--fill-color);\n",
       "      border-right-color: var(--fill-color);\n",
       "    }\n",
       "    40% {\n",
       "      border-color: transparent;\n",
       "      border-right-color: var(--fill-color);\n",
       "      border-top-color: var(--fill-color);\n",
       "    }\n",
       "    60% {\n",
       "      border-color: transparent;\n",
       "      border-right-color: var(--fill-color);\n",
       "    }\n",
       "    80% {\n",
       "      border-color: transparent;\n",
       "      border-right-color: var(--fill-color);\n",
       "      border-bottom-color: var(--fill-color);\n",
       "    }\n",
       "    90% {\n",
       "      border-color: transparent;\n",
       "      border-bottom-color: var(--fill-color);\n",
       "    }\n",
       "  }\n",
       "</style>\n",
       "\n",
       "      <script>\n",
       "        async function quickchart(key) {\n",
       "          const quickchartButtonEl =\n",
       "            document.querySelector('#' + key + ' button');\n",
       "          quickchartButtonEl.disabled = true;  // To prevent multiple clicks.\n",
       "          quickchartButtonEl.classList.add('colab-df-spinner');\n",
       "          try {\n",
       "            const charts = await google.colab.kernel.invokeFunction(\n",
       "                'suggestCharts', [key], {});\n",
       "          } catch (error) {\n",
       "            console.error('Error during call to suggestCharts:', error);\n",
       "          }\n",
       "          quickchartButtonEl.classList.remove('colab-df-spinner');\n",
       "          quickchartButtonEl.classList.add('colab-df-quickchart-complete');\n",
       "        }\n",
       "        (() => {\n",
       "          let quickchartButtonEl =\n",
       "            document.querySelector('#df-61d5db42-7239-4fa7-95e9-581a95627f67 button');\n",
       "          quickchartButtonEl.style.display =\n",
       "            google.colab.kernel.accessAllowed ? 'block' : 'none';\n",
       "        })();\n",
       "      </script>\n",
       "    </div>\n",
       "\n",
       "  <div id=\"id_87afabc1-e319-4769-8b02-e12c53d5c990\">\n",
       "    <style>\n",
       "      .colab-df-generate {\n",
       "        background-color: #E8F0FE;\n",
       "        border: none;\n",
       "        border-radius: 50%;\n",
       "        cursor: pointer;\n",
       "        display: none;\n",
       "        fill: #1967D2;\n",
       "        height: 32px;\n",
       "        padding: 0 0 0 0;\n",
       "        width: 32px;\n",
       "      }\n",
       "\n",
       "      .colab-df-generate:hover {\n",
       "        background-color: #E2EBFA;\n",
       "        box-shadow: 0px 1px 2px rgba(60, 64, 67, 0.3), 0px 1px 3px 1px rgba(60, 64, 67, 0.15);\n",
       "        fill: #174EA6;\n",
       "      }\n",
       "\n",
       "      [theme=dark] .colab-df-generate {\n",
       "        background-color: #3B4455;\n",
       "        fill: #D2E3FC;\n",
       "      }\n",
       "\n",
       "      [theme=dark] .colab-df-generate:hover {\n",
       "        background-color: #434B5C;\n",
       "        box-shadow: 0px 1px 3px 1px rgba(0, 0, 0, 0.15);\n",
       "        filter: drop-shadow(0px 1px 2px rgba(0, 0, 0, 0.3));\n",
       "        fill: #FFFFFF;\n",
       "      }\n",
       "    </style>\n",
       "    <button class=\"colab-df-generate\" onclick=\"generateWithVariable('df')\"\n",
       "            title=\"Generate code using this dataframe.\"\n",
       "            style=\"display:none;\">\n",
       "\n",
       "  <svg xmlns=\"http://www.w3.org/2000/svg\" height=\"24px\"viewBox=\"0 0 24 24\"\n",
       "       width=\"24px\">\n",
       "    <path d=\"M7,19H8.4L18.45,9,17,7.55,7,17.6ZM5,21V16.75L18.45,3.32a2,2,0,0,1,2.83,0l1.4,1.43a1.91,1.91,0,0,1,.58,1.4,1.91,1.91,0,0,1-.58,1.4L9.25,21ZM18.45,9,17,7.55Zm-12,3A5.31,5.31,0,0,0,4.9,8.1,5.31,5.31,0,0,0,1,6.5,5.31,5.31,0,0,0,4.9,4.9,5.31,5.31,0,0,0,6.5,1,5.31,5.31,0,0,0,8.1,4.9,5.31,5.31,0,0,0,12,6.5,5.46,5.46,0,0,0,6.5,12Z\"/>\n",
       "  </svg>\n",
       "    </button>\n",
       "    <script>\n",
       "      (() => {\n",
       "      const buttonEl =\n",
       "        document.querySelector('#id_87afabc1-e319-4769-8b02-e12c53d5c990 button.colab-df-generate');\n",
       "      buttonEl.style.display =\n",
       "        google.colab.kernel.accessAllowed ? 'block' : 'none';\n",
       "\n",
       "      buttonEl.onclick = () => {\n",
       "        google.colab.notebook.generateWithVariable('df');\n",
       "      }\n",
       "      })();\n",
       "    </script>\n",
       "  </div>\n",
       "\n",
       "    </div>\n",
       "  </div>\n"
      ],
      "application/vnd.google.colaboratory.intrinsic+json": {
       "type": "dataframe",
       "variable_name": "df",
       "summary": "{\n  \"name\": \"df\",\n  \"rows\": 2000,\n  \"fields\": [\n    {\n      \"column\": \"date\",\n      \"properties\": {\n        \"dtype\": \"object\",\n        \"num_unique_values\": 57,\n        \"samples\": [\n          \"02/17/2020\",\n          \"05/19/2020\",\n          \"05/29/2020\"\n        ],\n        \"semantic_type\": \"\",\n        \"description\": \"\"\n      }\n    },\n    {\n      \"column\": \"url\",\n      \"properties\": {\n        \"dtype\": \"string\",\n        \"num_unique_values\": 2000,\n        \"samples\": [\n          \"https://health.detik.com/berita-detikhealth/d-4862777/berniat-redakan-sembelit-dengan-telan-belut-hidup-usus-pria-ini-bolong\",\n          \"https://health.detik.com/berita-detikhealth/d-4936613/pasangan-menteri-di-spanyol-positif-virus-corona-seluruh-pejabat-dites\",\n          \"https://health.detik.com/sexual-health/d-4873348/bercinta-sambil-berolahraga-3-posisi-ini-juga-bikin-bugar\"\n        ],\n        \"semantic_type\": \"\",\n        \"description\": \"\"\n      }\n    },\n    {\n      \"column\": \"title\",\n      \"properties\": {\n        \"dtype\": \"string\",\n        \"num_unique_values\": 1999,\n        \"samples\": [\n          \"Cuma Punya 11 Ruang Isolasi, Ini 'Curhat' RSPI Sulianti Saroso\",\n          \"Tangkal Corona di Indonesia, Perlukah Sekolah Diliburkan?\",\n          \"Kebas Kesemutan pada Diabetes Melitus, Ini Faktanya!\"\n        ],\n        \"semantic_type\": \"\",\n        \"description\": \"\"\n      }\n    },\n    {\n      \"column\": \"category\",\n      \"properties\": {\n        \"dtype\": \"category\",\n        \"num_unique_values\": 1,\n        \"samples\": [\n          \"health\"\n        ],\n        \"semantic_type\": \"\",\n        \"description\": \"\"\n      }\n    },\n    {\n      \"column\": \"text_preprocessing\",\n      \"properties\": {\n        \"dtype\": \"string\",\n        \"num_unique_values\": 1904,\n        \"samples\": [\n          \"serta turun kelas imbas iur imbau bpjs sehat\"\n        ],\n        \"semantic_type\": \"\",\n        \"description\": \"\"\n      }\n    }\n  ]\n}"
      }
     },
     "metadata": {},
     "execution_count": 12
    }
   ]
  },
  {
   "cell_type": "code",
   "source": [
    "df.to_csv('data clean lda.csv', index=False)"
   ],
   "metadata": {
    "id": "ZNzirJvdA-S6"
   },
   "execution_count": 13,
   "outputs": []
  },
  {
   "cell_type": "markdown",
   "source": [
    "# **3. Latent Dirichlet Allocation (LDA)**"
   ],
   "metadata": {
    "id": "WtBunNclwlc2"
   }
  },
  {
   "cell_type": "markdown",
   "source": [
    "## *Tokenisasi*"
   ],
   "metadata": {
    "id": "FNOEE6T8f3e9"
   }
  },
  {
   "cell_type": "code",
   "source": [
    "!pip install nltk\n",
    "import nltk\n",
    "nltk.download('punkt')\n",
    "\n",
    "from nltk.tokenize import word_tokenize\n",
    "from sklearn.feature_extraction.text import CountVectorizer\n",
    "from sklearn.decomposition import LatentDirichletAllocation"
   ],
   "metadata": {
    "colab": {
     "base_uri": "https://localhost:8080/",
     "height": 0
    },
    "id": "xCktfw9V-DVo",
    "outputId": "b3f3f236-240b-40e5-955f-9b3de1fc2def"
   },
   "execution_count": 14,
   "outputs": [
    {
     "output_type": "stream",
     "name": "stdout",
     "text": [
      "Requirement already satisfied: nltk in /usr/local/lib/python3.11/dist-packages (3.9.1)\n",
      "Requirement already satisfied: click in /usr/local/lib/python3.11/dist-packages (from nltk) (8.2.1)\n",
      "Requirement already satisfied: joblib in /usr/local/lib/python3.11/dist-packages (from nltk) (1.5.1)\n",
      "Requirement already satisfied: regex>=2021.8.3 in /usr/local/lib/python3.11/dist-packages (from nltk) (2024.11.6)\n",
      "Requirement already satisfied: tqdm in /usr/local/lib/python3.11/dist-packages (from nltk) (4.67.1)\n"
     ]
    },
    {
     "output_type": "stream",
     "name": "stderr",
     "text": [
      "[nltk_data] Downloading package punkt to /root/nltk_data...\n",
      "[nltk_data]   Unzipping tokenizers/punkt.zip.\n"
     ]
    }
   ]
  },
  {
   "cell_type": "code",
   "source": [
    "data_text = df['text_preprocessing'].astype(str)"
   ],
   "metadata": {
    "id": "5d30KCT90bVv"
   },
   "execution_count": 15,
   "outputs": []
  },
  {
   "cell_type": "code",
   "source": [
    "# CountVectorizer step untuk mengubah teks menjadi matriks frekuensi kata (Bag-of-Words / BoW).\n",
    "\n",
    "# Inisialisasi CountVectorizer\n",
    "bow = CountVectorizer(ngram_range=(1,2),          # untuk membuat unigram dan bigram\n",
    "                      tokenizer=word_tokenize,    # untuk Tokenisasi menggunakan word_tokenize dari NLTK\n",
    "                      min_df=5                    # untuk memfilter hanya kata (atau n-gram) yang muncul di \u22655 dokumen yang dimasukkan\n",
    "                      )\n",
    "\n",
    "# Mengubah seluruh teks dalam DataFrame menjadi matriks BoW\n",
    "bow_matrix = bow.fit_transform(data_text)\n",
    "\n",
    "# untuk mendapatkan daftar kosakata hasil vektorisasi\n",
    "vocab = bow.get_feature_names_out()"
   ],
   "metadata": {
    "colab": {
     "base_uri": "https://localhost:8080/",
     "height": 0
    },
    "id": "uWDkunM66PZ7",
    "outputId": "79d66636-05a8-4b8f-bb63-531d90516133"
   },
   "execution_count": 16,
   "outputs": [
    {
     "output_type": "stream",
     "name": "stderr",
     "text": [
      "/usr/local/lib/python3.11/dist-packages/sklearn/feature_extraction/text.py:517: UserWarning: The parameter 'token_pattern' will not be used since 'tokenizer' is not None'\n",
      "  warnings.warn(\n"
     ]
    }
   ]
  },
  {
   "cell_type": "markdown",
   "source": [
    "## *Inisialisasi LDA*"
   ],
   "metadata": {
    "id": "d0UVUW3Jg5uT"
   }
  },
  {
   "cell_type": "code",
   "source": [
    "def compute_umass_coherence(topic_word_distribution, bow_matrix, vocab, threshold=1e-5):\n",
    "    num_topics, num_words = topic_word_distribution.shape\n",
    "    coherence_scores = []\n",
    "\n",
    "    # Ubah bow_matrix menjadi padat untuk pemrosesan yang lebih mudah\n",
    "    bow_dense = bow_matrix.toarray()\n",
    "\n",
    "    for topic_idx in range(num_topics):\n",
    "       # untuk mendapatkan kata-kata terbaik untuk topik saat ini\n",
    "        top_word_indices = topic_word_distribution[topic_idx].argsort()[::-1]\n",
    "\n",
    "        topic_score = 0\n",
    "        for i in range(len(top_word_indices)):\n",
    "            for j in range(i + 1, len(top_word_indices)):\n",
    "                word_i_idx = top_word_indices[i]\n",
    "                word_j_idx = top_word_indices[j]\n",
    "\n",
    "                freq_i     = np.sum(bow_dense[:, word_i_idx])\n",
    "                co_occurrence_ij = np.sum(bow_dense[:, word_i_idx] * bow_dense[:, word_j_idx])\n",
    "\n",
    "                if freq_i > 0:\n",
    "                    topic_score += np.log((co_occurrence_ij + 1) / freq_i)\n",
    "                else:\n",
    "                    topic_score += np.log(1e-10)\n",
    "\n",
    "        coherence_scores.append(topic_score)\n",
    "\n",
    "    return np.mean(coherence_scores)"
   ],
   "metadata": {
    "id": "HudonAVt41_O"
   },
   "execution_count": 17,
   "outputs": []
  },
  {
   "cell_type": "code",
   "source": [
    "import numpy as np\n",
    "\n",
    "topic_numbers = range(2, 10, 1)  #Membuat daftar jumlah topik yang akan diuji (karena range(2, 15) artinya dari 2 sampai sebelum 15)\n",
    "coherence_values = []\n",
    "model_list = []\n",
    "\n",
    "\n",
    "# Fungsi untuk melatih model LDA dan menghitung koherensi untuk setiap jumlah topik\n",
    "for num_topics in topic_numbers:\n",
    "    print(f\"Training LDA model with {num_topics} topics...\")\n",
    "    lda = LatentDirichletAllocation(n_components=num_topics,  # Jumlah topik\n",
    "                                    max_iter=10,              # Jumlah iterasi training\n",
    "                                    random_state=30)          # mengatur nilai acak\n",
    "    lda.fit(bow_matrix)\n",
    "    model_list.append(lda)\n",
    "\n",
    "#fungsi komputasi coherence score\n",
    "    topic_word_distribution = lda.components_\n",
    "    coherence = compute_umass_coherence(topic_word_distribution, bow_matrix, vocab)\n",
    "    coherence_values.append(coherence)\n",
    "    print(f\"Coherence Score for {num_topics} topics: {coherence:.4f}\")"
   ],
   "metadata": {
    "colab": {
     "base_uri": "https://localhost:8080/",
     "height": 0
    },
    "id": "AvIfAGNn48bR",
    "outputId": "681653c5-eec5-4d71-ffd6-ebcc6c6a23f1"
   },
   "execution_count": 21,
   "outputs": [
    {
     "output_type": "stream",
     "name": "stdout",
     "text": [
      "Training LDA model with 2 topics...\n",
      "Coherence Score for 2 topics: -644493.4748\n",
      "Training LDA model with 3 topics...\n",
      "Coherence Score for 3 topics: -638657.1104\n",
      "Training LDA model with 4 topics...\n",
      "Coherence Score for 4 topics: -636313.4919\n",
      "Training LDA model with 5 topics...\n",
      "Coherence Score for 5 topics: -633100.2811\n",
      "Training LDA model with 6 topics...\n",
      "Coherence Score for 6 topics: -632358.3622\n",
      "Training LDA model with 7 topics...\n",
      "Coherence Score for 7 topics: -631075.6589\n",
      "Training LDA model with 8 topics...\n",
      "Coherence Score for 8 topics: -633649.7973\n",
      "Training LDA model with 9 topics...\n",
      "Coherence Score for 9 topics: -632031.3703\n"
     ]
    }
   ]
  },
  {
   "cell_type": "code",
   "source": [
    "#visualiasasi coherence score\n",
    "import matplotlib.pyplot as plt\n",
    "\n",
    "plt.plot(topic_numbers, coherence_values)\n",
    "plt.xlabel(\"Number of Topics\")\n",
    "plt.ylabel(\"Coherence Score\")\n",
    "plt.title(\"Coherence Scores vs. Number of Topics\")\n",
    "plt.show()"
   ],
   "metadata": {
    "colab": {
     "base_uri": "https://localhost:8080/",
     "height": 472
    },
    "id": "3lK9FL7J6pT3",
    "outputId": "0a336324-c7a9-40d6-fc70-d5bf670e5269"
   },
   "execution_count": 22,
   "outputs": [
    {
     "output_type": "display_data",
     "data": {
      "text/plain": [
       "<Figure size 640x480 with 1 Axes>"
      ],
      "image/png": "[encoded data removed]"
     },
     "metadata": {}
    }
   ]
  },
  {
   "cell_type": "markdown",
   "source": [
    "## *Result*\n",
    "Nilai U-Mass Coherence Score merupkan metrik negatif, dimana artinya nilai yang lebih mendekati nol berarti lebih baik. Berdasarkan grafik ditas nilai tertinggi (paling mendekati nol) pada jumlah topik 7.\n",
    "\n"
   ],
   "metadata": {
    "id": "zLgPKC0E_f_h"
   }
  },
  {
   "cell_type": "code",
   "source": [
    "#fungsi untuk menemukan jumlah topik yang optimal berdasarkan nilai coherence\n",
    "best_topik          = coherence_values.index(max(coherence_values))\n",
    "optimal_num_topics  = topic_numbers[best_topik]\n",
    "optimal_lda_model   = model_list[best_topik]\n",
    "\n",
    "print(f\"Jumlah topik optimal berdasarkan Coherence Score: {optimal_num_topics}\")"
   ],
   "metadata": {
    "colab": {
     "base_uri": "https://localhost:8080/",
     "height": 0
    },
    "id": "zh2JQJN760eb",
    "outputId": "160bb7d6-d235-479b-d153-99dd2872167c"
   },
   "execution_count": 23,
   "outputs": [
    {
     "output_type": "stream",
     "name": "stdout",
     "text": [
      "Jumlah topik optimal berdasarkan Coherence Score: 7\n"
     ]
    }
   ]
  },
  {
   "cell_type": "code",
   "source": [
    "# Menggunakan fungsi get_topic yang didefinisikan sebelumnya untuk mencetak kata-kata teratas untuk setiap topik\n",
    "def get_topic(model, feature_names, n_top_words=15):\n",
    "    for topic_idx, topic in enumerate(model.components_):\n",
    "        print(f\"Topic #{topic_idx}:\")\n",
    "        print(\" \".join([feature_names[i]\n",
    "                          for i in topic.argsort()[:-n_top_words - 1:-1]]))\n",
    "\n",
    "# Dengan asumsi 'vocab' dan 'get_topic' tersedia dari sel sebelumnya\n",
    "print(f\"\\nTop words for each topic in the optimal {optimal_num_topics}-topic model:\")\n",
    "get_topic(optimal_lda_model, vocab)"
   ],
   "metadata": {
    "id": "WkOZHv-D6Enr",
    "colab": {
     "base_uri": "https://localhost:8080/",
     "height": 0
    },
    "outputId": "16b5f909-fbc0-4f03-a19b-89ae317a961e"
   },
   "execution_count": 24,
   "outputs": [
    {
     "output_type": "stream",
     "name": "stdout",
     "text": [
      "\n",
      "Top words for each topic in the optimal 7-topic model:\n",
      "Topic #0:\n",
      "corona pandemi makan bikin sakit pandemi corona seks gara sebab waspada kenal beda buka ciri pasang\n",
      "Topic #1:\n",
      "corona virus virus corona positif covid indonesia pasien positif corona sebar tular infeksi corona covid positif virus gejala corona indonesia\n",
      "Topic #2:\n",
      "cinta pria wanita medis atas tips disinfektan pneumonia tidur banjir china korban orgasme tenaga orang\n",
      "Topic #3:\n",
      "sehat corona manfaat new normal new normal hadap jantung rumah didi kempot didi kempot pulang minum psbb\n",
      "Topic #4:\n",
      "masker pakai corona viral cegah pakai masker banjir fakta hati sanitizer hand sanitizer hand jam cuci cegah corona\n",
      "Topic #5:\n",
      "corona pasien virus pasien corona virus corona tular tingkat dokter mati sembuh anak obat who persen wabah\n",
      "Topic #6:\n",
      "tinggal corona indonesia sembuh corona indonesia sembuh tinggal pasien sebar positif pasien virus positif sembuh update update corona virus corona virus\n"
     ]
    }
   ]
  },
  {
   "cell_type": "code",
   "source": [
    "# Dapatkan distribusi dokumen-topik untuk model optimal\n",
    "optimal_lda_matrix = optimal_lda_model.transform(bow_matrix)\n",
    "\n",
    "# Anda kemudian dapat menambahkan informasi ini kembali ke DataFrame Anda\n",
    "# Misalnya, menemukan topik dominan untuk setiap dokumen:\n",
    "df['dominant_topic'] = optimal_lda_matrix.argmax(axis=1)\n",
    "\n",
    "\n",
    "print(\"\\nDataFrame with dominant topic assigned:\")\n",
    "print(df.head())"
   ],
   "metadata": {
    "colab": {
     "base_uri": "https://localhost:8080/",
     "height": 0
    },
    "id": "PpIAeAIV7kuw",
    "outputId": "92af0773-cce2-4b44-c6f1-b8392e2945b6"
   },
   "execution_count": 25,
   "outputs": [
    {
     "output_type": "stream",
     "name": "stdout",
     "text": [
      "\n",
      "DataFrame with dominant topic assigned:\n",
      "         date                                                url  \\\n",
      "0  02/17/2020  https://health.detik.com/sexual-health/d-49029...   \n",
      "1  02/17/2020  https://health.detik.com/sexual-health/d-49028...   \n",
      "2  02/17/2020  https://health.detik.com/berita-detikhealth/d-...   \n",
      "3  02/17/2020  https://health.detik.com/sexual-health/d-49029...   \n",
      "4  02/17/2020  https://health.detik.com/berita-detikhealth/d-...   \n",
      "\n",
      "                                               title category  \\\n",
      "0  Pemuda Sulsel Curi CD dan Bra Emak-emak, Terma...   health   \n",
      "1  Pemuda di Sulsel Curi Bra dan 'CD' Emak-emak, ...   health   \n",
      "2  Netizen Sebut Health Alert Card Ribet dan Tak ...   health   \n",
      "3  Apa yang Bikin Seks Terasa Menyenangkan? Riset...   health   \n",
      "4   Studi Mengatakan COVID-19 Tidak Menular ke Janin   health   \n",
      "\n",
      "                                  text_preprocessing  dominant_topic  \n",
      "0  pemuda sulsel curi bra emak emak fetish ganggu...               3  \n",
      "1  pemuda sulsel curi bra emak emak ilmu hitam fe...               3  \n",
      "2   netizen health alert card ribet efektif kemenkes               2  \n",
      "3               bikin seks senang riset ungkap jawab               0  \n",
      "4                            studi covid tular janin               1  \n"
     ]
    }
   ]
  },
  {
   "cell_type": "markdown",
   "source": [
    "## *Visualisasi LDA*\n",
    "\n"
   ],
   "metadata": {
    "id": "CSuzlx8zHulQ"
   }
  },
  {
   "cell_type": "code",
   "source": [
    "!pip install pyLDAvis==3.3.1 --no-deps"
   ],
   "metadata": {
    "colab": {
     "base_uri": "https://localhost:8080/",
     "height": 0
    },
    "id": "VFJgqDSJ4GW1",
    "outputId": "cbe461df-51ef-44c0-fc03-d07c2488ec14"
   },
   "execution_count": 26,
   "outputs": [
    {
     "output_type": "stream",
     "name": "stdout",
     "text": [
      "Collecting pyLDAvis==3.3.1\n",
      "  Downloading pyLDAvis-3.3.1.tar.gz (1.7 MB)\n",
      "\u001b[?25l     \u001b[90m\u2501\u2501\u2501\u2501\u2501\u2501\u2501\u2501\u2501\u2501\u2501\u2501\u2501\u2501\u2501\u2501\u2501\u2501\u2501\u2501\u2501\u2501\u2501\u2501\u2501\u2501\u2501\u2501\u2501\u2501\u2501\u2501\u2501\u2501\u2501\u2501\u2501\u2501\u2501\u2501\u001b[0m \u001b[32m0.0/1.7 MB\u001b[0m \u001b[31m?\u001b[0m eta \u001b[36m-:--:--\u001b[0m\r\u001b[2K     \u001b[91m\u2501\u2501\u2501\u2501\u2501\u2501\u2501\u2501\u2501\u2501\u2501\u2501\u2501\u2501\u2501\u2501\u2501\u2501\u2501\u2501\u2501\u2501\u2501\u2501\u2501\u001b[0m\u001b[90m\u257a\u001b[0m\u001b[90m\u2501\u2501\u2501\u2501\u2501\u2501\u2501\u2501\u2501\u2501\u2501\u2501\u2501\u2501\u001b[0m \u001b[32m1.0/1.7 MB\u001b[0m \u001b[31m32.4 MB/s\u001b[0m eta \u001b[36m0:00:01\u001b[0m\r\u001b[2K     \u001b[90m\u2501\u2501\u2501\u2501\u2501\u2501\u2501\u2501\u2501\u2501\u2501\u2501\u2501\u2501\u2501\u2501\u2501\u2501\u2501\u2501\u2501\u2501\u2501\u2501\u2501\u2501\u2501\u2501\u2501\u2501\u2501\u2501\u2501\u2501\u2501\u2501\u2501\u2501\u2501\u2501\u001b[0m \u001b[32m1.7/1.7 MB\u001b[0m \u001b[31m27.5 MB/s\u001b[0m eta \u001b[36m0:00:00\u001b[0m\n",
      "\u001b[?25h  Installing build dependencies ... \u001b[?25l\u001b[?25hdone\n",
      "  Getting requirements to build wheel ... \u001b[?25l\u001b[?25hdone\n",
      "  Preparing metadata (pyproject.toml) ... \u001b[?25l\u001b[?25hdone\n",
      "Building wheels for collected packages: pyLDAvis\n",
      "  Building wheel for pyLDAvis (pyproject.toml) ... \u001b[?25l\u001b[?25hdone\n",
      "  Created wheel for pyLDAvis: filename=pyldavis-3.3.1-py2.py3-none-any.whl size=136992 sha256=a0c924253c48cb58ba582fd17acd34a70c3608138b114daaaa628ac4d5d762c6\n",
      "  Stored in directory: /root/.cache/pip/wheels/ab/66/6b/e8fa7651eb6221f8ec10250e4c3f3c46d8c8e0ba51179101ab\n",
      "Successfully built pyLDAvis\n",
      "Installing collected packages: pyLDAvis\n",
      "Successfully installed pyLDAvis-3.3.1\n"
     ]
    }
   ]
  },
  {
   "cell_type": "code",
   "source": [
    "!pip install -U scikit-learn"
   ],
   "metadata": {
    "colab": {
     "base_uri": "https://localhost:8080/",
     "height": 0
    },
    "id": "jqdJ5cOa4YVB",
    "outputId": "dbf52944-76d5-4a0a-e94e-f7cd6b7447d9"
   },
   "execution_count": 27,
   "outputs": [
    {
     "output_type": "stream",
     "name": "stdout",
     "text": [
      "Requirement already satisfied: scikit-learn in /usr/local/lib/python3.11/dist-packages (1.6.1)\n",
      "Collecting scikit-learn\n",
      "  Downloading scikit_learn-1.7.0-cp311-cp311-manylinux_2_17_x86_64.manylinux2014_x86_64.whl.metadata (17 kB)\n",
      "Requirement already satisfied: numpy>=1.22.0 in /usr/local/lib/python3.11/dist-packages (from scikit-learn) (1.24.4)\n",
      "Requirement already satisfied: scipy>=1.8.0 in /usr/local/lib/python3.11/dist-packages (from scikit-learn) (1.15.3)\n",
      "Requirement already satisfied: joblib>=1.2.0 in /usr/local/lib/python3.11/dist-packages (from scikit-learn) (1.5.1)\n",
      "Requirement already satisfied: threadpoolctl>=3.1.0 in /usr/local/lib/python3.11/dist-packages (from scikit-learn) (3.6.0)\n",
      "Downloading scikit_learn-1.7.0-cp311-cp311-manylinux_2_17_x86_64.manylinux2014_x86_64.whl (12.9 MB)\n",
      "\u001b[2K   \u001b[90m\u2501\u2501\u2501\u2501\u2501\u2501\u2501\u2501\u2501\u2501\u2501\u2501\u2501\u2501\u2501\u2501\u2501\u2501\u2501\u2501\u2501\u2501\u2501\u2501\u2501\u2501\u2501\u2501\u2501\u2501\u2501\u2501\u2501\u2501\u2501\u2501\u2501\u2501\u2501\u2501\u001b[0m \u001b[32m12.9/12.9 MB\u001b[0m \u001b[31m54.0 MB/s\u001b[0m eta \u001b[36m0:00:00\u001b[0m\n",
      "\u001b[?25hInstalling collected packages: scikit-learn\n",
      "  Attempting uninstall: scikit-learn\n",
      "    Found existing installation: scikit-learn 1.6.1\n",
      "    Uninstalling scikit-learn-1.6.1:\n",
      "      Successfully uninstalled scikit-learn-1.6.1\n",
      "\u001b[31mERROR: pip's dependency resolver does not currently take into account all the packages that are installed. This behaviour is the source of the following dependency conflicts.\n",
      "pyldavis 3.3.1 requires funcy, which is not installed.\n",
      "pyldavis 3.3.1 requires gensim, which is not installed.\n",
      "pyldavis 3.3.1 requires sklearn, which is not installed.\n",
      "sklearn-compat 0.1.3 requires scikit-learn<1.7,>=1.2, but you have scikit-learn 1.7.0 which is incompatible.\u001b[0m\u001b[31m\n",
      "\u001b[0mSuccessfully installed scikit-learn-1.7.0\n"
     ]
    }
   ]
  },
  {
   "cell_type": "code",
   "source": [
    "!pip install funcy"
   ],
   "metadata": {
    "colab": {
     "base_uri": "https://localhost:8080/",
     "height": 0
    },
    "id": "9MeLYkM43kQC",
    "outputId": "192abb7a-f04a-46ee-f77b-a30c5e6506ed"
   },
   "execution_count": 28,
   "outputs": [
    {
     "output_type": "stream",
     "name": "stdout",
     "text": [
      "Collecting funcy\n",
      "  Downloading funcy-2.0-py2.py3-none-any.whl.metadata (5.9 kB)\n",
      "Downloading funcy-2.0-py2.py3-none-any.whl (30 kB)\n",
      "Installing collected packages: funcy\n",
      "\u001b[31mERROR: pip's dependency resolver does not currently take into account all the packages that are installed. This behaviour is the source of the following dependency conflicts.\n",
      "pyldavis 3.3.1 requires gensim, which is not installed.\n",
      "pyldavis 3.3.1 requires sklearn, which is not installed.\u001b[0m\u001b[31m\n",
      "\u001b[0mSuccessfully installed funcy-2.0\n"
     ]
    }
   ]
  },
  {
   "cell_type": "code",
   "source": [
    "import pyLDAvis\n",
    "import pyLDAvis.sklearn"
   ],
   "metadata": {
    "id": "5nYGXfNc4BS2"
   },
   "execution_count": 29,
   "outputs": []
  },
  {
   "cell_type": "code",
   "source": [
    "# patch tambahan untuk mengecek CountVectorizer memiliki fungsi get_feature_names\n",
    "from sklearn.feature_extraction.text import CountVectorizer\n",
    "if not hasattr(CountVectorizer, 'get_feature_names'):\n",
    "    def get_feature_names(self):\n",
    "        return self.get_feature_names_out()\n",
    "    CountVectorizer.get_feature_names = get_feature_names"
   ],
   "metadata": {
    "id": "sOTSXqnS7h9a"
   },
   "execution_count": 30,
   "outputs": []
  },
  {
   "cell_type": "code",
   "source": [
    "pyLDAvis.enable_notebook() # fungsi untuk menampilkan visualisasi langsung di Jupyter Notebook\n",
    "\n",
    "# Menyiapkan visualisasi dengan model LDA yang sudah dilatih\n",
    "panel = pyLDAvis.sklearn.prepare(optimal_lda_model,    # Model LDA yang sudah dilatih sebelumnya\n",
    "                                 bow_matrix,           # Matriks hasil vektorisasi teks dari CountVectorizer\n",
    "                                 bow                   # Objek CountVectorizer itu sendiri (untuk akses ke get_feature_names_out)\n",
    "                                 )\n",
    "panel"
   ],
   "metadata": {
    "colab": {
     "base_uri": "https://localhost:8080/",
     "height": 916
    },
    "id": "Z2n_Blxc44ya",
    "outputId": "ffeb4b8d-e838-43aa-b962-9ab7cde01db9"
   },
   "execution_count": 31,
   "outputs": [
    {
     "output_type": "stream",
     "name": "stderr",
     "text": [
      "/usr/local/lib/python3.11/dist-packages/pyLDAvis/_prepare.py:247: FutureWarning: In a future version of pandas all arguments of DataFrame.drop except for the argument 'labels' will be keyword-only.\n",
      "  by='saliency', ascending=False).head(R).drop('saliency', 1)\n"
     ]
    },
    {
     "output_type": "execute_result",
     "data": {
      "text/plain": [
       "PreparedData(topic_coordinates=              x         y  topics  cluster       Freq\n",
       "topic                                                \n",
       "1      0.209112 -0.038799       1        1  21.949883\n",
       "5      0.142207 -0.051939       2        1  17.814754\n",
       "6      0.249975  0.024282       3        1  15.170617\n",
       "0     -0.137154  0.077050       4        1  12.388883\n",
       "4     -0.149436 -0.084203       5        1  12.203142\n",
       "3     -0.115372  0.263070       6        1  10.942309\n",
       "2     -0.199332 -0.189460       7        1   9.530412, topic_info=             Term        Freq       Total Category  logprob  loglift\n",
       "693         virus  386.000000  386.000000  Default  30.0000  30.0000\n",
       "694  virus corona  364.000000  364.000000  Default  29.0000  29.0000\n",
       "645       tinggal  182.000000  182.000000  Default  28.0000  28.0000\n",
       "375        masker   99.000000   99.000000  Default  27.0000  27.0000\n",
       "250     indonesia  162.000000  162.000000  Default  26.0000  26.0000\n",
       "..            ...         ...         ...      ...      ...      ...\n",
       "576        serang   10.537544   18.360377   Topic7  -4.7391   1.7954\n",
       "502         puasa   12.436172   35.452064   Topic7  -4.5734   1.3031\n",
       "651       tingkat   12.319165   55.509256   Topic7  -4.5829   0.8453\n",
       "564         sehat   12.083240   85.914549   Topic7  -4.6022   0.3891\n",
       "129         covid   11.526225  111.848975   Topic7  -4.6494   0.0782\n",
       "\n",
       "[388 rows x 6 columns], token_table=      Topic      Freq         Term\n",
       "term                              \n",
       "1         1  0.299539         ahli\n",
       "1         2  0.108923         ahli\n",
       "1         4  0.326770         ahli\n",
       "1         5  0.108923         ahli\n",
       "1         6  0.108923         ahli\n",
       "...     ...       ...          ...\n",
       "712       4  0.191045          wni\n",
       "713       1  0.933145  wni positif\n",
       "716       1  0.369627        wuhan\n",
       "716       2  0.184814        wuhan\n",
       "716       4  0.406590        wuhan\n",
       "\n",
       "[530 rows x 3 columns], R=30, lambda_step=0.01, plot_opts={'xlab': 'PC1', 'ylab': 'PC2'}, topic_order=[2, 6, 7, 1, 5, 4, 3])"
      ],
      "text/html": [
       "\n",
       "<link rel=\"stylesheet\" type=\"text/css\" href=\"https://cdn.jsdelivr.net/gh/bmabey/pyLDAvis@3.3.1/pyLDAvis/js/ldavis.v1.0.0.css\">\n",
       "\n",
       "\n",
       "<div id=\"ldavis_el8161397787721388321535669854\"></div>\n",
       "<script type=\"text/javascript\">\n",
       "\n",
       "var ldavis_el8161397787721388321535669854_data = {\"mdsDat\": {\"x\": [0.2091117720651273, 0.14220741231436188, 0.24997466576744062, -0.1371537667087205, -0.1494357044169874, -0.11537221871408374, -0.19933216030713788], \"y\": [-0.03879918154813443, -0.05193918445908305, 0.024281520718301315, 0.07704980828592044, -0.08420303830632991, 0.26306978782863844, -0.18945971251931293], \"topics\": [1, 2, 3, 4, 5, 6, 7], \"cluster\": [1, 1, 1, 1, 1, 1, 1], \"Freq\": [21.949883082253198, 17.814754458546464, 15.17061731834913, 12.388883155014224, 12.203141787554209, 10.942308605104959, 9.530411593177824]}, \"tinfo\": {\"Term\": [\"virus\", \"virus corona\", \"tinggal\", \"masker\", \"indonesia\", \"sembuh\", \"corona\", \"pakai\", \"corona indonesia\", \"sehat\", \"positif\", \"pasien\", \"sembuh tinggal\", \"cinta\", \"covid\", \"pandemi\", \"sebar\", \"manfaat\", \"wanita\", \"pasien corona\", \"new\", \"viral\", \"normal\", \"tular\", \"makan\", \"banjir\", \"pria\", \"bikin\", \"tingkat\", \"atas\", \"positif corona\", \"corona covid\", \"positif virus\", \"infeksi virus\", \"sebar positif\", \"tambah\", \"pasien positif\", \"gelombang\", \"positif covid\", \"demam\", \"tambah corona\", \"gejala virus\", \"sebar virus\", \"corona fakta\", \"pasien isolasi\", \"wni positif\", \"rawat\", \"resmi\", \"bantah\", \"corona mei\", \"pandemi virus\", \"tangan corona\", \"akibat virus\", \"hoax\", \"gejala infeksi\", \"iran\", \"waspada virus\", \"umum\", \"kena virus\", \"rawat pasien\", \"covid\", \"infeksi\", \"virus corona\", \"virus\", \"jepang\", \"positif\", \"tular virus\", \"corona\", \"wni\", \"corona tembus\", \"sebar\", \"tular\", \"negara\", \"gejala\", \"infeksi corona\", \"indonesia\", \"rentan\", \"pasien\", \"kemenkes\", \"cegah virus\", \"orang\", \"who\", \"april\", \"china\", \"corona indonesia\", \"cegah\", \"indonesia april\", \"tangan\", \"persen\", \"vaksin\", \"uji\", \"sembuh corona\", \"tingkat mati\", \"mati corona\", \"tular corona\", \"tinggal tingkat\", \"corona persen\", \"vaksin corona\", \"tahan\", \"uji coba\", \"wabah corona\", \"rekor\", \"plasma\", \"plasma darah\", \"corona sembuh\", \"musim\", \"klorokuin\", \"corona dokter\", \"obat corona\", \"tangan pasien\", \"hujan\", \"inggris\", \"anak anak\", \"corona tahan\", \"tahan tubuh\", \"klaim\", \"wabah virus\", \"daya\", \"pasien corona\", \"anak\", \"tingkat\", \"wabah\", \"mati\", \"obat\", \"ilmuwan\", \"corona tular\", \"corona\", \"pasien\", \"tular\", \"who\", \"dokter\", \"darah\", \"sembuh\", \"virus\", \"virus corona\", \"china\", \"risiko\", \"tinggal\", \"sembuh tinggal\", \"positif sembuh\", \"update\", \"update corona\", \"sebar pasien\", \"indonesia sembuh\", \"april positif\", \"total\", \"spesimen\", \"indonesia juni\", \"tembus ribu\", \"mati akibat\", \"istri\", \"akibat corona\", \"antraks\", \"mei positif\", \"irawan\", \"ria\", \"ria irawan\", \"ribu spesimen\", \"spesimen periksa\", \"tinggal akibat\", \"odp\", \"miss\", \"juni\", \"juni positif\", \"odp pdp\", \"periksa total\", \"total odp\", \"indonesia tinggal\", \"corona tinggal\", \"tinggal\", \"ribu\", \"corona indonesia\", \"sembuh\", \"pasien virus\", \"akibat\", \"indonesia\", \"periksa\", \"sebar\", \"pasien\", \"corona\", \"ginjal\", \"positif\", \"tembus\", \"indonesia april\", \"april\", \"virus corona\", \"virus\", \"kenal\", \"sebab\", \"sakit\", \"dokter\", \"gara\", \"ciri\", \"pasang\", \"krl\", \"kota\", \"tumpang\", \"gara gara\", \"reynhard\", \"reynhard sinaga\", \"sinaga\", \"boba\", \"test\", \"kolesterol\", \"bersih\", \"deteksi\", \"bangun\", \"perut\", \"psikopat\", \"berat badan\", \"ciri ciri\", \"trik\", \"gizi\", \"tumpang krl\", \"distancing\", \"sakit jantung\", \"rapid\", \"rapid test\", \"bangun tidur\", \"telur\", \"kim\", \"makan\", \"pandemi\", \"badan\", \"pandemi corona\", \"aman\", \"bikin\", \"berat\", \"sakit\", \"buka\", \"seks\", \"waspada\", \"buka puasa\", \"beda\", \"studi\", \"sebab\", \"populer\", \"populer pek\", \"kenal\", \"corona\", \"viral\", \"wanita\", \"risiko\", \"tips\", \"ahli\", \"wuhan\", \"masker\", \"pakai masker\", \"hati\", \"hand\", \"hand sanitizer\", \"sanitizer\", \"jam\", \"cuci\", \"kain\", \"masker kain\", \"jemur\", \"mata\", \"hati hati\", \"tewas\", \"keluarga\", \"cuci tangan\", \"masyarakat\", \"pilih\", \"baju\", \"tisu\", \"paru paru\", \"sih\", \"genset\", \"basah\", \"diet\", \"narkoba\", \"bikin masker\", \"genang\", \"wajib pakai\", \"bahan\", \"pakai\", \"tangkal\", \"cegah corona\", \"tangkal corona\", \"paru\", \"viral\", \"fakta\", \"wajib\", \"banjir\", \"cegah\", \"langka\", \"baik\", \"alas\", \"bikin\", \"corona\", \"tips\", \"dokter\", \"tangan\", \"warga\", \"manfaat\", \"new\", \"normal\", \"new normal\", \"hadap\", \"didi kempot\", \"kempot\", \"didi\", \"pulang\", \"psbb\", \"henti\", \"negatif\", \"saroso\", \"rspi sulianti\", \"sulianti\", \"sulianti saroso\", \"kempot tinggal\", \"era\", \"era new\", \"suspek corona\", \"imbas\", \"henti jantung\", \"gila\", \"salah satu\", \"satu\", \"minum air\", \"imbas corona\", \"siap\", \"transisi\", \"hadap corona\", \"sehat\", \"pesan\", \"atur\", \"suspek\", \"rspi\", \"salah\", \"minum\", \"tes\", \"jantung\", \"rumah\", \"corona\", \"puasa\", \"tinggal\", \"olahraga\", \"pandemi\", \"cinta\", \"atas\", \"disinfektan\", \"pneumonia\", \"orgasme\", \"tenaga\", \"tenaga medis\", \"posisi\", \"psikolog\", \"korban banjir\", \"semprot\", \"butuh\", \"pneumonia misterius\", \"bilik\", \"wfh\", \"hipotermia\", \"sarinah\", \"lelah\", \"tim\", \"posisi seks\", \"reisa\", \"pasien covid\", \"mcd\", \"mcd sarinah\", \"bpjs sehat\", \"susah\", \"ruang isolasi\", \"medis\", \"misterius\", \"korban\", \"mudah\", \"pria\", \"wanita\", \"tidur\", \"lho\", \"isolasi\", \"tips\", \"tugas\", \"banjir\", \"tubuh\", \"orang\", \"china\", \"saran\", \"serang\", \"puasa\", \"tingkat\", \"sehat\", \"covid\"], \"Freq\": [386.0, 364.0, 182.0, 99.0, 162.0, 125.0, 934.0, 86.0, 106.0, 85.0, 136.0, 192.0, 58.0, 45.0, 111.0, 63.0, 84.0, 37.0, 48.0, 62.0, 36.0, 54.0, 35.0, 84.0, 46.0, 48.0, 47.0, 57.0, 55.0, 29.0, 47.867085713644386, 34.76388390621077, 28.212333357738718, 20.724501820248406, 19.78878134619, 16.980224776604313, 13.23677737794354, 11.364309874630703, 9.493071815872947, 8.556319544158885, 7.621379731324822, 7.621249869136144, 7.620996040210843, 7.620679972810362, 7.620248897346918, 6.68504444829338, 6.684907514770667, 6.684859606929251, 6.684404508128128, 5.749461864333822, 5.749009361220151, 5.748882452644791, 5.748713853108491, 11.333763761902263, 4.813393406031179, 4.813323376473369, 4.813211822142483, 4.813214591689156, 4.8131632475193165, 4.812795010455974, 93.82308089171703, 40.188452228250604, 283.68977054558206, 297.250124921191, 8.55873902556198, 97.33572680641531, 21.120489895805566, 380.89278035809417, 18.24879475667237, 8.254482724581075, 43.221946696158504, 40.77924113727277, 18.770321416596648, 28.164205818466556, 11.967543691202238, 55.04101160948812, 11.373906518181572, 53.766829921779504, 19.045960083471776, 12.603832927831785, 22.08738711880395, 21.44777192358741, 16.981400696619055, 21.61352257754084, 23.41639012434886, 20.886391026854174, 14.172103800269008, 14.905057018185238, 28.466748745614932, 24.81062545579149, 24.810321252910445, 22.068295865479126, 18.41231086725194, 17.49823639831252, 17.497465441235615, 14.755977064602485, 13.841851408774428, 13.841793870576781, 18.869519829452788, 11.099676304273986, 11.099141084248652, 11.09780682547524, 10.185468617317, 10.185468617317, 10.185118724794899, 10.18504165221011, 10.18498922078729, 10.184948121347064, 9.27104187559208, 9.270671244353581, 9.270656478722897, 14.233154953572937, 8.356635314371998, 7.443187629179227, 7.4429737359829655, 14.754748946753052, 6.528957263555861, 6.528831528651607, 53.945582143721886, 35.211560443264396, 42.507904294910894, 26.899968008331967, 36.52384902116657, 30.182637246796034, 17.595808786096082, 13.02337525854763, 271.58204321125044, 78.54187015726166, 42.70198040062043, 29.382265637279474, 38.26882778574216, 16.354668635390215, 35.27755321307895, 56.50900946247193, 47.71159074143721, 20.386025953687316, 15.544924241661151, 17.241012404822666, 57.51376662987637, 34.174791737625114, 34.17479002217195, 33.20236018852367, 26.39519772834503, 25.422751795393566, 14.725746849218853, 12.780574564330436, 12.780293296088274, 11.8083119462727, 11.808222337166752, 10.835542463073624, 10.835518531489033, 9.863297029655332, 8.890650768757764, 7.918561879693839, 7.9185618056508, 7.9185618056508, 7.9185618056508, 7.918493158608391, 7.918473532672197, 7.918278137346934, 7.918076043118618, 7.91607314906508, 25.423683104198282, 6.946106883299895, 6.946106841746306, 6.946106841746306, 6.946106841746306, 6.94601105173865, 15.535608035438171, 148.3921732709073, 27.602403142915904, 81.94575406115851, 88.81515883701783, 37.36843938313748, 22.480984520270326, 103.50369860309712, 13.356678766724055, 40.946141342049785, 56.19141010989205, 123.2072278199324, 8.890940783677848, 38.207471433193, 14.827031058447437, 14.726774693287469, 15.699438967546843, 32.219227306052886, 32.109801834923644, 17.942164809793592, 14.556548325672548, 14.913664406833757, 13.903951679242697, 22.641380499259036, 17.014549414967846, 17.013323923078968, 14.200599584461331, 14.200513281241642, 12.324715791614219, 11.387533229118606, 10.449954950062276, 10.449954950062276, 10.449954950062276, 10.449693191933175, 9.512032710599565, 9.511676928832738, 8.57344404378055, 8.507201470724087, 7.636142249915958, 7.59624157552647, 6.698694892327148, 6.698643580906415, 6.698580603217545, 6.698401232164726, 6.698395960251456, 6.69834061570294, 6.69810625681918, 6.698090651927029, 5.760676359607402, 5.760676359607402, 5.760475288791134, 5.760457037459107, 5.7604518643979015, 38.31006820489235, 50.22891572140804, 10.450902459600972, 31.49308695120369, 14.201801022119206, 35.54090564741908, 12.141079673693882, 35.07728407335897, 17.19399814728895, 22.73727119507686, 19.714111805419577, 8.444981591975154, 18.61160010363607, 14.613345576397444, 21.45535612483121, 11.157880897117852, 10.353745553901112, 19.536919917606753, 62.94794929635254, 16.28274384469229, 15.196284819029325, 14.419148454824942, 13.514580287403481, 11.662106798872824, 11.008144238319163, 98.56371907749518, 30.715809726170182, 24.982044846500806, 23.070964568720225, 23.07096456872024, 23.07096456872024, 23.070326741049954, 21.15957816757999, 19.248644288278523, 17.337418670209463, 13.514700767354416, 13.514438147001941, 11.6034996548201, 11.602558457483942, 10.647444143960675, 9.692320586418761, 7.781036807530784, 7.78088956856761, 7.780797715432247, 7.7807832810188, 7.777595785095484, 19.810061499282263, 6.825739553413383, 6.825499320970369, 6.825212383348801, 6.823219320772505, 5.870129751339871, 5.870004665411852, 5.869961178974397, 5.869823756869137, 75.39508930056768, 19.334210483520735, 20.15533427329325, 14.48845469717627, 19.777684931254903, 37.18829954414402, 26.697546555230577, 10.09335004581558, 28.67500732827484, 36.328211020734024, 11.035415895677598, 14.743641235021336, 17.09995648139865, 17.152181591371587, 42.208855635870016, 15.224787141349259, 16.33518172281924, 13.880984393893735, 12.687370328515746, 36.95546585545628, 35.98698300088814, 35.01811908210569, 31.14265461408066, 20.47532460984449, 17.578213352367175, 17.578213352367175, 17.57821335236718, 17.57773965882044, 16.606824561923357, 16.58203686547092, 13.701986835580502, 12.733714449601452, 12.733714449601443, 12.73371444960144, 12.733714449601443, 10.796018693234839, 9.827205091917353, 9.827205091917355, 9.826961913489209, 10.63212146869848, 8.858352410472902, 8.858124822249998, 7.8892548372344455, 7.8892548372344455, 7.889038010439833, 7.889012827855977, 7.888812644063864, 6.92061559765162, 6.920114921811727, 69.25396031842978, 11.440743935883159, 10.565334827525014, 12.185872004125184, 14.091863710080856, 13.431597386293205, 17.002509756303464, 16.12423293907962, 20.439517974887508, 17.763325462812016, 53.102656243593465, 12.908190342557377, 16.443160301170437, 12.131956852421736, 11.21918074301689, 44.471233316443836, 29.050417169773095, 21.340328283859463, 20.376517409639728, 18.44928273683557, 18.4492156441114, 16.521669798753, 16.52152070138561, 14.593770129574256, 12.666704276887286, 11.702655447996351, 11.616837420670311, 9.775439989361328, 9.774920162943824, 8.811204653612375, 7.847839679461187, 7.847685407736743, 7.8471973088271065, 7.847065036077279, 6.8839724477247435, 6.883310148295102, 6.8826804488226285, 5.92011580205153, 5.92011580205153, 5.92010307861282, 5.919971926958999, 5.919736785424726, 29.616066078510087, 11.669395814897813, 19.154276161847687, 13.45993891972268, 33.401519552692555, 32.620964344149435, 19.567334120806972, 7.849230346358726, 15.934949803613588, 25.14068176880842, 7.8375739739007635, 19.543812451013643, 15.83717078978271, 18.116948951754107, 19.308044244853132, 14.23323810178577, 10.537544242513714, 12.436171550309748, 12.319165338359388, 12.083239637463834, 11.52622501746217], \"Total\": [386.0, 364.0, 182.0, 99.0, 162.0, 125.0, 934.0, 86.0, 106.0, 85.0, 136.0, 192.0, 58.0, 45.0, 111.0, 63.0, 84.0, 37.0, 48.0, 62.0, 36.0, 54.0, 35.0, 84.0, 46.0, 48.0, 47.0, 57.0, 55.0, 29.0, 48.68371562635957, 35.580289466118344, 29.028574798699648, 21.540897927626478, 20.604942201037527, 17.797080773336017, 14.053237941630032, 12.181309992186424, 10.30939013892895, 9.37345177996068, 8.437472650845677, 8.437473127402214, 8.437480641001782, 8.43749143342189, 8.437509361394028, 7.501512530530403, 7.501526489068208, 7.501515862297186, 7.501507808473573, 6.565554648719199, 6.5655555550748605, 6.565567720410519, 6.565580671599751, 13.146014815990444, 5.6295930933358465, 5.629596855598247, 5.629599583522724, 5.629604667791639, 5.629601085051029, 5.6296140521345945, 111.84897504241434, 48.50431832318973, 364.16757614045446, 386.41602480666864, 10.28762097436227, 136.22064135105902, 27.948790132366327, 934.0795449924224, 26.17179353032296, 10.352972839122279, 84.8456827797602, 84.16768682910059, 30.840230560025702, 54.3280537647179, 16.765891090417757, 162.15482967159207, 15.9326235513475, 192.2209704431646, 39.60161677752593, 19.704224758881786, 51.40789570730682, 52.66601597102446, 36.2231801218776, 61.8560026640271, 106.03952038621553, 81.408554143444, 29.57604913600145, 48.820497698457594, 29.286653703104317, 25.6302774863501, 25.630282009502665, 22.888010086599365, 19.231627091938897, 18.317533764590138, 18.317555003389906, 15.575261067139873, 14.661169999687267, 14.661171659324467, 20.16647443613902, 11.918892932196682, 11.918916987626208, 11.918991103627485, 11.00480860320455, 11.00480860320455, 11.004826198468667, 11.004824519180598, 11.004835774987855, 11.004829438267198, 10.0907276056047, 10.090749423835, 10.090746445798258, 15.60658710972434, 9.176658103561115, 8.262533468640521, 8.262546539724244, 16.539044203360707, 7.34844814329902, 7.34845819466068, 62.668232974697084, 43.17887507512883, 55.50925595889708, 34.093660881228814, 53.026059009015775, 43.487473984790014, 22.99541123053445, 15.616709736486357, 934.0795449924224, 192.2209704431646, 84.16768682910059, 52.66601597102446, 78.70714393351263, 24.086762099503055, 125.11164329296696, 386.41602480666864, 364.16757614045446, 61.8560026640271, 51.47679485516846, 182.6187819023259, 58.32464533869201, 34.985723042510564, 34.98572322656126, 34.01326977543936, 27.20608495532442, 26.23363050389672, 15.53662555895804, 13.591705934446672, 13.591694517626559, 12.619257951218927, 12.619252707114574, 11.64678825445588, 11.646794715111588, 10.674342290948923, 9.701887028474664, 8.729440593898975, 8.729440592227245, 8.729440592227245, 8.729440592227245, 8.72944034024068, 8.72943960457314, 8.729430809682382, 8.729428300705745, 8.72940336261685, 28.17139285360436, 7.756985598874459, 7.756985597941492, 7.756985597941492, 7.756985597941492, 7.756982778124618, 17.477355890708672, 182.6187819023259, 33.004404591993556, 106.03952038621553, 125.11164329296696, 49.13543920965458, 28.10753546379279, 162.15482967159207, 17.469357542255143, 84.8456827797602, 192.2209704431646, 934.0795449924224, 10.639735447143414, 136.22064135105902, 25.91484493908521, 29.57604913600145, 36.2231801218776, 364.16757614045446, 386.41602480666864, 59.13450663811202, 42.89454563590475, 62.55854310073623, 78.70714393351263, 23.457488582561968, 17.830565493432392, 17.830594575759033, 15.017110280057913, 15.017103961151967, 13.141463081913255, 12.203645584097302, 11.265824577267075, 11.265824577267075, 11.265824577267075, 11.265830961081102, 10.328002786448142, 10.328010886118543, 9.390196377916553, 9.388495453853338, 8.452374409447058, 8.45347744645807, 7.514542807045715, 7.5145429971353375, 7.514542580101839, 7.514549785502221, 7.514551850305589, 7.514549430035687, 7.514551405896845, 7.5145627211043875, 6.576721558045032, 6.576721558045032, 6.576734941120957, 6.576721049970791, 6.57673146221875, 46.19171861535174, 63.19909395783365, 12.234670936148172, 41.57310638114622, 18.882406694196312, 57.67368519662202, 15.948990102316921, 62.55854310073623, 25.575710744979066, 38.762132803560576, 32.98649540939302, 10.363347458596364, 32.049056657017054, 23.261259712506188, 42.89454563590475, 15.947032267101283, 14.073520934782051, 59.13450663811202, 934.0795449924224, 54.15774020419157, 48.72394817749997, 51.47679485516846, 54.422150958733255, 36.723039110492095, 27.054295379647385, 99.37769786129029, 31.529339786120186, 25.79567439676989, 23.884454694584896, 23.88445469458491, 23.88445469458491, 23.88444863871323, 21.973230041583633, 20.06201444625082, 18.150793192584867, 14.328346570239711, 14.328343759924543, 12.417124364989837, 12.417107461295027, 11.461518917505213, 10.505900994350966, 8.594685589557312, 8.594683207360779, 8.594669815160241, 8.594673674676343, 8.594733731756179, 21.945497486103253, 7.639073999948935, 7.639071926754828, 7.639074018061825, 7.639100701119992, 6.683464391934862, 6.683458254145443, 6.68346680150694, 6.683458251845006, 86.487874830538, 22.808015686133874, 23.905388821406994, 17.11292933908251, 24.716289930041157, 54.15774020419157, 41.8369134470995, 12.438090203157486, 48.894862399097065, 81.408554143444, 14.349539694735684, 23.769026290102904, 38.956930299836976, 57.67368519662202, 934.0795449924224, 54.422150958733255, 78.70714393351263, 48.820497698457594, 36.047791649699214, 37.76746657760277, 36.79858612559553, 35.8297004156119, 31.954158280750356, 21.295884909694248, 18.389750925124037, 18.389750925124037, 18.38975092512404, 18.389735523362813, 17.420832652349493, 17.419329625610825, 14.514179612741843, 13.545318366870212, 13.545318366870214, 13.545318366870214, 13.545318366870214, 11.607547544785808, 10.638661806470147, 10.638661806470148, 10.638655824323461, 11.601983494047873, 9.66977676592207, 9.669775536965522, 8.700882007597382, 8.700882007597382, 8.700877109811733, 8.700872066233199, 8.700865084582853, 7.732004261516318, 7.731994903471908, 85.91454932972239, 13.472201642769111, 12.565442314810133, 15.398616875548546, 19.335156692263766, 18.282717209925412, 27.74307158413716, 25.75372432748512, 40.43149963649689, 33.53667348722663, 934.0795449924224, 35.45206397933758, 182.6187819023259, 30.557690755226805, 63.19909395783365, 45.283778885460286, 29.86325671019809, 22.15299766908676, 21.18922128643279, 19.261659305036908, 19.261656849267187, 17.334092437233867, 17.334088464512362, 15.406527461732885, 13.47896680670735, 12.515177570425424, 12.515595529942493, 10.58762126253911, 10.58761512587547, 9.62383439840018, 8.660056157414402, 8.660059662245702, 8.660038314735328, 8.660035086118244, 7.696269623597455, 7.6962694437336845, 7.696258513739594, 6.7324950567642246, 6.7324950567642246, 6.732494539288641, 6.732482241647365, 6.732489462040664, 33.73580586773592, 13.452094914114474, 22.09411850839221, 16.262155572743293, 47.88970889818183, 48.72394817749997, 28.669992509893127, 9.59606375023097, 26.67718100954903, 54.422150958733255, 9.615571930130498, 48.894862399097065, 36.12034866136398, 51.40789570730682, 61.8560026640271, 38.15366714747955, 18.36037724371155, 35.45206397933758, 55.50925595889708, 85.91454932972239, 111.84897504241434], \"Category\": [\"Default\", \"Default\", \"Default\", \"Default\", \"Default\", \"Default\", \"Default\", \"Default\", \"Default\", \"Default\", \"Default\", \"Default\", \"Default\", \"Default\", \"Default\", \"Default\", \"Default\", \"Default\", \"Default\", \"Default\", \"Default\", \"Default\", \"Default\", \"Default\", \"Default\", \"Default\", \"Default\", \"Default\", \"Default\", \"Default\", \"Topic1\", \"Topic1\", \"Topic1\", \"Topic1\", \"Topic1\", \"Topic1\", \"Topic1\", \"Topic1\", \"Topic1\", \"Topic1\", \"Topic1\", \"Topic1\", \"Topic1\", \"Topic1\", \"Topic1\", \"Topic1\", \"Topic1\", \"Topic1\", \"Topic1\", \"Topic1\", \"Topic1\", \"Topic1\", \"Topic1\", \"Topic1\", \"Topic1\", \"Topic1\", \"Topic1\", \"Topic1\", \"Topic1\", \"Topic1\", \"Topic1\", \"Topic1\", \"Topic1\", \"Topic1\", \"Topic1\", \"Topic1\", \"Topic1\", \"Topic1\", \"Topic1\", \"Topic1\", \"Topic1\", \"Topic1\", \"Topic1\", \"Topic1\", \"Topic1\", \"Topic1\", \"Topic1\", \"Topic1\", \"Topic1\", \"Topic1\", \"Topic1\", \"Topic1\", \"Topic1\", \"Topic1\", \"Topic1\", \"Topic1\", \"Topic1\", \"Topic1\", \"Topic2\", \"Topic2\", \"Topic2\", \"Topic2\", \"Topic2\", \"Topic2\", \"Topic2\", \"Topic2\", \"Topic2\", \"Topic2\", \"Topic2\", \"Topic2\", \"Topic2\", \"Topic2\", \"Topic2\", \"Topic2\", \"Topic2\", \"Topic2\", \"Topic2\", \"Topic2\", \"Topic2\", \"Topic2\", \"Topic2\", \"Topic2\", \"Topic2\", \"Topic2\", \"Topic2\", \"Topic2\", \"Topic2\", \"Topic2\", \"Topic2\", \"Topic2\", \"Topic2\", \"Topic2\", \"Topic2\", \"Topic2\", \"Topic2\", \"Topic2\", \"Topic2\", \"Topic2\", \"Topic2\", \"Topic2\", \"Topic2\", \"Topic2\", \"Topic2\", \"Topic2\", \"Topic2\", \"Topic2\", \"Topic2\", \"Topic2\", \"Topic3\", \"Topic3\", \"Topic3\", \"Topic3\", \"Topic3\", \"Topic3\", \"Topic3\", \"Topic3\", \"Topic3\", \"Topic3\", \"Topic3\", \"Topic3\", \"Topic3\", \"Topic3\", \"Topic3\", \"Topic3\", \"Topic3\", \"Topic3\", \"Topic3\", \"Topic3\", \"Topic3\", \"Topic3\", \"Topic3\", \"Topic3\", \"Topic3\", \"Topic3\", \"Topic3\", \"Topic3\", \"Topic3\", \"Topic3\", \"Topic3\", \"Topic3\", \"Topic3\", \"Topic3\", \"Topic3\", \"Topic3\", \"Topic3\", \"Topic3\", \"Topic3\", \"Topic3\", \"Topic3\", \"Topic3\", \"Topic3\", \"Topic3\", \"Topic3\", \"Topic3\", \"Topic3\", \"Topic3\", \"Topic3\", \"Topic3\", \"Topic3\", \"Topic3\", \"Topic3\", \"Topic4\", \"Topic4\", \"Topic4\", \"Topic4\", \"Topic4\", \"Topic4\", \"Topic4\", \"Topic4\", \"Topic4\", \"Topic4\", \"Topic4\", \"Topic4\", \"Topic4\", \"Topic4\", \"Topic4\", \"Topic4\", \"Topic4\", \"Topic4\", \"Topic4\", \"Topic4\", \"Topic4\", \"Topic4\", \"Topic4\", \"Topic4\", \"Topic4\", \"Topic4\", \"Topic4\", \"Topic4\", \"Topic4\", \"Topic4\", \"Topic4\", \"Topic4\", \"Topic4\", \"Topic4\", \"Topic4\", \"Topic4\", \"Topic4\", \"Topic4\", \"Topic4\", \"Topic4\", \"Topic4\", \"Topic4\", \"Topic4\", \"Topic4\", \"Topic4\", \"Topic4\", \"Topic4\", \"Topic4\", \"Topic4\", \"Topic4\", \"Topic4\", \"Topic4\", \"Topic4\", \"Topic4\", \"Topic4\", \"Topic5\", \"Topic5\", \"Topic5\", \"Topic5\", \"Topic5\", \"Topic5\", \"Topic5\", \"Topic5\", \"Topic5\", \"Topic5\", \"Topic5\", \"Topic5\", \"Topic5\", \"Topic5\", \"Topic5\", \"Topic5\", \"Topic5\", \"Topic5\", \"Topic5\", \"Topic5\", \"Topic5\", \"Topic5\", \"Topic5\", \"Topic5\", \"Topic5\", \"Topic5\", \"Topic5\", \"Topic5\", \"Topic5\", \"Topic5\", \"Topic5\", \"Topic5\", \"Topic5\", \"Topic5\", \"Topic5\", \"Topic5\", \"Topic5\", \"Topic5\", \"Topic5\", \"Topic5\", \"Topic5\", \"Topic5\", \"Topic5\", \"Topic5\", \"Topic5\", \"Topic5\", \"Topic5\", \"Topic5\", \"Topic5\", \"Topic6\", \"Topic6\", \"Topic6\", \"Topic6\", \"Topic6\", \"Topic6\", \"Topic6\", \"Topic6\", \"Topic6\", \"Topic6\", \"Topic6\", \"Topic6\", \"Topic6\", \"Topic6\", \"Topic6\", \"Topic6\", \"Topic6\", \"Topic6\", \"Topic6\", \"Topic6\", \"Topic6\", \"Topic6\", \"Topic6\", \"Topic6\", \"Topic6\", \"Topic6\", \"Topic6\", \"Topic6\", \"Topic6\", \"Topic6\", \"Topic6\", \"Topic6\", \"Topic6\", \"Topic6\", \"Topic6\", \"Topic6\", \"Topic6\", \"Topic6\", \"Topic6\", \"Topic6\", \"Topic6\", \"Topic6\", \"Topic6\", \"Topic6\", \"Topic6\", \"Topic7\", \"Topic7\", \"Topic7\", \"Topic7\", \"Topic7\", \"Topic7\", \"Topic7\", \"Topic7\", \"Topic7\", \"Topic7\", \"Topic7\", \"Topic7\", \"Topic7\", \"Topic7\", \"Topic7\", \"Topic7\", \"Topic7\", \"Topic7\", \"Topic7\", \"Topic7\", \"Topic7\", \"Topic7\", \"Topic7\", \"Topic7\", \"Topic7\", \"Topic7\", \"Topic7\", \"Topic7\", \"Topic7\", \"Topic7\", \"Topic7\", \"Topic7\", \"Topic7\", \"Topic7\", \"Topic7\", \"Topic7\", \"Topic7\", \"Topic7\", \"Topic7\", \"Topic7\", \"Topic7\", \"Topic7\", \"Topic7\", \"Topic7\", \"Topic7\", \"Topic7\", \"Topic7\", \"Topic7\"], \"logprob\": [30.0, 29.0, 28.0, 27.0, 26.0, 25.0, 24.0, 23.0, 22.0, 21.0, 20.0, 19.0, 18.0, 17.0, 16.0, 15.0, 14.0, 13.0, 12.0, 11.0, 10.0, 9.0, 8.0, 7.0, 6.0, 5.0, 4.0, 3.0, 2.0, 1.0, -4.0599, -4.3797, -4.5885, -4.897, -4.9432, -5.0962, -5.3453, -5.4978, -5.6777, -5.7816, -5.8973, -5.8974, -5.8974, -5.8974, -5.8975, -6.0284, -6.0284, -6.0284, -6.0285, -6.1792, -6.1793, -6.1793, -6.1793, -5.5005, -6.3569, -6.3569, -6.3569, -6.3569, -6.3569, -6.357, -3.3869, -4.2347, -2.2804, -2.2337, -5.7813, -3.3501, -4.878, -1.9858, -5.0242, -5.8175, -4.1619, -4.2201, -4.996, -4.5902, -5.4461, -3.9202, -5.497, -3.9436, -4.9814, -5.3943, -4.8333, -4.8627, -5.0962, -4.855, -4.7749, -4.8892, -5.277, -5.2266, -4.3708, -4.5083, -4.5083, -4.6254, -4.8065, -4.8575, -4.8575, -5.0279, -5.0919, -5.0919, -4.782, -5.3126, -5.3127, -5.3128, -5.3986, -5.3986, -5.3986, -5.3986, -5.3986, -5.3986, -5.4927, -5.4927, -5.4927, -5.064, -5.5965, -5.7123, -5.7123, -5.028, -5.8433, -5.8433, -3.7316, -4.1582, -3.9699, -4.4274, -4.1216, -4.3123, -4.8519, -5.1528, -2.1153, -3.3559, -3.9653, -4.3392, -4.0749, -4.925, -4.1563, -3.6852, -3.8544, -4.7047, -4.9758, -4.8723, -3.5069, -4.0274, -4.0274, -4.0563, -4.2857, -4.3232, -4.8693, -5.011, -5.011, -5.0901, -5.0901, -5.1761, -5.1761, -5.2701, -5.3739, -5.4897, -5.4897, -5.4897, -5.4897, -5.4897, -5.4897, -5.4897, -5.4897, -5.49, -4.3232, -5.6207, -5.6207, -5.6207, -5.6207, -5.6207, -4.8158, -2.559, -4.241, -3.1528, -3.0723, -3.9381, -4.4462, -2.9193, -4.9669, -3.8466, -3.5301, -2.745, -5.3739, -3.9159, -4.8624, -4.8692, -4.8053, -4.0863, -4.0897, -4.6717, -4.8809, -4.8566, -4.9267, -4.2366, -4.5223, -4.5223, -4.703, -4.7031, -4.8447, -4.9238, -5.0097, -5.0097, -5.0097, -5.0098, -5.1038, -5.1038, -5.2077, -5.2154, -5.3234, -5.3287, -5.4544, -5.4544, -5.4544, -5.4545, -5.4545, -5.4545, -5.4545, -5.4545, -5.6053, -5.6053, -5.6053, -5.6053, -5.6053, -3.7106, -3.4397, -5.0096, -3.9066, -4.703, -3.7856, -4.8597, -3.7988, -4.5118, -4.2323, -4.375, -5.2228, -4.4325, -4.6744, -4.2904, -4.9442, -5.019, -4.384, -3.214, -4.5662, -4.6353, -4.6878, -4.7526, -4.9, -4.9577, -2.7505, -3.9164, -4.1231, -4.2026, -4.2026, -4.2026, -4.2027, -4.2891, -4.3838, -4.4884, -4.7374, -4.7375, -4.8899, -4.89, -4.9759, -5.0699, -5.2895, -5.2896, -5.2896, -5.2896, -5.29, -4.355, -5.4205, -5.4206, -5.4206, -5.4209, -5.5713, -5.5714, -5.5714, -5.5714, -3.0185, -4.3793, -4.3378, -4.6679, -4.3567, -3.7252, -4.0567, -5.0293, -3.9852, -3.7486, -4.9401, -4.6504, -4.5021, -4.4991, -3.5986, -4.6183, -4.5479, -4.7107, -4.8006, -3.6225, -3.649, -3.6763, -3.7936, -4.2129, -4.3655, -4.3655, -4.3655, -4.3655, -4.4224, -4.4238, -4.6146, -4.6879, -4.6879, -4.6879, -4.6879, -4.853, -4.947, -4.947, -4.947, -4.8683, -5.0508, -5.0508, -5.1667, -5.1667, -5.1667, -5.1667, -5.1667, -5.2977, -5.2977, -2.9944, -4.795, -4.8746, -4.7319, -4.5866, -4.6346, -4.3988, -4.4518, -4.2147, -4.355, -3.2599, -4.6743, -4.4323, -4.7363, -4.8145, -3.2992, -3.725, -4.0334, -4.0796, -4.179, -4.179, -4.2893, -4.2894, -4.4134, -4.555, -4.6342, -4.6416, -4.8141, -4.8142, -4.918, -5.0338, -5.0338, -5.0339, -5.0339, -5.1648, -5.1649, -5.165, -5.3157, -5.3157, -5.3157, -5.3157, -5.3157, -3.7057, -4.637, -4.1415, -4.4943, -3.5854, -3.6091, -4.1202, -5.0336, -4.3255, -3.8695, -5.0351, -4.1214, -4.3317, -4.1972, -4.1335, -4.4384, -4.7391, -4.5734, -4.5829, -4.6022, -4.6494], \"loglift\": [30.0, 29.0, 28.0, 27.0, 26.0, 25.0, 24.0, 23.0, 22.0, 21.0, 20.0, 19.0, 18.0, 17.0, 16.0, 15.0, 14.0, 13.0, 12.0, 11.0, 10.0, 9.0, 8.0, 7.0, 6.0, 5.0, 4.0, 3.0, 2.0, 1.0, 1.4995, 1.4932, 1.4879, 1.4778, 1.476, 1.4694, 1.4566, 1.447, 1.4339, 1.4252, 1.4147, 1.4147, 1.4146, 1.4146, 1.4145, 1.4012, 1.4012, 1.4011, 1.4011, 1.3837, 1.3836, 1.3836, 1.3835, 1.3681, 1.3598, 1.3598, 1.3597, 1.3597, 1.3597, 1.3596, 1.3407, 1.3283, 1.2667, 1.2541, 1.3324, 1.1803, 1.2363, 0.6194, 1.1558, 1.2899, 0.8419, 0.7918, 1.0199, 0.8594, 1.1793, 0.4359, 1.1794, 0.2424, 0.7844, 1.0696, 0.6716, 0.6181, 0.7588, 0.4649, 0.006, 0.156, 0.7807, 0.33, 1.6967, 1.6926, 1.6926, 1.6887, 1.6816, 1.6794, 1.6793, 1.6711, 1.6676, 1.6676, 1.6587, 1.6539, 1.6539, 1.6538, 1.6478, 1.6478, 1.6477, 1.6477, 1.6477, 1.6477, 1.6404, 1.6404, 1.6404, 1.633, 1.6315, 1.6207, 1.6207, 1.611, 1.6069, 1.6069, 1.5753, 1.5212, 1.4583, 1.4882, 1.3523, 1.3599, 1.4575, 1.5435, 0.4898, 0.8301, 1.0466, 1.1416, 1.004, 1.338, 0.4592, -0.1974, -0.3073, 0.6152, 0.5277, -0.635, 1.8718, 1.8624, 1.8624, 1.8617, 1.8556, 1.8544, 1.8322, 1.8243, 1.8243, 1.8194, 1.8194, 1.8136, 1.8136, 1.8068, 1.7985, 1.7883, 1.7883, 1.7883, 1.7883, 1.7883, 1.7883, 1.7883, 1.7883, 1.788, 1.7832, 1.7754, 1.7754, 1.7754, 1.7754, 1.7754, 1.768, 1.6783, 1.7071, 1.6281, 1.5432, 1.6121, 1.6624, 1.4369, 1.6174, 1.1572, 0.6559, -0.1399, 1.7062, 0.6146, 1.3274, 1.1885, 1.0497, -0.5392, -0.6019, 0.6931, 0.8051, 0.452, 0.1522, 2.053, 2.0415, 2.0415, 2.0325, 2.0325, 2.0242, 2.0192, 2.0132, 2.0132, 2.0132, 2.0132, 2.0061, 2.006, 1.9974, 1.9898, 1.9868, 1.9814, 1.9734, 1.9734, 1.9734, 1.9734, 1.9734, 1.9734, 1.9734, 1.9734, 1.9559, 1.9559, 1.9559, 1.9559, 1.9558, 1.9013, 1.8587, 1.9308, 1.8107, 1.8035, 1.6043, 1.8156, 1.5098, 1.6913, 1.5549, 1.5736, 1.8837, 1.5449, 1.6235, 1.3956, 1.7312, 1.7814, 0.9809, -0.6089, 0.8866, 0.9233, 0.8158, 0.6954, 0.9413, 1.1892, 2.0953, 2.0773, 2.0714, 2.0688, 2.0688, 2.0688, 2.0688, 2.0657, 2.0621, 2.0576, 2.045, 2.045, 2.0357, 2.0356, 2.0298, 2.0229, 2.004, 2.004, 2.004, 2.004, 2.0036, 2.0011, 1.9909, 1.9909, 1.9908, 1.9905, 1.9737, 1.9737, 1.9737, 1.9737, 1.9662, 1.9382, 1.9328, 1.937, 1.8806, 1.7276, 1.6543, 1.8946, 1.5698, 1.2966, 1.8409, 1.6259, 1.2801, 0.8908, -0.9935, 0.8296, 0.5311, 0.8458, 1.0592, 2.1908, 2.1902, 2.1896, 2.1868, 2.1732, 2.1674, 2.1674, 2.1674, 2.1674, 2.1647, 2.1633, 2.1549, 2.1507, 2.1507, 2.1507, 2.1507, 2.1401, 2.1332, 2.1332, 2.1332, 2.1252, 2.1249, 2.1249, 2.1146, 2.1146, 2.1146, 2.1146, 2.1146, 2.1017, 2.1016, 1.997, 2.0491, 2.0392, 1.9785, 1.8962, 1.9042, 1.7229, 1.7443, 1.5304, 1.577, -0.6548, 1.2022, -0.195, 1.2888, 0.4839, 2.3326, 2.3231, 2.3133, 2.3116, 2.3076, 2.3076, 2.3027, 2.3027, 2.2965, 2.2885, 2.2836, 2.2762, 2.2709, 2.2708, 2.2625, 2.2522, 2.2522, 2.2521, 2.2521, 2.2391, 2.239, 2.239, 2.2221, 2.2221, 2.2221, 2.2221, 2.222, 2.2204, 2.2085, 2.2079, 2.1616, 1.9904, 1.9495, 1.9687, 2.1497, 1.8354, 1.5784, 2.1462, 1.4337, 1.5262, 1.3077, 1.1864, 1.3646, 1.7954, 1.3031, 0.8453, 0.3891, 0.0782]}, \"token.table\": {\"Topic\": [1, 2, 4, 5, 6, 7, 3, 5, 6, 3, 1, 1, 4, 5, 7, 4, 6, 7, 2, 4, 2, 3, 1, 3, 5, 3, 7, 6, 7, 4, 6, 5, 1, 2, 5, 7, 5, 4, 4, 5, 7, 1, 5, 1, 4, 5, 6, 1, 4, 4, 4, 4, 5, 6, 5, 7, 4, 7, 4, 6, 4, 6, 7, 1, 2, 4, 5, 6, 7, 4, 5, 6, 1, 2, 5, 1, 2, 7, 7, 4, 4, 1, 2, 3, 4, 5, 6, 1, 2, 1, 1, 3, 1, 2, 2, 2, 1, 6, 3, 6, 1, 2, 1, 2, 4, 6, 7, 5, 5, 2, 3, 4, 2, 1, 4, 6, 6, 5, 7, 4, 1, 2, 3, 4, 5, 7, 6, 6, 1, 2, 3, 5, 7, 4, 4, 1, 2, 3, 4, 6, 7, 1, 1, 1, 5, 5, 6, 3, 4, 4, 6, 6, 5, 5, 5, 5, 6, 6, 7, 1, 7, 2, 1, 2, 6, 6, 1, 3, 7, 1, 3, 3, 3, 3, 1, 2, 1, 2, 1, 2, 6, 1, 3, 1, 7, 3, 5, 3, 4, 6, 7, 5, 1, 2, 3, 6, 3, 5, 5, 1, 2, 3, 6, 7, 6, 6, 1, 1, 3, 4, 5, 6, 4, 2, 7, 2, 4, 4, 7, 7, 4, 4, 5, 7, 7, 1, 7, 4, 6, 6, 5, 5, 5, 5, 2, 3, 5, 3, 2, 7, 7, 6, 7, 3, 1, 4, 6, 6, 3, 4, 7, 2, 7, 2, 5, 1, 2, 3, 6, 6, 6, 6, 1, 2, 5, 2, 3, 3, 4, 5, 6, 1, 3, 5, 6, 7, 7, 2, 5, 5, 1, 4, 6, 4, 6, 1, 2, 3, 5, 5, 4, 1, 2, 3, 6, 2, 3, 7, 1, 1, 1, 2, 3, 3, 6, 3, 2, 4, 2, 6, 5, 2, 2, 7, 7, 1, 4, 1, 4, 7, 7, 1, 3, 1, 1, 3, 1, 1, 4, 5, 7, 6, 7, 4, 4, 6, 7, 6, 4, 4, 1, 1, 7, 2, 1, 4, 1, 4, 4, 3, 3, 3, 6, 7, 3, 1, 2, 4, 5, 6, 7, 6, 7, 6, 7, 1, 4, 5, 6, 2, 3, 4, 5, 7, 4, 4, 6, 7, 6, 5, 2, 4, 5, 6, 7, 7, 6, 6, 3, 4, 7, 1, 3, 3, 1, 1, 2, 6, 7, 1, 4, 5, 7, 2, 3, 2, 3, 7, 3, 7, 6, 1, 5, 4, 3, 3, 2, 4, 6, 6, 7, 1, 6, 6, 2, 5, 2, 1, 1, 1, 2, 4, 5, 7, 1, 2, 2, 5, 2, 5, 4, 1, 3, 6, 3, 7, 7, 2, 4, 6, 4, 5, 4, 7, 7, 2, 3, 6, 3, 2, 2, 7, 2, 4, 5, 7, 5, 3, 3, 6, 4, 2, 6, 7, 5, 7, 1, 2, 2, 1, 2, 4, 4, 2, 2, 1, 3, 3, 2, 2, 4, 5, 1, 2, 3, 1, 2, 3, 1, 2, 7, 2, 2, 5, 6, 5, 4, 7, 1, 2, 4, 5, 6, 7, 1, 4, 5, 7, 1, 7, 1, 2, 4, 1, 2, 4, 1, 1, 2, 4], \"Freq\": [0.2995394789331911, 0.10892344688479677, 0.3267703406543903, 0.10892344688479677, 0.10892344688479677, 0.08169258516359758, 0.7827082537471022, 0.1423105915903822, 0.03557764789759555, 0.9368258696818522, 0.9138567173431832, 0.12834686823414634, 0.23102436282146344, 0.4363793519960976, 0.1796856155278049, 0.7414309111509092, 0.10591870159298704, 0.10591870159298704, 0.8105815619119756, 0.16211631238239513, 0.8717770575865196, 0.9276545865340782, 0.4693127423600383, 0.4417061104565066, 0.08281989571059499, 0.9654606106762588, 0.9710930151197041, 0.8754168555638475, 0.07958335050580433, 0.8173493224451437, 0.08173493224451436, 0.8977388312919687, 0.16828623735695664, 0.04207155933923916, 0.6310733900885874, 0.1262146780177175, 0.9308094635454993, 0.9464796059032302, 0.9123067986950594, 0.5931093488573871, 0.40904093024647387, 0.9331457326609621, 0.9163416796068429, 0.18721299862928464, 0.5928411623260681, 0.12480866575285643, 0.09360649931464232, 0.18809968410251807, 0.7523987364100723, 0.9315270406555011, 0.9584464091896737, 0.6242014859509714, 0.2947618128101809, 0.06935572066121903, 0.8977380065404973, 0.9444997651605813, 0.8876398052257275, 0.8912001287169202, 0.6646931602218477, 0.31279678128086946, 0.7719513440962578, 0.09649391801203222, 0.9588037557854139, 0.25795814974182507, 0.09826977133021908, 0.061418607081386925, 0.44221397098598586, 0.07370232849766431, 0.061418607081386925, 0.04183157226476533, 0.8366314452953066, 0.08366314452953066, 0.6597569891269222, 0.10150107525029571, 0.20300215050059142, 0.3556647544700507, 0.32333159497277336, 0.3071650152241347, 0.9716503587585426, 0.9534190043642576, 0.9315270923523244, 0.40788817402386307, 0.2911957567834403, 0.13168043413368807, 0.06744607601969389, 0.044964050679795926, 0.05674034966736153, 0.9836907041840981, 0.9086919571172003, 0.9481491108021828, 0.21690026431871579, 0.7732965945275955, 0.9138603394566936, 0.954903326289691, 0.908692224634271, 0.8471977785709045, 0.7727249094838964, 0.09659061368548705, 0.9154702862408343, 0.05721689289005214, 0.1280679498913441, 0.8324416742937365, 0.8404189664174767, 0.008940627302313582, 0.008940627302313582, 0.03576250920925433, 0.10728752762776297, 0.9557083760675228, 0.9518460154323756, 0.6642652895355372, 0.12454974178791323, 0.1660663223838843, 0.9525807747108276, 0.9601585639178221, 0.9586200519813974, 0.9788060791736138, 0.9788060791736141, 0.9163414287450549, 0.9479529729425422, 0.9315259982794096, 0.012705326988421074, 0.4828024255600008, 0.17787457783789504, 0.06352663494210538, 0.20328523181473718, 0.06352663494210538, 0.9399678438803525, 0.9399678438803524, 0.2629257058819337, 0.02390233689835761, 0.04780467379671522, 0.6453630962556555, 0.04780467379671522, 0.9804971201008252, 0.901369998349855, 0.5153875035034653, 0.16566026898325673, 0.09203348276847595, 0.1840669655369519, 0.01840669655369519, 0.01840669655369519, 0.888163658918592, 0.9481511679152564, 0.9030227460803343, 0.8977388309829683, 0.9163414309177779, 0.9307351515652963, 0.8458856937478032, 0.09398729930531147, 0.9315259431891918, 0.9391485765823078, 0.9053291016600102, 0.9629694415930953, 0.9629694415930947, 0.9691547356145291, 0.9664073296901237, 0.9759273385013448, 0.9307350332757964, 0.9237815384315623, 0.8367554847587657, 0.07606868043261507, 0.891906267622804, 0.21743468511494812, 0.7827648664138133, 0.94811374327875, 0.9194480667112461, 0.3391820034678588, 0.6413623338301331, 0.0185008365527923, 0.47335598935553896, 0.5071671314523631, 0.9509275463254072, 0.9529752275914126, 0.9024127293076663, 0.82466884151377, 0.164933768302754, 0.7157388733640518, 0.23857962445468395, 0.974889722357731, 0.8970571145101104, 0.0640755081792936, 0.8881630653583735, 0.9164390221205303, 0.37485220032883254, 0.599763520526132, 0.9444658611289526, 0.9629696857527761, 0.14839914556579775, 0.17313233649343068, 0.4946638185526591, 0.17313233649343068, 0.9770841270044588, 0.8748378291180106, 0.0972042032353345, 0.8874250602345137, 0.0709940048187611, 0.9024124011543482, 0.9470634193243097, 0.9597331801459287, 0.47977839154240215, 0.15150896575023226, 0.10100597716682151, 0.050502988583410756, 0.20201195433364302, 0.9788060791736141, 0.9476592671758022, 0.8881623980919561, 0.11837420142588151, 0.30439080366655247, 0.3382120040739472, 0.13528480162957887, 0.11837420142588151, 0.9123072812791748, 0.9069447917039865, 0.06046298611359909, 0.9086914338811236, 0.9682406525578503, 0.0905218282069195, 0.8599573679657352, 0.9644656141990788, 0.9322702990015164, 0.9322699067204299, 0.766575112094745, 0.2090659396622032, 0.9237834417415624, 0.10420939522999009, 0.8336751618399207, 0.8226582846253043, 0.15154231558887185, 0.9796791617985333, 0.9961993699852307, 0.936598187177021, 0.9308077551690938, 0.9770843186465906, 0.6977701283383904, 0.24516247752429934, 0.05657595635176139, 0.944466385038946, 0.9280725352264899, 0.8912000602171587, 0.8912000602171587, 0.08892628834069516, 0.8892628834069516, 0.9164390219450279, 0.1081351064860219, 0.25231524846738446, 0.6127656034207908, 0.9194475337410094, 0.9164429305970123, 0.07433786383344353, 0.8920543660013224, 0.12298492601756708, 0.799402019114186, 0.9086923632967283, 0.9163382280028993, 0.6160784032732655, 0.2594014329571644, 0.1297007164785822, 0.9645739803102306, 0.9782984562811758, 0.9701397773533232, 0.9768432220758848, 0.0689853818837412, 0.689853818837412, 0.229951272945804, 0.8919079328829691, 0.9164403125177426, 0.9024124012628852, 0.3272498592940806, 0.2617998874352645, 0.39269983115289675, 0.4279498255532184, 0.038904529595747125, 0.038904529595747125, 0.13616585358511496, 0.35014076636172414, 0.9344989294506427, 0.11562314393310888, 0.8671735794983165, 0.9832111997995844, 0.01582301165056573, 0.7911505825282865, 0.17405312815622304, 0.7456743721719766, 0.21648610804992868, 0.9138602133009577, 0.12137744008066848, 0.04045914669355616, 0.8091829338711232, 0.9308025413796437, 0.9534174493043412, 0.28092668492674466, 0.4109853353557931, 0.29133137696106853, 0.015607038051485816, 0.8616805905761382, 0.1276563837890575, 0.9095328577520346, 0.9481470961803183, 0.9250537174418704, 0.22387100180512115, 0.020351909255011014, 0.7530206424354075, 0.7441601655101171, 0.1717292689638732, 0.9024124012628852, 0.9560668925802221, 0.9463561061905863, 0.0742269175088191, 0.8164960925970102, 0.9308080131619659, 0.9086936775154859, 0.9086936775154859, 0.9438761212431042, 0.9444992177215273, 0.25083036975174355, 0.6897835168172948, 0.213166272598184, 0.7105542419939467, 0.9807265051637222, 0.9095315448067686, 0.7120800418933418, 0.2789591916695566, 0.9859559686937828, 0.8729905337480046, 0.9718249915454704, 0.9645668171506055, 0.04176262595899662, 0.14616919085648816, 0.10440656489749156, 0.6890833283234442, 0.9758431378828074, 0.9736132971727323, 0.9315270642196256, 0.2820710242943336, 0.3666923315826337, 0.33848522915320034, 0.9788068989427454, 0.9123086551627608, 0.9123086551627608, 0.9331434089049648, 0.8881603523254206, 0.9095315660627515, 0.9228969049781575, 0.690407324603466, 0.2510572089467149, 0.9331447308112993, 0.8876403082095438, 0.8876403082095438, 0.9164390221205303, 0.9164390221205303, 0.8483716142175897, 0.060597972444113544, 0.09089695866617031, 0.9164390485747258, 0.13598360231429937, 0.31081966243268433, 0.27196720462859875, 0.21368851792247046, 0.01942622890204277, 0.03885245780408554, 0.7240696428181299, 0.25859630100647496, 0.9597411923366836, 0.8912008008076939, 0.11927241387025195, 0.08945431040268896, 0.2385448277405039, 0.5367258624161337, 0.04795508097381977, 0.23977540486909885, 0.559475944694564, 0.06394010796509303, 0.07992513495636629, 0.9315245956149576, 0.1640893946754996, 0.7110540435938316, 0.054696464891833205, 0.9194470161777403, 0.9629694415930947, 0.1048392015514095, 0.1310490019392619, 0.23588820349067138, 0.15725880232711426, 0.36693720542993324, 0.9237811645659566, 0.9597411923366838, 0.9194470161777403, 0.3496948103220913, 0.4895727344509278, 0.1398779241288365, 0.5068024511231535, 0.4832302440941696, 0.955668558805688, 0.9706409173519999, 0.9481503235840503, 0.04655788840431231, 0.8031235749743874, 0.13967366521293692, 0.0515967480462346, 0.5933626025316978, 0.1547902441387038, 0.2063869921849384, 0.2797501421833494, 0.7113646472662314, 0.9612019531956042, 0.9944338223266205, 0.9588357761984266, 0.3812557828787264, 0.5991162302379986, 0.9194488044844273, 0.04556743362201012, 0.9113486724402025, 0.8876403082095438, 0.9564664643647477, 0.9164391258069987, 0.3439194651912544, 0.644848997233602, 0.9597411923366836, 0.9597411923366836, 0.8912017565948849, 0.19482269246945796, 0.7792907698778319, 0.9399683724269673, 0.9421577410651087, 0.04958724952974256, 0.8471964383311805, 0.9552128361112896, 0.9481512214677424, 0.30724799432910943, 0.24579839546328758, 0.061449598865821894, 0.2867647947071688, 0.10241599810970316, 0.9138585200100325, 0.8919060043985851, 0.13153270504912223, 0.8330404653111074, 0.11687069819381536, 0.8180948873567075, 0.912308725641731, 0.3087033713226763, 0.578818821230018, 0.07717584283066907, 0.9509279414964527, 0.9344990485948156, 0.980726280395492, 0.1553173416448775, 0.1941466770560969, 0.62126936657951, 0.9682414118944149, 0.9664086452827134, 0.2790373941409105, 0.6975934853522762, 0.9237837861446706, 0.09309009633572352, 0.8104314269227694, 0.08761420831597506, 0.9164400491182858, 0.9630657191131429, 0.7746455840056692, 0.2161801629783263, 0.9359582480436539, 0.25724819312297664, 0.2756230640603321, 0.45937177343388685, 0.9308090455570743, 0.9564656609478978, 0.9024124012628852, 0.9053280059402392, 0.9315261991483589, 0.27685225560118887, 0.27685225560118887, 0.4429636089619022, 0.10399797404317566, 0.8319837923454053, 0.4871228085815047, 0.5108848968049927, 0.9280714591469181, 0.7513742062015335, 0.21467834462900956, 0.9131403349232656, 0.9315262432130621, 0.9754086978337194, 0.9229045065322751, 0.8881618328559084, 0.9718249864329545, 0.9702095746122288, 0.9754088699708473, 0.9549032181951186, 0.29543330167904, 0.68318951013278, 0.768601664872969, 0.14750941043016577, 0.08281230059237377, 0.779860752596121, 0.13180745114300635, 0.08787163409533758, 0.08799289728524669, 0.7919360755672201, 0.08799289728524669, 0.922902643874423, 0.9525820776708118, 0.8039819487288682, 0.16079638974577365, 0.8977376828814595, 0.3078568252588116, 0.6772850155693855, 0.27740950394900105, 0.055481900789800205, 0.055481900789800205, 0.36063235513370134, 0.16644570236940062, 0.055481900789800205, 0.18189261773748414, 0.6063087257916138, 0.030315436289580687, 0.15157718144790344, 0.8881626349828682, 0.9351781865132796, 0.39873910362905907, 0.5506397145353673, 0.018987576363288527, 0.6877633349485575, 0.11462722249142625, 0.19104537081904374, 0.9331451452637989, 0.3696270725100044, 0.1848135362550022, 0.4065897797610048], \"Term\": [\"ahli\", \"ahli\", \"ahli\", \"ahli\", \"ahli\", \"ahli\", \"akibat\", \"akibat\", \"akibat\", \"akibat corona\", \"akibat virus\", \"alas\", \"alas\", \"alas\", \"alas\", \"aman\", \"aman\", \"aman\", \"anak\", \"anak\", \"anak anak\", \"antraks\", \"april\", \"april\", \"april\", \"april positif\", \"atas\", \"atur\", \"atur\", \"badan\", \"badan\", \"bahan\", \"baik\", \"baik\", \"baik\", \"baik\", \"baju\", \"bangun\", \"bangun tidur\", \"banjir\", \"banjir\", \"bantah\", \"basah\", \"beda\", \"beda\", \"beda\", \"beda\", \"berat\", \"berat\", \"berat badan\", \"bersih\", \"bikin\", \"bikin\", \"bikin\", \"bikin masker\", \"bilik\", \"boba\", \"bpjs sehat\", \"buka\", \"buka\", \"buka puasa\", \"buka puasa\", \"butuh\", \"cegah\", \"cegah\", \"cegah\", \"cegah\", \"cegah\", \"cegah\", \"cegah corona\", \"cegah corona\", \"cegah corona\", \"cegah virus\", \"cegah virus\", \"cegah virus\", \"china\", \"china\", \"china\", \"cinta\", \"ciri\", \"ciri ciri\", \"corona\", \"corona\", \"corona\", \"corona\", \"corona\", \"corona\", \"corona covid\", \"corona dokter\", \"corona fakta\", \"corona indonesia\", \"corona indonesia\", \"corona mei\", \"corona persen\", \"corona sembuh\", \"corona tahan\", \"corona tembus\", \"corona tembus\", \"corona tinggal\", \"corona tinggal\", \"corona tular\", \"corona tular\", \"covid\", \"covid\", \"covid\", \"covid\", \"covid\", \"cuci\", \"cuci tangan\", \"darah\", \"darah\", \"darah\", \"daya\", \"demam\", \"deteksi\", \"didi\", \"didi kempot\", \"diet\", \"disinfektan\", \"distancing\", \"dokter\", \"dokter\", \"dokter\", \"dokter\", \"dokter\", \"dokter\", \"era\", \"era new\", \"fakta\", \"fakta\", \"fakta\", \"fakta\", \"fakta\", \"gara\", \"gara gara\", \"gejala\", \"gejala\", \"gejala\", \"gejala\", \"gejala\", \"gejala\", \"gejala infeksi\", \"gejala virus\", \"gelombang\", \"genang\", \"genset\", \"gila\", \"ginjal\", \"ginjal\", \"gizi\", \"hadap\", \"hadap corona\", \"hand\", \"hand sanitizer\", \"hati\", \"hati hati\", \"henti\", \"henti jantung\", \"hipotermia\", \"hoax\", \"hoax\", \"hujan\", \"ilmuwan\", \"ilmuwan\", \"imbas\", \"imbas corona\", \"indonesia\", \"indonesia\", \"indonesia\", \"indonesia april\", \"indonesia april\", \"indonesia juni\", \"indonesia sembuh\", \"indonesia tinggal\", \"infeksi\", \"infeksi\", \"infeksi corona\", \"infeksi corona\", \"infeksi virus\", \"inggris\", \"inggris\", \"iran\", \"irawan\", \"isolasi\", \"isolasi\", \"istri\", \"jam\", \"jantung\", \"jantung\", \"jantung\", \"jantung\", \"jemur\", \"jepang\", \"jepang\", \"juni\", \"juni\", \"juni positif\", \"kain\", \"keluarga\", \"kemenkes\", \"kemenkes\", \"kemenkes\", \"kemenkes\", \"kemenkes\", \"kempot\", \"kempot tinggal\", \"kena virus\", \"kenal\", \"kenal\", \"kenal\", \"kenal\", \"kenal\", \"kim\", \"klaim\", \"klaim\", \"klorokuin\", \"kolesterol\", \"korban\", \"korban\", \"korban banjir\", \"kota\", \"krl\", \"langka\", \"langka\", \"lelah\", \"lho\", \"lho\", \"makan\", \"makan\", \"manfaat\", \"masker\", \"masker kain\", \"masyarakat\", \"mata\", \"mati\", \"mati\", \"mati\", \"mati akibat\", \"mati corona\", \"mcd\", \"mcd sarinah\", \"medis\", \"medis\", \"mei positif\", \"minum\", \"minum\", \"minum\", \"minum air\", \"miss\", \"misterius\", \"misterius\", \"mudah\", \"mudah\", \"musim\", \"narkoba\", \"negara\", \"negara\", \"negara\", \"negatif\", \"new\", \"new normal\", \"normal\", \"obat\", \"obat\", \"obat\", \"obat corona\", \"odp\", \"odp pdp\", \"olahraga\", \"olahraga\", \"olahraga\", \"orang\", \"orang\", \"orang\", \"orang\", \"orang\", \"orgasme\", \"pakai\", \"pakai\", \"pakai masker\", \"pandemi\", \"pandemi\", \"pandemi\", \"pandemi corona\", \"pandemi corona\", \"pandemi virus\", \"paru\", \"paru\", \"paru\", \"paru paru\", \"pasang\", \"pasien\", \"pasien\", \"pasien\", \"pasien\", \"pasien corona\", \"pasien corona\", \"pasien covid\", \"pasien isolasi\", \"pasien positif\", \"pasien virus\", \"pasien virus\", \"pasien virus\", \"periksa\", \"periksa\", \"periksa total\", \"persen\", \"perut\", \"pesan\", \"pesan\", \"pilih\", \"plasma\", \"plasma darah\", \"pneumonia\", \"pneumonia misterius\", \"populer\", \"populer\", \"populer pek\", \"populer pek\", \"posisi\", \"posisi seks\", \"positif\", \"positif\", \"positif corona\", \"positif covid\", \"positif sembuh\", \"positif virus\", \"pria\", \"pria\", \"pria\", \"pria\", \"psbb\", \"psikolog\", \"psikopat\", \"puasa\", \"puasa\", \"puasa\", \"pulang\", \"rapid\", \"rapid test\", \"rawat\", \"rawat pasien\", \"reisa\", \"rekor\", \"rentan\", \"rentan\", \"resmi\", \"reynhard\", \"reynhard sinaga\", \"ria\", \"ria irawan\", \"ribu\", \"ribu\", \"ribu\", \"ribu spesimen\", \"risiko\", \"risiko\", \"risiko\", \"risiko\", \"risiko\", \"risiko\", \"rspi\", \"rspi\", \"rspi sulianti\", \"ruang isolasi\", \"rumah\", \"rumah\", \"rumah\", \"rumah\", \"sakit\", \"sakit\", \"sakit\", \"sakit\", \"sakit\", \"sakit jantung\", \"salah\", \"salah\", \"salah\", \"salah satu\", \"sanitizer\", \"saran\", \"saran\", \"saran\", \"saran\", \"saran\", \"sarinah\", \"saroso\", \"satu\", \"sebab\", \"sebab\", \"sebab\", \"sebar\", \"sebar\", \"sebar pasien\", \"sebar positif\", \"sebar virus\", \"sehat\", \"sehat\", \"sehat\", \"seks\", \"seks\", \"seks\", \"seks\", \"sembuh\", \"sembuh\", \"sembuh corona\", \"sembuh tinggal\", \"semprot\", \"serang\", \"serang\", \"siap\", \"sih\", \"sih\", \"sinaga\", \"spesimen\", \"spesimen periksa\", \"studi\", \"studi\", \"sulianti\", \"sulianti saroso\", \"susah\", \"suspek\", \"suspek\", \"suspek corona\", \"tahan\", \"tahan\", \"tahan tubuh\", \"tambah\", \"tambah corona\", \"tangan\", \"tangan\", \"tangan\", \"tangan\", \"tangan\", \"tangan corona\", \"tangan pasien\", \"tangkal\", \"tangkal\", \"tangkal corona\", \"tangkal corona\", \"telur\", \"tembus\", \"tembus\", \"tembus\", \"tembus ribu\", \"tenaga\", \"tenaga medis\", \"tes\", \"tes\", \"tes\", \"test\", \"tewas\", \"tidur\", \"tidur\", \"tim\", \"tinggal\", \"tinggal\", \"tinggal\", \"tinggal akibat\", \"tinggal tingkat\", \"tingkat\", \"tingkat\", \"tingkat mati\", \"tips\", \"tips\", \"tips\", \"tisu\", \"total\", \"total odp\", \"transisi\", \"trik\", \"tubuh\", \"tubuh\", \"tubuh\", \"tugas\", \"tugas\", \"tular\", \"tular\", \"tular corona\", \"tular virus\", \"tular virus\", \"tumpang\", \"tumpang krl\", \"uji\", \"uji coba\", \"umum\", \"update\", \"update corona\", \"vaksin\", \"vaksin corona\", \"viral\", \"viral\", \"virus\", \"virus\", \"virus\", \"virus corona\", \"virus corona\", \"virus corona\", \"wabah\", \"wabah\", \"wabah\", \"wabah corona\", \"wabah virus\", \"wajib\", \"wajib\", \"wajib pakai\", \"wanita\", \"wanita\", \"warga\", \"warga\", \"warga\", \"warga\", \"warga\", \"warga\", \"waspada\", \"waspada\", \"waspada\", \"waspada\", \"waspada virus\", \"wfh\", \"who\", \"who\", \"who\", \"wni\", \"wni\", \"wni\", \"wni positif\", \"wuhan\", \"wuhan\", \"wuhan\"]}, \"R\": 30, \"lambda.step\": 0.01, \"plot.opts\": {\"xlab\": \"PC1\", \"ylab\": \"PC2\"}, \"topic.order\": [2, 6, 7, 1, 5, 4, 3]};\n",
       "\n",
       "function LDAvis_load_lib(url, callback){\n",
       "  var s = document.createElement('script');\n",
       "  s.src = url;\n",
       "  s.async = true;\n",
       "  s.onreadystatechange = s.onload = callback;\n",
       "  s.onerror = function(){console.warn(\"failed to load library \" + url);};\n",
       "  document.getElementsByTagName(\"head\")[0].appendChild(s);\n",
       "}\n",
       "\n",
       "if(typeof(LDAvis) !== \"undefined\"){\n",
       "   // already loaded: just create the visualization\n",
       "   !function(LDAvis){\n",
       "       new LDAvis(\"#\" + \"ldavis_el8161397787721388321535669854\", ldavis_el8161397787721388321535669854_data);\n",
       "   }(LDAvis);\n",
       "}else if(typeof define === \"function\" && define.amd){\n",
       "   // require.js is available: use it to load d3/LDAvis\n",
       "   require.config({paths: {d3: \"https://d3js.org/d3.v5\"}});\n",
       "   require([\"d3\"], function(d3){\n",
       "      window.d3 = d3;\n",
       "      LDAvis_load_lib(\"https://cdn.jsdelivr.net/gh/bmabey/pyLDAvis@3.3.1/pyLDAvis/js/ldavis.v3.0.0.js\", function(){\n",
       "        new LDAvis(\"#\" + \"ldavis_el8161397787721388321535669854\", ldavis_el8161397787721388321535669854_data);\n",
       "      });\n",
       "    });\n",
       "}else{\n",
       "    // require.js not available: dynamically load d3 & LDAvis\n",
       "    LDAvis_load_lib(\"https://d3js.org/d3.v5.js\", function(){\n",
       "         LDAvis_load_lib(\"https://cdn.jsdelivr.net/gh/bmabey/pyLDAvis@3.3.1/pyLDAvis/js/ldavis.v3.0.0.js\", function(){\n",
       "                 new LDAvis(\"#\" + \"ldavis_el8161397787721388321535669854\", ldavis_el8161397787721388321535669854_data);\n",
       "            })\n",
       "         });\n",
       "}\n",
       "</script>"
      ]
     },
     "metadata": {},
     "execution_count": 31
    }
   ]
  },
  {
   "cell_type": "markdown",
   "source": [
    "# **4. BERTopic**\n",
    "BERTopic adalah metode topik modeling modern yang menggabungkan kekuatan representasi semantik dari transformer (seperti BERT) dengan algoritma clustering untuk menemukan dan memvisualisasikan topik-topik dalam kumpulan dokumen. Berbeda dengan metode klasik seperti LDA yang hanya mengandalkan frekuensi kata (bag-of-words), BERTopic memanfaatkan embeddings \u2014 yaitu representasi vektor dari teks yang mempertahankan makna semantik."
   ],
   "metadata": {
    "id": "7RZEYxafH53R"
   }
  },
  {
   "cell_type": "markdown",
   "source": [
    "## *a. Load data untuk BERTopic*"
   ],
   "metadata": {
    "id": "uCyYCHy0IYiv"
   }
  },
  {
   "cell_type": "code",
   "source": [
    "import pandas as pd"
   ],
   "metadata": {
    "id": "eHTn5S3YK95i"
   },
   "execution_count": 1,
   "outputs": []
  },
  {
   "cell_type": "code",
   "source": [
    "# data yang digunakan sudah dilakukan preprocessing sebelumnya\n",
    "data = pd.read_csv('/content/data clean lda (1).csv')"
   ],
   "metadata": {
    "id": "n21nTZDiIXju"
   },
   "execution_count": 2,
   "outputs": []
  },
  {
   "cell_type": "code",
   "source": [
    "# Buat kolom baru yang berisi panjang setiap teks judul\n",
    "data[\"text_len\"] = data[\"text_preprocessing\"].astype(str).apply(lambda x : len(x.split()))\n",
    "data"
   ],
   "metadata": {
    "colab": {
     "base_uri": "https://localhost:8080/",
     "height": 423
    },
    "id": "K008w0UWIQbG",
    "outputId": "23474d9c-bd28-40ed-b14d-716932158507"
   },
   "execution_count": 3,
   "outputs": [
    {
     "output_type": "execute_result",
     "data": {
      "text/plain": [
       "                     date                                                url  \\\n",
       "0              02/17/2020  https://health.detik.com/sexual-health/d-49029...   \n",
       "1              02/17/2020  https://health.detik.com/sexual-health/d-49028...   \n",
       "2              02/17/2020  https://health.detik.com/berita-detikhealth/d-...   \n",
       "3              02/17/2020  https://health.detik.com/sexual-health/d-49029...   \n",
       "4              02/17/2020  https://health.detik.com/berita-detikhealth/d-...   \n",
       "...                   ...                                                ...   \n",
       "1995  2020-04-04 00:00:00  https://health.detik.com/berita-detikhealth/d-...   \n",
       "1996  2020-04-04 00:00:00  https://health.detik.com/sexual-health/d-49646...   \n",
       "1997  2020-12-06 00:00:00  https://health.detik.com/sexual-health/d-50517...   \n",
       "1998  2020-12-06 00:00:00  https://health.detik.com/detiktv/d-5051740/seb...   \n",
       "1999  2020-12-06 00:00:00  https://health.detik.com/fotohealth/d-5051703/...   \n",
       "\n",
       "                                                  title category  \\\n",
       "0     Pemuda Sulsel Curi CD dan Bra Emak-emak, Terma...   health   \n",
       "1     Pemuda di Sulsel Curi Bra dan 'CD' Emak-emak, ...   health   \n",
       "2     Netizen Sebut Health Alert Card Ribet dan Tak ...   health   \n",
       "3     Apa yang Bikin Seks Terasa Menyenangkan? Riset...   health   \n",
       "4      Studi Mengatakan COVID-19 Tidak Menular ke Janin   health   \n",
       "...                                                 ...      ...   \n",
       "1995  RS di AS Ancam Pecat Tenaga Medis Jika Adukan ...   health   \n",
       "1996             Tips Merangsang 'G-Spot' Saat Bercinta   health   \n",
       "1997            5 Manfaat Tidur Malam Tanpa Memakai Bra   health   \n",
       "1998  Seberapa Siapkah Sektor Medis Indonesia Hadapi...   health   \n",
       "1999      Di Tengah Pandemi, Telekonsultasi jadi Solusi   health   \n",
       "\n",
       "                                     text_preprocessing  text_len  \n",
       "0     pemuda sulsel curi bra emak emak fetish ganggu...         9  \n",
       "1     pemuda sulsel curi bra emak emak ilmu hitam fe...         9  \n",
       "2      netizen health alert card ribet efektif kemenkes         7  \n",
       "3                  bikin seks senang riset ungkap jawab         6  \n",
       "4                               studi covid tular janin         4  \n",
       "...                                                 ...       ...  \n",
       "1995         ancam pecat tenaga medis adu langka masker         7  \n",
       "1996                           tips rangsang spot cinta         4  \n",
       "1997                      manfaat tidur malam pakai bra         5  \n",
       "1998       siap sektor medis indonesia hadap new normal         7  \n",
       "1999                      pandemi telekonsultasi solusi         3  \n",
       "\n",
       "[2000 rows x 6 columns]"
      ],
      "text/html": [
       "\n",
       "  <div id=\"df-9ca04d13-62b1-4ead-b269-574b4c4f867a\" class=\"colab-df-container\">\n",
       "    <div>\n",
       "<style scoped>\n",
       "    .dataframe tbody tr th:only-of-type {\n",
       "        vertical-align: middle;\n",
       "    }\n",
       "\n",
       "    .dataframe tbody tr th {\n",
       "        vertical-align: top;\n",
       "    }\n",
       "\n",
       "    .dataframe thead th {\n",
       "        text-align: right;\n",
       "    }\n",
       "</style>\n",
       "<table border=\"1\" class=\"dataframe\">\n",
       "  <thead>\n",
       "    <tr style=\"text-align: right;\">\n",
       "      <th></th>\n",
       "      <th>date</th>\n",
       "      <th>url</th>\n",
       "      <th>title</th>\n",
       "      <th>category</th>\n",
       "      <th>text_preprocessing</th>\n",
       "      <th>text_len</th>\n",
       "    </tr>\n",
       "  </thead>\n",
       "  <tbody>\n",
       "    <tr>\n",
       "      <th>0</th>\n",
       "      <td>02/17/2020</td>\n",
       "      <td>https://health.detik.com/sexual-health/d-49029...</td>\n",
       "      <td>Pemuda Sulsel Curi CD dan Bra Emak-emak, Terma...</td>\n",
       "      <td>health</td>\n",
       "      <td>pemuda sulsel curi bra emak emak fetish ganggu...</td>\n",
       "      <td>9</td>\n",
       "    </tr>\n",
       "    <tr>\n",
       "      <th>1</th>\n",
       "      <td>02/17/2020</td>\n",
       "      <td>https://health.detik.com/sexual-health/d-49028...</td>\n",
       "      <td>Pemuda di Sulsel Curi Bra dan 'CD' Emak-emak, ...</td>\n",
       "      <td>health</td>\n",
       "      <td>pemuda sulsel curi bra emak emak ilmu hitam fe...</td>\n",
       "      <td>9</td>\n",
       "    </tr>\n",
       "    <tr>\n",
       "      <th>2</th>\n",
       "      <td>02/17/2020</td>\n",
       "      <td>https://health.detik.com/berita-detikhealth/d-...</td>\n",
       "      <td>Netizen Sebut Health Alert Card Ribet dan Tak ...</td>\n",
       "      <td>health</td>\n",
       "      <td>netizen health alert card ribet efektif kemenkes</td>\n",
       "      <td>7</td>\n",
       "    </tr>\n",
       "    <tr>\n",
       "      <th>3</th>\n",
       "      <td>02/17/2020</td>\n",
       "      <td>https://health.detik.com/sexual-health/d-49029...</td>\n",
       "      <td>Apa yang Bikin Seks Terasa Menyenangkan? Riset...</td>\n",
       "      <td>health</td>\n",
       "      <td>bikin seks senang riset ungkap jawab</td>\n",
       "      <td>6</td>\n",
       "    </tr>\n",
       "    <tr>\n",
       "      <th>4</th>\n",
       "      <td>02/17/2020</td>\n",
       "      <td>https://health.detik.com/berita-detikhealth/d-...</td>\n",
       "      <td>Studi Mengatakan COVID-19 Tidak Menular ke Janin</td>\n",
       "      <td>health</td>\n",
       "      <td>studi covid tular janin</td>\n",
       "      <td>4</td>\n",
       "    </tr>\n",
       "    <tr>\n",
       "      <th>...</th>\n",
       "      <td>...</td>\n",
       "      <td>...</td>\n",
       "      <td>...</td>\n",
       "      <td>...</td>\n",
       "      <td>...</td>\n",
       "      <td>...</td>\n",
       "    </tr>\n",
       "    <tr>\n",
       "      <th>1995</th>\n",
       "      <td>2020-04-04 00:00:00</td>\n",
       "      <td>https://health.detik.com/berita-detikhealth/d-...</td>\n",
       "      <td>RS di AS Ancam Pecat Tenaga Medis Jika Adukan ...</td>\n",
       "      <td>health</td>\n",
       "      <td>ancam pecat tenaga medis adu langka masker</td>\n",
       "      <td>7</td>\n",
       "    </tr>\n",
       "    <tr>\n",
       "      <th>1996</th>\n",
       "      <td>2020-04-04 00:00:00</td>\n",
       "      <td>https://health.detik.com/sexual-health/d-49646...</td>\n",
       "      <td>Tips Merangsang 'G-Spot' Saat Bercinta</td>\n",
       "      <td>health</td>\n",
       "      <td>tips rangsang spot cinta</td>\n",
       "      <td>4</td>\n",
       "    </tr>\n",
       "    <tr>\n",
       "      <th>1997</th>\n",
       "      <td>2020-12-06 00:00:00</td>\n",
       "      <td>https://health.detik.com/sexual-health/d-50517...</td>\n",
       "      <td>5 Manfaat Tidur Malam Tanpa Memakai Bra</td>\n",
       "      <td>health</td>\n",
       "      <td>manfaat tidur malam pakai bra</td>\n",
       "      <td>5</td>\n",
       "    </tr>\n",
       "    <tr>\n",
       "      <th>1998</th>\n",
       "      <td>2020-12-06 00:00:00</td>\n",
       "      <td>https://health.detik.com/detiktv/d-5051740/seb...</td>\n",
       "      <td>Seberapa Siapkah Sektor Medis Indonesia Hadapi...</td>\n",
       "      <td>health</td>\n",
       "      <td>siap sektor medis indonesia hadap new normal</td>\n",
       "      <td>7</td>\n",
       "    </tr>\n",
       "    <tr>\n",
       "      <th>1999</th>\n",
       "      <td>2020-12-06 00:00:00</td>\n",
       "      <td>https://health.detik.com/fotohealth/d-5051703/...</td>\n",
       "      <td>Di Tengah Pandemi, Telekonsultasi jadi Solusi</td>\n",
       "      <td>health</td>\n",
       "      <td>pandemi telekonsultasi solusi</td>\n",
       "      <td>3</td>\n",
       "    </tr>\n",
       "  </tbody>\n",
       "</table>\n",
       "<p>2000 rows \u00d7 6 columns</p>\n",
       "</div>\n",
       "    <div class=\"colab-df-buttons\">\n",
       "\n",
       "  <div class=\"colab-df-container\">\n",
       "    <button class=\"colab-df-convert\" onclick=\"convertToInteractive('df-9ca04d13-62b1-4ead-b269-574b4c4f867a')\"\n",
       "            title=\"Convert this dataframe to an interactive table.\"\n",
       "            style=\"display:none;\">\n",
       "\n",
       "  <svg xmlns=\"http://www.w3.org/2000/svg\" height=\"24px\" viewBox=\"0 -960 960 960\">\n",
       "    <path d=\"M120-120v-720h720v720H120Zm60-500h600v-160H180v160Zm220 220h160v-160H400v160Zm0 220h160v-160H400v160ZM180-400h160v-160H180v160Zm440 0h160v-160H620v160ZM180-180h160v-160H180v160Zm440 0h160v-160H620v160Z\"/>\n",
       "  </svg>\n",
       "    </button>\n",
       "\n",
       "  <style>\n",
       "    .colab-df-container {\n",
       "      display:flex;\n",
       "      gap: 12px;\n",
       "    }\n",
       "\n",
       "    .colab-df-convert {\n",
       "      background-color: #E8F0FE;\n",
       "      border: none;\n",
       "      border-radius: 50%;\n",
       "      cursor: pointer;\n",
       "      display: none;\n",
       "      fill: #1967D2;\n",
       "      height: 32px;\n",
       "      padding: 0 0 0 0;\n",
       "      width: 32px;\n",
       "    }\n",
       "\n",
       "    .colab-df-convert:hover {\n",
       "      background-color: #E2EBFA;\n",
       "      box-shadow: 0px 1px 2px rgba(60, 64, 67, 0.3), 0px 1px 3px 1px rgba(60, 64, 67, 0.15);\n",
       "      fill: #174EA6;\n",
       "    }\n",
       "\n",
       "    .colab-df-buttons div {\n",
       "      margin-bottom: 4px;\n",
       "    }\n",
       "\n",
       "    [theme=dark] .colab-df-convert {\n",
       "      background-color: #3B4455;\n",
       "      fill: #D2E3FC;\n",
       "    }\n",
       "\n",
       "    [theme=dark] .colab-df-convert:hover {\n",
       "      background-color: #434B5C;\n",
       "      box-shadow: 0px 1px 3px 1px rgba(0, 0, 0, 0.15);\n",
       "      filter: drop-shadow(0px 1px 2px rgba(0, 0, 0, 0.3));\n",
       "      fill: #FFFFFF;\n",
       "    }\n",
       "  </style>\n",
       "\n",
       "    <script>\n",
       "      const buttonEl =\n",
       "        document.querySelector('#df-9ca04d13-62b1-4ead-b269-574b4c4f867a button.colab-df-convert');\n",
       "      buttonEl.style.display =\n",
       "        google.colab.kernel.accessAllowed ? 'block' : 'none';\n",
       "\n",
       "      async function convertToInteractive(key) {\n",
       "        const element = document.querySelector('#df-9ca04d13-62b1-4ead-b269-574b4c4f867a');\n",
       "        const dataTable =\n",
       "          await google.colab.kernel.invokeFunction('convertToInteractive',\n",
       "                                                    [key], {});\n",
       "        if (!dataTable) return;\n",
       "\n",
       "        const docLinkHtml = 'Like what you see? Visit the ' +\n",
       "          '<a target=\"_blank\" href=https://colab.research.google.com/notebooks/data_table.ipynb>data table notebook</a>'\n",
       "          + ' to learn more about interactive tables.';\n",
       "        element.innerHTML = '';\n",
       "        dataTable['output_type'] = 'display_data';\n",
       "        await google.colab.output.renderOutput(dataTable, element);\n",
       "        const docLink = document.createElement('div');\n",
       "        docLink.innerHTML = docLinkHtml;\n",
       "        element.appendChild(docLink);\n",
       "      }\n",
       "    </script>\n",
       "  </div>\n",
       "\n",
       "\n",
       "    <div id=\"df-6c587aa2-a34a-429d-bd21-93d2f8c34362\">\n",
       "      <button class=\"colab-df-quickchart\" onclick=\"quickchart('df-6c587aa2-a34a-429d-bd21-93d2f8c34362')\"\n",
       "                title=\"Suggest charts\"\n",
       "                style=\"display:none;\">\n",
       "\n",
       "<svg xmlns=\"http://www.w3.org/2000/svg\" height=\"24px\"viewBox=\"0 0 24 24\"\n",
       "     width=\"24px\">\n",
       "    <g>\n",
       "        <path d=\"M19 3H5c-1.1 0-2 .9-2 2v14c0 1.1.9 2 2 2h14c1.1 0 2-.9 2-2V5c0-1.1-.9-2-2-2zM9 17H7v-7h2v7zm4 0h-2V7h2v10zm4 0h-2v-4h2v4z\"/>\n",
       "    </g>\n",
       "</svg>\n",
       "      </button>\n",
       "\n",
       "<style>\n",
       "  .colab-df-quickchart {\n",
       "      --bg-color: #E8F0FE;\n",
       "      --fill-color: #1967D2;\n",
       "      --hover-bg-color: #E2EBFA;\n",
       "      --hover-fill-color: #174EA6;\n",
       "      --disabled-fill-color: #AAA;\n",
       "      --disabled-bg-color: #DDD;\n",
       "  }\n",
       "\n",
       "  [theme=dark] .colab-df-quickchart {\n",
       "      --bg-color: #3B4455;\n",
       "      --fill-color: #D2E3FC;\n",
       "      --hover-bg-color: #434B5C;\n",
       "      --hover-fill-color: #FFFFFF;\n",
       "      --disabled-bg-color: #3B4455;\n",
       "      --disabled-fill-color: #666;\n",
       "  }\n",
       "\n",
       "  .colab-df-quickchart {\n",
       "    background-color: var(--bg-color);\n",
       "    border: none;\n",
       "    border-radius: 50%;\n",
       "    cursor: pointer;\n",
       "    display: none;\n",
       "    fill: var(--fill-color);\n",
       "    height: 32px;\n",
       "    padding: 0;\n",
       "    width: 32px;\n",
       "  }\n",
       "\n",
       "  .colab-df-quickchart:hover {\n",
       "    background-color: var(--hover-bg-color);\n",
       "    box-shadow: 0 1px 2px rgba(60, 64, 67, 0.3), 0 1px 3px 1px rgba(60, 64, 67, 0.15);\n",
       "    fill: var(--button-hover-fill-color);\n",
       "  }\n",
       "\n",
       "  .colab-df-quickchart-complete:disabled,\n",
       "  .colab-df-quickchart-complete:disabled:hover {\n",
       "    background-color: var(--disabled-bg-color);\n",
       "    fill: var(--disabled-fill-color);\n",
       "    box-shadow: none;\n",
       "  }\n",
       "\n",
       "  .colab-df-spinner {\n",
       "    border: 2px solid var(--fill-color);\n",
       "    border-color: transparent;\n",
       "    border-bottom-color: var(--fill-color);\n",
       "    animation:\n",
       "      spin 1s steps(1) infinite;\n",
       "  }\n",
       "\n",
       "  @keyframes spin {\n",
       "    0% {\n",
       "      border-color: transparent;\n",
       "      border-bottom-color: var(--fill-color);\n",
       "      border-left-color: var(--fill-color);\n",
       "    }\n",
       "    20% {\n",
       "      border-color: transparent;\n",
       "      border-left-color: var(--fill-color);\n",
       "      border-top-color: var(--fill-color);\n",
       "    }\n",
       "    30% {\n",
       "      border-color: transparent;\n",
       "      border-left-color: var(--fill-color);\n",
       "      border-top-color: var(--fill-color);\n",
       "      border-right-color: var(--fill-color);\n",
       "    }\n",
       "    40% {\n",
       "      border-color: transparent;\n",
       "      border-right-color: var(--fill-color);\n",
       "      border-top-color: var(--fill-color);\n",
       "    }\n",
       "    60% {\n",
       "      border-color: transparent;\n",
       "      border-right-color: var(--fill-color);\n",
       "    }\n",
       "    80% {\n",
       "      border-color: transparent;\n",
       "      border-right-color: var(--fill-color);\n",
       "      border-bottom-color: var(--fill-color);\n",
       "    }\n",
       "    90% {\n",
       "      border-color: transparent;\n",
       "      border-bottom-color: var(--fill-color);\n",
       "    }\n",
       "  }\n",
       "</style>\n",
       "\n",
       "      <script>\n",
       "        async function quickchart(key) {\n",
       "          const quickchartButtonEl =\n",
       "            document.querySelector('#' + key + ' button');\n",
       "          quickchartButtonEl.disabled = true;  // To prevent multiple clicks.\n",
       "          quickchartButtonEl.classList.add('colab-df-spinner');\n",
       "          try {\n",
       "            const charts = await google.colab.kernel.invokeFunction(\n",
       "                'suggestCharts', [key], {});\n",
       "          } catch (error) {\n",
       "            console.error('Error during call to suggestCharts:', error);\n",
       "          }\n",
       "          quickchartButtonEl.classList.remove('colab-df-spinner');\n",
       "          quickchartButtonEl.classList.add('colab-df-quickchart-complete');\n",
       "        }\n",
       "        (() => {\n",
       "          let quickchartButtonEl =\n",
       "            document.querySelector('#df-6c587aa2-a34a-429d-bd21-93d2f8c34362 button');\n",
       "          quickchartButtonEl.style.display =\n",
       "            google.colab.kernel.accessAllowed ? 'block' : 'none';\n",
       "        })();\n",
       "      </script>\n",
       "    </div>\n",
       "\n",
       "  <div id=\"id_615ababf-5c39-45f4-9035-493d415729ba\">\n",
       "    <style>\n",
       "      .colab-df-generate {\n",
       "        background-color: #E8F0FE;\n",
       "        border: none;\n",
       "        border-radius: 50%;\n",
       "        cursor: pointer;\n",
       "        display: none;\n",
       "        fill: #1967D2;\n",
       "        height: 32px;\n",
       "        padding: 0 0 0 0;\n",
       "        width: 32px;\n",
       "      }\n",
       "\n",
       "      .colab-df-generate:hover {\n",
       "        background-color: #E2EBFA;\n",
       "        box-shadow: 0px 1px 2px rgba(60, 64, 67, 0.3), 0px 1px 3px 1px rgba(60, 64, 67, 0.15);\n",
       "        fill: #174EA6;\n",
       "      }\n",
       "\n",
       "      [theme=dark] .colab-df-generate {\n",
       "        background-color: #3B4455;\n",
       "        fill: #D2E3FC;\n",
       "      }\n",
       "\n",
       "      [theme=dark] .colab-df-generate:hover {\n",
       "        background-color: #434B5C;\n",
       "        box-shadow: 0px 1px 3px 1px rgba(0, 0, 0, 0.15);\n",
       "        filter: drop-shadow(0px 1px 2px rgba(0, 0, 0, 0.3));\n",
       "        fill: #FFFFFF;\n",
       "      }\n",
       "    </style>\n",
       "    <button class=\"colab-df-generate\" onclick=\"generateWithVariable('data')\"\n",
       "            title=\"Generate code using this dataframe.\"\n",
       "            style=\"display:none;\">\n",
       "\n",
       "  <svg xmlns=\"http://www.w3.org/2000/svg\" height=\"24px\"viewBox=\"0 0 24 24\"\n",
       "       width=\"24px\">\n",
       "    <path d=\"M7,19H8.4L18.45,9,17,7.55,7,17.6ZM5,21V16.75L18.45,3.32a2,2,0,0,1,2.83,0l1.4,1.43a1.91,1.91,0,0,1,.58,1.4,1.91,1.91,0,0,1-.58,1.4L9.25,21ZM18.45,9,17,7.55Zm-12,3A5.31,5.31,0,0,0,4.9,8.1,5.31,5.31,0,0,0,1,6.5,5.31,5.31,0,0,0,4.9,4.9,5.31,5.31,0,0,0,6.5,1,5.31,5.31,0,0,0,8.1,4.9,5.31,5.31,0,0,0,12,6.5,5.46,5.46,0,0,0,6.5,12Z\"/>\n",
       "  </svg>\n",
       "    </button>\n",
       "    <script>\n",
       "      (() => {\n",
       "      const buttonEl =\n",
       "        document.querySelector('#id_615ababf-5c39-45f4-9035-493d415729ba button.colab-df-generate');\n",
       "      buttonEl.style.display =\n",
       "        google.colab.kernel.accessAllowed ? 'block' : 'none';\n",
       "\n",
       "      buttonEl.onclick = () => {\n",
       "        google.colab.notebook.generateWithVariable('data');\n",
       "      }\n",
       "      })();\n",
       "    </script>\n",
       "  </div>\n",
       "\n",
       "    </div>\n",
       "  </div>\n"
      ],
      "application/vnd.google.colaboratory.intrinsic+json": {
       "type": "dataframe",
       "variable_name": "data",
       "summary": "{\n  \"name\": \"data\",\n  \"rows\": 2000,\n  \"fields\": [\n    {\n      \"column\": \"date\",\n      \"properties\": {\n        \"dtype\": \"category\",\n        \"num_unique_values\": 57,\n        \"samples\": [\n          \"02/17/2020\",\n          \"05/19/2020\",\n          \"05/29/2020\"\n        ],\n        \"semantic_type\": \"\",\n        \"description\": \"\"\n      }\n    },\n    {\n      \"column\": \"url\",\n      \"properties\": {\n        \"dtype\": \"string\",\n        \"num_unique_values\": 2000,\n        \"samples\": [\n          \"https://health.detik.com/berita-detikhealth/d-4862777/berniat-redakan-sembelit-dengan-telan-belut-hidup-usus-pria-ini-bolong\",\n          \"https://health.detik.com/berita-detikhealth/d-4936613/pasangan-menteri-di-spanyol-positif-virus-corona-seluruh-pejabat-dites\",\n          \"https://health.detik.com/sexual-health/d-4873348/bercinta-sambil-berolahraga-3-posisi-ini-juga-bikin-bugar\"\n        ],\n        \"semantic_type\": \"\",\n        \"description\": \"\"\n      }\n    },\n    {\n      \"column\": \"title\",\n      \"properties\": {\n        \"dtype\": \"string\",\n        \"num_unique_values\": 1999,\n        \"samples\": [\n          \"Cuma Punya 11 Ruang Isolasi, Ini 'Curhat' RSPI Sulianti Saroso\",\n          \"Tangkal Corona di Indonesia, Perlukah Sekolah Diliburkan?\",\n          \"Kebas Kesemutan pada Diabetes Melitus, Ini Faktanya!\"\n        ],\n        \"semantic_type\": \"\",\n        \"description\": \"\"\n      }\n    },\n    {\n      \"column\": \"category\",\n      \"properties\": {\n        \"dtype\": \"category\",\n        \"num_unique_values\": 1,\n        \"samples\": [\n          \"health\"\n        ],\n        \"semantic_type\": \"\",\n        \"description\": \"\"\n      }\n    },\n    {\n      \"column\": \"text_preprocessing\",\n      \"properties\": {\n        \"dtype\": \"string\",\n        \"num_unique_values\": 1904,\n        \"samples\": [\n          \"serta turun kelas imbas iur imbau bpjs sehat\"\n        ],\n        \"semantic_type\": \"\",\n        \"description\": \"\"\n      }\n    },\n    {\n      \"column\": \"text_len\",\n      \"properties\": {\n        \"dtype\": \"number\",\n        \"std\": 1,\n        \"min\": 1,\n        \"max\": 11,\n        \"num_unique_values\": 11,\n        \"samples\": [\n          8\n        ],\n        \"semantic_type\": \"\",\n        \"description\": \"\"\n      }\n    }\n  ]\n}"
      }
     },
     "metadata": {},
     "execution_count": 3
    }
   ]
  },
  {
   "cell_type": "code",
   "source": [
    "#ntuk mencetak jumlah kata dari judul (headline) terpanjang\n",
    "print(\"The longest headline has: {} words\".format(data.text_len.max()))"
   ],
   "metadata": {
    "colab": {
     "base_uri": "https://localhost:8080/",
     "height": 0
    },
    "id": "d8HimmawI8vw",
    "outputId": "e7f675f2-c002-4312-e361-f0c6f3ab58da"
   },
   "execution_count": 4,
   "outputs": [
    {
     "output_type": "stream",
     "name": "stdout",
     "text": [
      "The longest headline has: 11 words\n"
     ]
    }
   ]
  },
  {
   "cell_type": "markdown",
   "source": [
    "## *b. Inisialisasi BERTopic*"
   ],
   "metadata": {
    "id": "aR-P9KgRJRGi"
   }
  },
  {
   "cell_type": "code",
   "source": [
    "!pip install bertopic"
   ],
   "metadata": {
    "colab": {
     "base_uri": "https://localhost:8080/",
     "height": 0
    },
    "id": "cV1tOzB0JQCl",
    "outputId": "34df6739-1aae-40d7-c609-49da6805e0a9"
   },
   "execution_count": 5,
   "outputs": [
    {
     "output_type": "stream",
     "name": "stdout",
     "text": [
      "Collecting bertopic\n",
      "  Downloading bertopic-0.17.0-py3-none-any.whl.metadata (23 kB)\n",
      "Requirement already satisfied: hdbscan>=0.8.29 in /usr/local/lib/python3.11/dist-packages (from bertopic) (0.8.40)\n",
      "Requirement already satisfied: numpy>=1.20.0 in /usr/local/lib/python3.11/dist-packages (from bertopic) (2.0.2)\n",
      "Requirement already satisfied: pandas>=1.1.5 in /usr/local/lib/python3.11/dist-packages (from bertopic) (2.2.2)\n",
      "Requirement already satisfied: plotly>=4.7.0 in /usr/local/lib/python3.11/dist-packages (from bertopic) (5.24.1)\n",
      "Requirement already satisfied: scikit-learn>=1.0 in /usr/local/lib/python3.11/dist-packages (from bertopic) (1.6.1)\n",
      "Requirement already satisfied: sentence-transformers>=0.4.1 in /usr/local/lib/python3.11/dist-packages (from bertopic) (4.1.0)\n",
      "Requirement already satisfied: tqdm>=4.41.1 in /usr/local/lib/python3.11/dist-packages (from bertopic) (4.67.1)\n",
      "Requirement already satisfied: umap-learn>=0.5.0 in /usr/local/lib/python3.11/dist-packages (from bertopic) (0.5.7)\n",
      "Requirement already satisfied: scipy>=1.0 in /usr/local/lib/python3.11/dist-packages (from hdbscan>=0.8.29->bertopic) (1.15.3)\n",
      "Requirement already satisfied: joblib>=1.0 in /usr/local/lib/python3.11/dist-packages (from hdbscan>=0.8.29->bertopic) (1.5.1)\n",
      "Requirement already satisfied: python-dateutil>=2.8.2 in /usr/local/lib/python3.11/dist-packages (from pandas>=1.1.5->bertopic) (2.9.0.post0)\n",
      "Requirement already satisfied: pytz>=2020.1 in /usr/local/lib/python3.11/dist-packages (from pandas>=1.1.5->bertopic) (2025.2)\n",
      "Requirement already satisfied: tzdata>=2022.7 in /usr/local/lib/python3.11/dist-packages (from pandas>=1.1.5->bertopic) (2025.2)\n",
      "Requirement already satisfied: tenacity>=6.2.0 in /usr/local/lib/python3.11/dist-packages (from plotly>=4.7.0->bertopic) (9.1.2)\n",
      "Requirement already satisfied: packaging in /usr/local/lib/python3.11/dist-packages (from plotly>=4.7.0->bertopic) (24.2)\n",
      "Requirement already satisfied: threadpoolctl>=3.1.0 in /usr/local/lib/python3.11/dist-packages (from scikit-learn>=1.0->bertopic) (3.6.0)\n",
      "Requirement already satisfied: transformers<5.0.0,>=4.41.0 in /usr/local/lib/python3.11/dist-packages (from sentence-transformers>=0.4.1->bertopic) (4.52.4)\n",
      "Requirement already satisfied: torch>=1.11.0 in /usr/local/lib/python3.11/dist-packages (from sentence-transformers>=0.4.1->bertopic) (2.6.0+cu124)\n",
      "Requirement already satisfied: huggingface-hub>=0.20.0 in /usr/local/lib/python3.11/dist-packages (from sentence-transformers>=0.4.1->bertopic) (0.32.4)\n",
      "Requirement already satisfied: Pillow in /usr/local/lib/python3.11/dist-packages (from sentence-transformers>=0.4.1->bertopic) (11.2.1)\n",
      "Requirement already satisfied: typing_extensions>=4.5.0 in /usr/local/lib/python3.11/dist-packages (from sentence-transformers>=0.4.1->bertopic) (4.14.0)\n",
      "Requirement already satisfied: numba>=0.51.2 in /usr/local/lib/python3.11/dist-packages (from umap-learn>=0.5.0->bertopic) (0.60.0)\n",
      "Requirement already satisfied: pynndescent>=0.5 in /usr/local/lib/python3.11/dist-packages (from umap-learn>=0.5.0->bertopic) (0.5.13)\n",
      "Requirement already satisfied: filelock in /usr/local/lib/python3.11/dist-packages (from huggingface-hub>=0.20.0->sentence-transformers>=0.4.1->bertopic) (3.18.0)\n",
      "Requirement already satisfied: fsspec>=2023.5.0 in /usr/local/lib/python3.11/dist-packages (from huggingface-hub>=0.20.0->sentence-transformers>=0.4.1->bertopic) (2025.3.2)\n",
      "Requirement already satisfied: pyyaml>=5.1 in /usr/local/lib/python3.11/dist-packages (from huggingface-hub>=0.20.0->sentence-transformers>=0.4.1->bertopic) (6.0.2)\n",
      "Requirement already satisfied: requests in /usr/local/lib/python3.11/dist-packages (from huggingface-hub>=0.20.0->sentence-transformers>=0.4.1->bertopic) (2.32.3)\n",
      "Requirement already satisfied: hf-xet<2.0.0,>=1.1.2 in /usr/local/lib/python3.11/dist-packages (from huggingface-hub>=0.20.0->sentence-transformers>=0.4.1->bertopic) (1.1.2)\n",
      "Requirement already satisfied: llvmlite<0.44,>=0.43.0dev0 in /usr/local/lib/python3.11/dist-packages (from numba>=0.51.2->umap-learn>=0.5.0->bertopic) (0.43.0)\n",
      "Requirement already satisfied: six>=1.5 in /usr/local/lib/python3.11/dist-packages (from python-dateutil>=2.8.2->pandas>=1.1.5->bertopic) (1.17.0)\n",
      "Requirement already satisfied: networkx in /usr/local/lib/python3.11/dist-packages (from torch>=1.11.0->sentence-transformers>=0.4.1->bertopic) (3.5)\n",
      "Requirement already satisfied: jinja2 in /usr/local/lib/python3.11/dist-packages (from torch>=1.11.0->sentence-transformers>=0.4.1->bertopic) (3.1.6)\n",
      "Collecting nvidia-cuda-nvrtc-cu12==12.4.127 (from torch>=1.11.0->sentence-transformers>=0.4.1->bertopic)\n",
      "  Downloading nvidia_cuda_nvrtc_cu12-12.4.127-py3-none-manylinux2014_x86_64.whl.metadata (1.5 kB)\n",
      "Collecting nvidia-cuda-runtime-cu12==12.4.127 (from torch>=1.11.0->sentence-transformers>=0.4.1->bertopic)\n",
      "  Downloading nvidia_cuda_runtime_cu12-12.4.127-py3-none-manylinux2014_x86_64.whl.metadata (1.5 kB)\n",
      "Collecting nvidia-cuda-cupti-cu12==12.4.127 (from torch>=1.11.0->sentence-transformers>=0.4.1->bertopic)\n",
      "  Downloading nvidia_cuda_cupti_cu12-12.4.127-py3-none-manylinux2014_x86_64.whl.metadata (1.6 kB)\n",
      "Collecting nvidia-cudnn-cu12==9.1.0.70 (from torch>=1.11.0->sentence-transformers>=0.4.1->bertopic)\n",
      "  Downloading nvidia_cudnn_cu12-9.1.0.70-py3-none-manylinux2014_x86_64.whl.metadata (1.6 kB)\n",
      "Collecting nvidia-cublas-cu12==12.4.5.8 (from torch>=1.11.0->sentence-transformers>=0.4.1->bertopic)\n",
      "  Downloading nvidia_cublas_cu12-12.4.5.8-py3-none-manylinux2014_x86_64.whl.metadata (1.5 kB)\n",
      "Collecting nvidia-cufft-cu12==11.2.1.3 (from torch>=1.11.0->sentence-transformers>=0.4.1->bertopic)\n",
      "  Downloading nvidia_cufft_cu12-11.2.1.3-py3-none-manylinux2014_x86_64.whl.metadata (1.5 kB)\n",
      "Collecting nvidia-curand-cu12==10.3.5.147 (from torch>=1.11.0->sentence-transformers>=0.4.1->bertopic)\n",
      "  Downloading nvidia_curand_cu12-10.3.5.147-py3-none-manylinux2014_x86_64.whl.metadata (1.5 kB)\n",
      "Collecting nvidia-cusolver-cu12==11.6.1.9 (from torch>=1.11.0->sentence-transformers>=0.4.1->bertopic)\n",
      "  Downloading nvidia_cusolver_cu12-11.6.1.9-py3-none-manylinux2014_x86_64.whl.metadata (1.6 kB)\n",
      "Collecting nvidia-cusparse-cu12==12.3.1.170 (from torch>=1.11.0->sentence-transformers>=0.4.1->bertopic)\n",
      "  Downloading nvidia_cusparse_cu12-12.3.1.170-py3-none-manylinux2014_x86_64.whl.metadata (1.6 kB)\n",
      "Requirement already satisfied: nvidia-cusparselt-cu12==0.6.2 in /usr/local/lib/python3.11/dist-packages (from torch>=1.11.0->sentence-transformers>=0.4.1->bertopic) (0.6.2)\n",
      "Requirement already satisfied: nvidia-nccl-cu12==2.21.5 in /usr/local/lib/python3.11/dist-packages (from torch>=1.11.0->sentence-transformers>=0.4.1->bertopic) (2.21.5)\n",
      "Requirement already satisfied: nvidia-nvtx-cu12==12.4.127 in /usr/local/lib/python3.11/dist-packages (from torch>=1.11.0->sentence-transformers>=0.4.1->bertopic) (12.4.127)\n",
      "Collecting nvidia-nvjitlink-cu12==12.4.127 (from torch>=1.11.0->sentence-transformers>=0.4.1->bertopic)\n",
      "  Downloading nvidia_nvjitlink_cu12-12.4.127-py3-none-manylinux2014_x86_64.whl.metadata (1.5 kB)\n",
      "Requirement already satisfied: triton==3.2.0 in /usr/local/lib/python3.11/dist-packages (from torch>=1.11.0->sentence-transformers>=0.4.1->bertopic) (3.2.0)\n",
      "Requirement already satisfied: sympy==1.13.1 in /usr/local/lib/python3.11/dist-packages (from torch>=1.11.0->sentence-transformers>=0.4.1->bertopic) (1.13.1)\n",
      "Requirement already satisfied: mpmath<1.4,>=1.1.0 in /usr/local/lib/python3.11/dist-packages (from sympy==1.13.1->torch>=1.11.0->sentence-transformers>=0.4.1->bertopic) (1.3.0)\n",
      "Requirement already satisfied: regex!=2019.12.17 in /usr/local/lib/python3.11/dist-packages (from transformers<5.0.0,>=4.41.0->sentence-transformers>=0.4.1->bertopic) (2024.11.6)\n",
      "Requirement already satisfied: tokenizers<0.22,>=0.21 in /usr/local/lib/python3.11/dist-packages (from transformers<5.0.0,>=4.41.0->sentence-transformers>=0.4.1->bertopic) (0.21.1)\n",
      "Requirement already satisfied: safetensors>=0.4.3 in /usr/local/lib/python3.11/dist-packages (from transformers<5.0.0,>=4.41.0->sentence-transformers>=0.4.1->bertopic) (0.5.3)\n",
      "Requirement already satisfied: MarkupSafe>=2.0 in /usr/local/lib/python3.11/dist-packages (from jinja2->torch>=1.11.0->sentence-transformers>=0.4.1->bertopic) (3.0.2)\n",
      "Requirement already satisfied: charset-normalizer<4,>=2 in /usr/local/lib/python3.11/dist-packages (from requests->huggingface-hub>=0.20.0->sentence-transformers>=0.4.1->bertopic) (3.4.2)\n",
      "Requirement already satisfied: idna<4,>=2.5 in /usr/local/lib/python3.11/dist-packages (from requests->huggingface-hub>=0.20.0->sentence-transformers>=0.4.1->bertopic) (3.10)\n",
      "Requirement already satisfied: urllib3<3,>=1.21.1 in /usr/local/lib/python3.11/dist-packages (from requests->huggingface-hub>=0.20.0->sentence-transformers>=0.4.1->bertopic) (2.4.0)\n",
      "Requirement already satisfied: certifi>=2017.4.17 in /usr/local/lib/python3.11/dist-packages (from requests->huggingface-hub>=0.20.0->sentence-transformers>=0.4.1->bertopic) (2025.4.26)\n",
      "Downloading bertopic-0.17.0-py3-none-any.whl (150 kB)\n",
      "\u001b[2K   \u001b[90m\u2501\u2501\u2501\u2501\u2501\u2501\u2501\u2501\u2501\u2501\u2501\u2501\u2501\u2501\u2501\u2501\u2501\u2501\u2501\u2501\u2501\u2501\u2501\u2501\u2501\u2501\u2501\u2501\u2501\u2501\u2501\u2501\u2501\u2501\u2501\u2501\u2501\u2501\u2501\u2501\u001b[0m \u001b[32m150.6/150.6 kB\u001b[0m \u001b[31m5.7 MB/s\u001b[0m eta \u001b[36m0:00:00\u001b[0m\n",
      "\u001b[?25hDownloading nvidia_cublas_cu12-12.4.5.8-py3-none-manylinux2014_x86_64.whl (363.4 MB)\n",
      "\u001b[2K   \u001b[90m\u2501\u2501\u2501\u2501\u2501\u2501\u2501\u2501\u2501\u2501\u2501\u2501\u2501\u2501\u2501\u2501\u2501\u2501\u2501\u2501\u2501\u2501\u2501\u2501\u2501\u2501\u2501\u2501\u2501\u2501\u2501\u2501\u2501\u2501\u2501\u2501\u2501\u2501\u2501\u2501\u001b[0m \u001b[32m363.4/363.4 MB\u001b[0m \u001b[31m4.4 MB/s\u001b[0m eta \u001b[36m0:00:00\u001b[0m\n",
      "\u001b[?25hDownloading nvidia_cuda_cupti_cu12-12.4.127-py3-none-manylinux2014_x86_64.whl (13.8 MB)\n",
      "\u001b[2K   \u001b[90m\u2501\u2501\u2501\u2501\u2501\u2501\u2501\u2501\u2501\u2501\u2501\u2501\u2501\u2501\u2501\u2501\u2501\u2501\u2501\u2501\u2501\u2501\u2501\u2501\u2501\u2501\u2501\u2501\u2501\u2501\u2501\u2501\u2501\u2501\u2501\u2501\u2501\u2501\u2501\u2501\u001b[0m \u001b[32m13.8/13.8 MB\u001b[0m \u001b[31m111.6 MB/s\u001b[0m eta \u001b[36m0:00:00\u001b[0m\n",
      "\u001b[?25hDownloading nvidia_cuda_nvrtc_cu12-12.4.127-py3-none-manylinux2014_x86_64.whl (24.6 MB)\n",
      "\u001b[2K   \u001b[90m\u2501\u2501\u2501\u2501\u2501\u2501\u2501\u2501\u2501\u2501\u2501\u2501\u2501\u2501\u2501\u2501\u2501\u2501\u2501\u2501\u2501\u2501\u2501\u2501\u2501\u2501\u2501\u2501\u2501\u2501\u2501\u2501\u2501\u2501\u2501\u2501\u2501\u2501\u2501\u2501\u001b[0m \u001b[32m24.6/24.6 MB\u001b[0m \u001b[31m85.9 MB/s\u001b[0m eta \u001b[36m0:00:00\u001b[0m\n",
      "\u001b[?25hDownloading nvidia_cuda_runtime_cu12-12.4.127-py3-none-manylinux2014_x86_64.whl (883 kB)\n",
      "\u001b[2K   \u001b[90m\u2501\u2501\u2501\u2501\u2501\u2501\u2501\u2501\u2501\u2501\u2501\u2501\u2501\u2501\u2501\u2501\u2501\u2501\u2501\u2501\u2501\u2501\u2501\u2501\u2501\u2501\u2501\u2501\u2501\u2501\u2501\u2501\u2501\u2501\u2501\u2501\u2501\u2501\u2501\u2501\u001b[0m \u001b[32m883.7/883.7 kB\u001b[0m \u001b[31m54.7 MB/s\u001b[0m eta \u001b[36m0:00:00\u001b[0m\n",
      "\u001b[?25hDownloading nvidia_cudnn_cu12-9.1.0.70-py3-none-manylinux2014_x86_64.whl (664.8 MB)\n",
      "\u001b[2K   \u001b[90m\u2501\u2501\u2501\u2501\u2501\u2501\u2501\u2501\u2501\u2501\u2501\u2501\u2501\u2501\u2501\u2501\u2501\u2501\u2501\u2501\u2501\u2501\u2501\u2501\u2501\u2501\u2501\u2501\u2501\u2501\u2501\u2501\u2501\u2501\u2501\u2501\u2501\u2501\u2501\u2501\u001b[0m \u001b[32m664.8/664.8 MB\u001b[0m \u001b[31m2.2 MB/s\u001b[0m eta \u001b[36m0:00:00\u001b[0m\n",
      "\u001b[?25hDownloading nvidia_cufft_cu12-11.2.1.3-py3-none-manylinux2014_x86_64.whl (211.5 MB)\n",
      "\u001b[2K   \u001b[90m\u2501\u2501\u2501\u2501\u2501\u2501\u2501\u2501\u2501\u2501\u2501\u2501\u2501\u2501\u2501\u2501\u2501\u2501\u2501\u2501\u2501\u2501\u2501\u2501\u2501\u2501\u2501\u2501\u2501\u2501\u2501\u2501\u2501\u2501\u2501\u2501\u2501\u2501\u2501\u2501\u001b[0m \u001b[32m211.5/211.5 MB\u001b[0m \u001b[31m5.6 MB/s\u001b[0m eta \u001b[36m0:00:00\u001b[0m\n",
      "\u001b[?25hDownloading nvidia_curand_cu12-10.3.5.147-py3-none-manylinux2014_x86_64.whl (56.3 MB)\n",
      "\u001b[2K   \u001b[90m\u2501\u2501\u2501\u2501\u2501\u2501\u2501\u2501\u2501\u2501\u2501\u2501\u2501\u2501\u2501\u2501\u2501\u2501\u2501\u2501\u2501\u2501\u2501\u2501\u2501\u2501\u2501\u2501\u2501\u2501\u2501\u2501\u2501\u2501\u2501\u2501\u2501\u2501\u2501\u2501\u001b[0m \u001b[32m56.3/56.3 MB\u001b[0m \u001b[31m16.2 MB/s\u001b[0m eta \u001b[36m0:00:00\u001b[0m\n",
      "\u001b[?25hDownloading nvidia_cusolver_cu12-11.6.1.9-py3-none-manylinux2014_x86_64.whl (127.9 MB)\n",
      "\u001b[2K   \u001b[90m\u2501\u2501\u2501\u2501\u2501\u2501\u2501\u2501\u2501\u2501\u2501\u2501\u2501\u2501\u2501\u2501\u2501\u2501\u2501\u2501\u2501\u2501\u2501\u2501\u2501\u2501\u2501\u2501\u2501\u2501\u2501\u2501\u2501\u2501\u2501\u2501\u2501\u2501\u2501\u2501\u001b[0m \u001b[32m127.9/127.9 MB\u001b[0m \u001b[31m7.1 MB/s\u001b[0m eta \u001b[36m0:00:00\u001b[0m\n",
      "\u001b[?25hDownloading nvidia_cusparse_cu12-12.3.1.170-py3-none-manylinux2014_x86_64.whl (207.5 MB)\n",
      "\u001b[2K   \u001b[90m\u2501\u2501\u2501\u2501\u2501\u2501\u2501\u2501\u2501\u2501\u2501\u2501\u2501\u2501\u2501\u2501\u2501\u2501\u2501\u2501\u2501\u2501\u2501\u2501\u2501\u2501\u2501\u2501\u2501\u2501\u2501\u2501\u2501\u2501\u2501\u2501\u2501\u2501\u2501\u2501\u001b[0m \u001b[32m207.5/207.5 MB\u001b[0m \u001b[31m7.2 MB/s\u001b[0m eta \u001b[36m0:00:00\u001b[0m\n",
      "\u001b[?25hDownloading nvidia_nvjitlink_cu12-12.4.127-py3-none-manylinux2014_x86_64.whl (21.1 MB)\n",
      "\u001b[2K   \u001b[90m\u2501\u2501\u2501\u2501\u2501\u2501\u2501\u2501\u2501\u2501\u2501\u2501\u2501\u2501\u2501\u2501\u2501\u2501\u2501\u2501\u2501\u2501\u2501\u2501\u2501\u2501\u2501\u2501\u2501\u2501\u2501\u2501\u2501\u2501\u2501\u2501\u2501\u2501\u2501\u2501\u001b[0m \u001b[32m21.1/21.1 MB\u001b[0m \u001b[31m95.0 MB/s\u001b[0m eta \u001b[36m0:00:00\u001b[0m\n",
      "\u001b[?25hInstalling collected packages: nvidia-nvjitlink-cu12, nvidia-curand-cu12, nvidia-cufft-cu12, nvidia-cuda-runtime-cu12, nvidia-cuda-nvrtc-cu12, nvidia-cuda-cupti-cu12, nvidia-cublas-cu12, nvidia-cusparse-cu12, nvidia-cudnn-cu12, nvidia-cusolver-cu12, bertopic\n",
      "  Attempting uninstall: nvidia-nvjitlink-cu12\n",
      "    Found existing installation: nvidia-nvjitlink-cu12 12.5.82\n",
      "    Uninstalling nvidia-nvjitlink-cu12-12.5.82:\n",
      "      Successfully uninstalled nvidia-nvjitlink-cu12-12.5.82\n",
      "  Attempting uninstall: nvidia-curand-cu12\n",
      "    Found existing installation: nvidia-curand-cu12 10.3.6.82\n",
      "    Uninstalling nvidia-curand-cu12-10.3.6.82:\n",
      "      Successfully uninstalled nvidia-curand-cu12-10.3.6.82\n",
      "  Attempting uninstall: nvidia-cufft-cu12\n",
      "    Found existing installation: nvidia-cufft-cu12 11.2.3.61\n",
      "    Uninstalling nvidia-cufft-cu12-11.2.3.61:\n",
      "      Successfully uninstalled nvidia-cufft-cu12-11.2.3.61\n",
      "  Attempting uninstall: nvidia-cuda-runtime-cu12\n",
      "    Found existing installation: nvidia-cuda-runtime-cu12 12.5.82\n",
      "    Uninstalling nvidia-cuda-runtime-cu12-12.5.82:\n",
      "      Successfully uninstalled nvidia-cuda-runtime-cu12-12.5.82\n",
      "  Attempting uninstall: nvidia-cuda-nvrtc-cu12\n",
      "    Found existing installation: nvidia-cuda-nvrtc-cu12 12.5.82\n",
      "    Uninstalling nvidia-cuda-nvrtc-cu12-12.5.82:\n",
      "      Successfully uninstalled nvidia-cuda-nvrtc-cu12-12.5.82\n",
      "  Attempting uninstall: nvidia-cuda-cupti-cu12\n",
      "    Found existing installation: nvidia-cuda-cupti-cu12 12.5.82\n",
      "    Uninstalling nvidia-cuda-cupti-cu12-12.5.82:\n",
      "      Successfully uninstalled nvidia-cuda-cupti-cu12-12.5.82\n",
      "  Attempting uninstall: nvidia-cublas-cu12\n",
      "    Found existing installation: nvidia-cublas-cu12 12.5.3.2\n",
      "    Uninstalling nvidia-cublas-cu12-12.5.3.2:\n",
      "      Successfully uninstalled nvidia-cublas-cu12-12.5.3.2\n",
      "  Attempting uninstall: nvidia-cusparse-cu12\n",
      "    Found existing installation: nvidia-cusparse-cu12 12.5.1.3\n",
      "    Uninstalling nvidia-cusparse-cu12-12.5.1.3:\n",
      "      Successfully uninstalled nvidia-cusparse-cu12-12.5.1.3\n",
      "  Attempting uninstall: nvidia-cudnn-cu12\n",
      "    Found existing installation: nvidia-cudnn-cu12 9.3.0.75\n",
      "    Uninstalling nvidia-cudnn-cu12-9.3.0.75:\n",
      "      Successfully uninstalled nvidia-cudnn-cu12-9.3.0.75\n",
      "  Attempting uninstall: nvidia-cusolver-cu12\n",
      "    Found existing installation: nvidia-cusolver-cu12 11.6.3.83\n",
      "    Uninstalling nvidia-cusolver-cu12-11.6.3.83:\n",
      "      Successfully uninstalled nvidia-cusolver-cu12-11.6.3.83\n",
      "Successfully installed bertopic-0.17.0 nvidia-cublas-cu12-12.4.5.8 nvidia-cuda-cupti-cu12-12.4.127 nvidia-cuda-nvrtc-cu12-12.4.127 nvidia-cuda-runtime-cu12-12.4.127 nvidia-cudnn-cu12-9.1.0.70 nvidia-cufft-cu12-11.2.1.3 nvidia-curand-cu12-10.3.5.147 nvidia-cusolver-cu12-11.6.1.9 nvidia-cusparse-cu12-12.3.1.170 nvidia-nvjitlink-cu12-12.4.127\n"
     ]
    }
   ]
  },
  {
   "cell_type": "code",
   "source": [
    "from bertopic import BERTopic\n",
    "from sklearn.feature_extraction.text import CountVectorizer\n",
    "import numpy as np\n",
    "from collections import defaultdict"
   ],
   "metadata": {
    "id": "l-fDI4VYJfmE"
   },
   "execution_count": 6,
   "outputs": []
  },
  {
   "cell_type": "code",
   "source": [
    "# Ubah kolom 'teks' menjadi tipe string\n",
    "data['text_preprocessing'] = data['text_preprocessing'].astype(str).fillna('')"
   ],
   "metadata": {
    "id": "BIkhKzw4Jt7p"
   },
   "execution_count": 7,
   "outputs": []
  },
  {
   "cell_type": "code",
   "source": [
    "# Fungsi untuk menghitung PMI antara dua kata\n",
    "def calculate_pmi(word1, word2, document_term_matrix, vocabulary):\n",
    "    # Dapatkan indeks kata\n",
    "    idx1 = vocabulary.get(word1)\n",
    "    idx2 = vocabulary.get(word2)\n",
    "\n",
    "    if idx1 is None or idx2 is None:\n",
    "        return 0.0 # Kata tidak ditemukan\n",
    "\n",
    "    # Hitung kemunculan bersama (co-occurrence) dalam dokumen\n",
    "    # Ini adalah perkiraan sederhana, bisa lebih canggih\n",
    "    co_occurrence_count = np.sum(document_term_matrix[:, idx1].toarray() * document_term_matrix[:, idx2].toarray())\n",
    "\n",
    "    # Hitung kemunculan masing-masing kata\n",
    "    count1 = np.sum(document_term_matrix[:, idx1].toarray())\n",
    "    count2 = np.sum(document_term_matrix[:, idx2].toarray())\n",
    "\n",
    "    num_documents = document_term_matrix.shape[0]\n",
    "\n",
    "    # Hindari pembagian dengan nol\n",
    "    if count1 == 0 or count2 == 0 or co_occurrence_count == 0:\n",
    "        return 0.0\n",
    "\n",
    "    # Hitung probabilitas\n",
    "    p_word1_and_word2 = co_occurrence_count / num_documents\n",
    "    p_word1 = count1 / num_documents\n",
    "    p_word2 = count2 / num_documents\n",
    "\n",
    "    # Hitung PMI\n",
    "    pmi = np.log2(p_word1_and_word2 / (p_word1 * p_word2))\n",
    "\n",
    "    return pmi"
   ],
   "metadata": {
    "id": "cuzLteFMKaMr"
   },
   "execution_count": 8,
   "outputs": []
  },
  {
   "cell_type": "code",
   "source": [
    "# Contoh loop untuk mencoba beberapa nilai nr_topics\n",
    "coherence_scores_pmi = {}\n",
    "\n",
    "# Inisialisasi CountVectorizer\n",
    "vectorizer = CountVectorizer()\n",
    "# Ubah teks menjadi matriks frekuensi kata\n",
    "document_term_matrix = vectorizer.fit_transform(data.text_preprocessing)\n",
    "# Dapatkan daftar kosakata\n",
    "vocabulary = vectorizer.vocabulary_\n",
    "\n",
    "for num_topics in range(5, 30, 5): # Coba rentang jumlah topik\n",
    "    model = BERTopic(verbose=True, embedding_model='paraphrase-MiniLM-L3-v2', min_topic_size=7, nr_topics=num_topics)\n",
    "    headline_topics, _ = model.fit_transform(data.text_preprocessing)\n",
    "\n",
    "    # Dapatkan kata-kata teratas untuk setiap topik\n",
    "    topic_words_dict = model.get_topics()\n",
    "    topics = [[word for word, _ in model.get_topic(topic_id)] for topic_id in topic_words_dict.keys() if topic_id != -1] # Lewati topik outlier\n",
    "\n",
    "    # Hitung coherence score berbasis PMI untuk setiap topik\n",
    "    topic_coherence_scores = []\n",
    "    for topic in topics:\n",
    "        pmi_scores = []\n",
    "        # Hitung PMI untuk setiap pasangan kata dalam topik\n",
    "        for i in range(len(topic)):\n",
    "            for j in range(i + 1, len(topic)):\n",
    "                pmi = calculate_pmi(topic[i], topic[j], document_term_matrix, vocabulary)\n",
    "                pmi_scores.append(pmi)\n",
    "\n",
    "        # Rata-ratakan PMI scores untuk mendapatkan coherence score topik\n",
    "        if pmi_scores:\n",
    "            topic_coherence_scores.append(np.mean(pmi_scores))\n",
    "        else:\n",
    "            topic_coherence_scores.append(0.0) # Topik kosong atau hanya satu kata\n",
    "\n",
    "    # Rata-ratakan coherence scores topik untuk mendapatkan coherence score model\n",
    "    if topic_coherence_scores:\n",
    "        coherence_scores_pmi[num_topics] = np.mean(topic_coherence_scores)\n",
    "    else:\n",
    "        coherence_scores_pmi[num_topics] = 0.0\n",
    "\n",
    "    print(f\"Jumlah Topik: {num_topics}, Coherence Score (PMI): {coherence_scores_pmi[num_topics]}\")"
   ],
   "metadata": {
    "colab": {
     "base_uri": "https://localhost:8080/",
     "height": 1305,
     "referenced_widgets": [
      "ed1b716feac645d4b5cfc61bab09f680",
      "821dc2a8160c47f6ad69e0905a8560e2",
      "8d7b56724f3f46aca6b9c5b32d5fd689",
      "e85be980442f487eba972eae70ef5ad3",
      "791d1cf6b23948aa820a3d00972f5470",
      "4a114179aaf845108cc2a6f3a1e868b6",
      "741110be03da4ad882b2348ef370a98d",
      "6b11c65319a4428f8acd3a9b8e9deeec",
      "bf43c0db553e48beaaf58eb28da3259d",
      "493109b7d43b437787cac5b87e072332",
      "db4c9e4a25a1434b8210333942b9e581",
      "aa62a76ab97a4cefadcaf14b345954cc",
      "a403d59706454fa08707c810e6946657",
      "423a9ccf48a94b13b9eda0bc68ec7120",
      "43157acea5694a81abb80055e6675448",
      "5f00cdc59fb847aaacb7266bb4a59c27",
      "9fcaf5837d6549248f29e30d99215973",
      "7cc22e6af4e04ce5a0a0c06de200b5e9",
      "6a30911cbeaa43f79223d6ff45d1a49a",
      "c4ae05464e224e448a9e14013370ade9",
      "8d86a09bec3c4b42aa73b419a5fced66",
      "3ecff03e5a56436fb27b2c1323450ef7",
      "83fc203eee6042efaba62ac690f9ba82",
      "acd3dc33a4dd4536b45333658351ea78",
      "9d898c2e913f42a0a7d8c5af4172dba6",
      "1cbebcc6aa5a415eb845414e2183418b",
      "568c3f6d5a95421888a25691b7b02289",
      "bb84072e365b4316a60d4dc8d2b1eb4c",
      "9e459f550d9746e59935445e2c37cc9d",
      "02fe911a6db9438785ad57d29979a686",
      "aa9e4fee54264b9caf8cbd714bbf34b4",
      "108ff3f00f5b4017a46f647fe6ea7725",
      "6b6687eb63c94389bfbc24c22ff34221",
      "3a7eecfccf52460092947a34a895af41",
      "513b41f2aca1427e8bf4dac7deba389f",
      "1886002d6d6d47d6b32085dcadf7e8fb",
      "3e00e07e866f4c1984e8152485742e21",
      "2078c0f7907b421388ff68bdb02dc1bc",
      "6060df82132542bd9fc09ed60806550e",
      "37bbb89faa7a4981818c043f59fa2110",
      "165f23a5d0644045aebc92cf18b4a208",
      "f2e519afec764fb1b56db08899d3275f",
      "db8d3e6d5e0d476ca592ddea9ad7ed01",
      "283d540e03824bdf9a1471063ee478d2",
      "a6194698de7e42e59f319b233dbbd878",
      "dcabfe2dd11b4e58ad10839e16760e28",
      "acbf05fe4da7420695d181484fa5919a",
      "60ace7dbafc84f64a52ef67d5892c18e",
      "fb952793d19b4c509d4ab5414f0d2747",
      "3730e046ac454170a75f8abfcc2df1a5",
      "b03cf0d6d699446cb190b48153210c62",
      "f6db1c60e5d144238aea324df5760b9c",
      "795e664cda3f4600b73828d03af7a337",
      "56a33ef3c9d04450bf7db6cd5b148468",
      "e7820ea8f88d400396b153f1c18ce60e"
     ]
    },
    "id": "0yOalJ4YMNXd",
    "outputId": "6e5d52c7-deef-4b4e-e6fe-d356779730c6"
   },
   "execution_count": 13,
   "outputs": [
    {
     "output_type": "stream",
     "name": "stderr",
     "text": [
      "2025-06-09 03:05:45,936 - BERTopic - Embedding - Transforming documents to embeddings.\n"
     ]
    },
    {
     "output_type": "display_data",
     "data": {
      "text/plain": [
       "Batches:   0%|          | 0/63 [00:00<?, ?it/s]"
      ],
      "application/vnd.jupyter.widget-view+json": {
       "version_major": 2,
       "version_minor": 0,
       "model_id": "ed1b716feac645d4b5cfc61bab09f680"
      }
     },
     "metadata": {}
    },
    {
     "output_type": "stream",
     "name": "stderr",
     "text": [
      "2025-06-09 03:05:57,086 - BERTopic - Embedding - Completed \u2713\n",
      "2025-06-09 03:05:57,088 - BERTopic - Dimensionality - Fitting the dimensionality reduction algorithm\n",
      "2025-06-09 03:06:04,083 - BERTopic - Dimensionality - Completed \u2713\n",
      "2025-06-09 03:06:04,085 - BERTopic - Cluster - Start clustering the reduced embeddings\n",
      "2025-06-09 03:06:04,163 - BERTopic - Cluster - Completed \u2713\n",
      "2025-06-09 03:06:04,164 - BERTopic - Representation - Extracting topics using c-TF-IDF for topic reduction.\n",
      "2025-06-09 03:06:04,277 - BERTopic - Representation - Completed \u2713\n",
      "2025-06-09 03:06:04,279 - BERTopic - Topic reduction - Reducing number of topics\n",
      "2025-06-09 03:06:04,289 - BERTopic - Representation - Fine-tuning topics using representation models.\n",
      "2025-06-09 03:06:04,336 - BERTopic - Representation - Completed \u2713\n",
      "2025-06-09 03:06:04,339 - BERTopic - Topic reduction - Reduced number of topics from 71 to 5\n",
      "2025-06-09 03:06:04,604 - BERTopic - Embedding - Transforming documents to embeddings.\n"
     ]
    },
    {
     "output_type": "stream",
     "name": "stdout",
     "text": [
      "Jumlah Topik: 5, Coherence Score (PMI): 1.98770924088261\n"
     ]
    },
    {
     "output_type": "display_data",
     "data": {
      "text/plain": [
       "Batches:   0%|          | 0/63 [00:00<?, ?it/s]"
      ],
      "application/vnd.jupyter.widget-view+json": {
       "version_major": 2,
       "version_minor": 0,
       "model_id": "aa62a76ab97a4cefadcaf14b345954cc"
      }
     },
     "metadata": {}
    },
    {
     "output_type": "stream",
     "name": "stderr",
     "text": [
      "2025-06-09 03:06:14,561 - BERTopic - Embedding - Completed \u2713\n",
      "2025-06-09 03:06:14,562 - BERTopic - Dimensionality - Fitting the dimensionality reduction algorithm\n",
      "2025-06-09 03:06:22,685 - BERTopic - Dimensionality - Completed \u2713\n",
      "2025-06-09 03:06:22,686 - BERTopic - Cluster - Start clustering the reduced embeddings\n",
      "2025-06-09 03:06:22,763 - BERTopic - Cluster - Completed \u2713\n",
      "2025-06-09 03:06:22,764 - BERTopic - Representation - Extracting topics using c-TF-IDF for topic reduction.\n",
      "2025-06-09 03:06:22,849 - BERTopic - Representation - Completed \u2713\n",
      "2025-06-09 03:06:22,850 - BERTopic - Topic reduction - Reducing number of topics\n",
      "2025-06-09 03:06:22,861 - BERTopic - Representation - Fine-tuning topics using representation models.\n",
      "2025-06-09 03:06:22,901 - BERTopic - Representation - Completed \u2713\n",
      "2025-06-09 03:06:22,906 - BERTopic - Topic reduction - Reduced number of topics from 72 to 10\n",
      "2025-06-09 03:06:23,285 - BERTopic - Embedding - Transforming documents to embeddings.\n"
     ]
    },
    {
     "output_type": "stream",
     "name": "stdout",
     "text": [
      "Jumlah Topik: 10, Coherence Score (PMI): 2.2906769958986133\n"
     ]
    },
    {
     "output_type": "display_data",
     "data": {
      "text/plain": [
       "Batches:   0%|          | 0/63 [00:00<?, ?it/s]"
      ],
      "application/vnd.jupyter.widget-view+json": {
       "version_major": 2,
       "version_minor": 0,
       "model_id": "83fc203eee6042efaba62ac690f9ba82"
      }
     },
     "metadata": {}
    },
    {
     "output_type": "stream",
     "name": "stderr",
     "text": [
      "2025-06-09 03:06:34,120 - BERTopic - Embedding - Completed \u2713\n",
      "2025-06-09 03:06:34,121 - BERTopic - Dimensionality - Fitting the dimensionality reduction algorithm\n",
      "2025-06-09 03:06:41,127 - BERTopic - Dimensionality - Completed \u2713\n",
      "2025-06-09 03:06:41,128 - BERTopic - Cluster - Start clustering the reduced embeddings\n",
      "2025-06-09 03:06:41,202 - BERTopic - Cluster - Completed \u2713\n",
      "2025-06-09 03:06:41,203 - BERTopic - Representation - Extracting topics using c-TF-IDF for topic reduction.\n",
      "2025-06-09 03:06:41,296 - BERTopic - Representation - Completed \u2713\n",
      "2025-06-09 03:06:41,297 - BERTopic - Topic reduction - Reducing number of topics\n",
      "2025-06-09 03:06:41,311 - BERTopic - Representation - Fine-tuning topics using representation models.\n",
      "2025-06-09 03:06:41,359 - BERTopic - Representation - Completed \u2713\n",
      "2025-06-09 03:06:41,362 - BERTopic - Topic reduction - Reduced number of topics from 69 to 15\n",
      "2025-06-09 03:06:42,109 - BERTopic - Embedding - Transforming documents to embeddings.\n"
     ]
    },
    {
     "output_type": "stream",
     "name": "stdout",
     "text": [
      "Jumlah Topik: 15, Coherence Score (PMI): 2.39375740293444\n"
     ]
    },
    {
     "output_type": "display_data",
     "data": {
      "text/plain": [
       "Batches:   0%|          | 0/63 [00:00<?, ?it/s]"
      ],
      "application/vnd.jupyter.widget-view+json": {
       "version_major": 2,
       "version_minor": 0,
       "model_id": "3a7eecfccf52460092947a34a895af41"
      }
     },
     "metadata": {}
    },
    {
     "output_type": "stream",
     "name": "stderr",
     "text": [
      "2025-06-09 03:06:51,990 - BERTopic - Embedding - Completed \u2713\n",
      "2025-06-09 03:06:51,992 - BERTopic - Dimensionality - Fitting the dimensionality reduction algorithm\n",
      "2025-06-09 03:07:02,385 - BERTopic - Dimensionality - Completed \u2713\n",
      "2025-06-09 03:07:02,388 - BERTopic - Cluster - Start clustering the reduced embeddings\n",
      "2025-06-09 03:07:02,517 - BERTopic - Cluster - Completed \u2713\n",
      "2025-06-09 03:07:02,520 - BERTopic - Representation - Extracting topics using c-TF-IDF for topic reduction.\n",
      "2025-06-09 03:07:02,751 - BERTopic - Representation - Completed \u2713\n",
      "2025-06-09 03:07:02,752 - BERTopic - Topic reduction - Reducing number of topics\n",
      "2025-06-09 03:07:02,763 - BERTopic - Representation - Fine-tuning topics using representation models.\n",
      "2025-06-09 03:07:02,813 - BERTopic - Representation - Completed \u2713\n",
      "2025-06-09 03:07:02,819 - BERTopic - Topic reduction - Reduced number of topics from 69 to 20\n",
      "2025-06-09 03:07:04,001 - BERTopic - Embedding - Transforming documents to embeddings.\n"
     ]
    },
    {
     "output_type": "stream",
     "name": "stdout",
     "text": [
      "Jumlah Topik: 20, Coherence Score (PMI): 2.4749511725136983\n"
     ]
    },
    {
     "output_type": "display_data",
     "data": {
      "text/plain": [
       "Batches:   0%|          | 0/63 [00:00<?, ?it/s]"
      ],
      "application/vnd.jupyter.widget-view+json": {
       "version_major": 2,
       "version_minor": 0,
       "model_id": "a6194698de7e42e59f319b233dbbd878"
      }
     },
     "metadata": {}
    },
    {
     "output_type": "stream",
     "name": "stderr",
     "text": [
      "2025-06-09 03:07:16,706 - BERTopic - Embedding - Completed \u2713\n",
      "2025-06-09 03:07:16,709 - BERTopic - Dimensionality - Fitting the dimensionality reduction algorithm\n",
      "2025-06-09 03:07:27,712 - BERTopic - Dimensionality - Completed \u2713\n",
      "2025-06-09 03:07:27,714 - BERTopic - Cluster - Start clustering the reduced embeddings\n",
      "2025-06-09 03:07:27,789 - BERTopic - Cluster - Completed \u2713\n",
      "2025-06-09 03:07:27,790 - BERTopic - Representation - Extracting topics using c-TF-IDF for topic reduction.\n",
      "2025-06-09 03:07:27,900 - BERTopic - Representation - Completed \u2713\n",
      "2025-06-09 03:07:27,901 - BERTopic - Topic reduction - Reducing number of topics\n",
      "2025-06-09 03:07:27,913 - BERTopic - Representation - Fine-tuning topics using representation models.\n",
      "2025-06-09 03:07:27,970 - BERTopic - Representation - Completed \u2713\n",
      "2025-06-09 03:07:27,973 - BERTopic - Topic reduction - Reduced number of topics from 73 to 25\n"
     ]
    },
    {
     "output_type": "stream",
     "name": "stdout",
     "text": [
      "Jumlah Topik: 25, Coherence Score (PMI): 2.289232718415007\n"
     ]
    }
   ]
  },
  {
   "cell_type": "code",
   "source": [
    "# Visualisasikan hasilnya\n",
    "import matplotlib.pyplot as plt\n",
    "\n",
    "plt.plot(list(coherence_scores_pmi.keys()), list(coherence_scores_pmi.values()))\n",
    "plt.xlabel(\"Jumlah Topik\")\n",
    "plt.ylabel(\"Coherence Score (PMI)\")\n",
    "plt.title(\"Coherence Score (PMI) vs. Jumlah Topik\")\n",
    "plt.show()"
   ],
   "metadata": {
    "colab": {
     "base_uri": "https://localhost:8080/",
     "height": 472
    },
    "id": "87aO_Ml1MRD9",
    "outputId": "de7adb47-a975-4b5e-eef2-70e03952dac3"
   },
   "execution_count": 15,
   "outputs": [
    {
     "output_type": "display_data",
     "data": {
      "text/plain": [
       "<Figure size 640x480 with 1 Axes>"
      ],
      "image/png": "[encoded data removed]"
     },
     "metadata": {}
    }
   ]
  },
  {
   "cell_type": "code",
   "source": [
    "# Temukan jumlah topik dengan coherence score PMI tertinggi\n",
    "optimal_num_topics_pmi = max(coherence_scores_pmi, key=coherence_scores_pmi.get)\n",
    "print(f\"\\nJumlah topik optimal berdasarkan coherence score PMI: {optimal_num_topics_pmi}\")"
   ],
   "metadata": {
    "colab": {
     "base_uri": "https://localhost:8080/",
     "height": 0
    },
    "id": "GA4ISD1dMS5q",
    "outputId": "8ff0d8cb-6bc8-4e9d-cfbe-722588b09df7"
   },
   "execution_count": 16,
   "outputs": [
    {
     "output_type": "stream",
     "name": "stdout",
     "text": [
      "\n",
      "Jumlah topik optimal berdasarkan coherence score PMI: 20\n"
     ]
    }
   ]
  },
  {
   "cell_type": "code",
   "source": [
    "# Latih kembali model dengan jumlah topik optimal\n",
    "optimal_model = BERTopic(verbose=True, embedding_model='paraphrase-MiniLM-L3-v2', min_topic_size=7, nr_topics=optimal_num_topics_pmi)\n",
    "optimal_headline_topics, optimal_probs = optimal_model.fit_transform(data.text_preprocessing)\n",
    "\n",
    "# Dapatkan informasi tentang topik\n",
    "freq = optimal_model.get_topic_info()\n",
    "print(\"\\nInformasi Topik:\")\n",
    "print(freq)"
   ],
   "metadata": {
    "colab": {
     "base_uri": "https://localhost:8080/",
     "height": 1420,
     "referenced_widgets": [
      "b7ba263436274a9688392981a73e25bc",
      "9685deb27dde4c4abc2cd08c439fbf07",
      "46a77aeca2e347e6a8fdfa1c7995a67a",
      "4b68c7d4908243c0a81bf373a21cbc39",
      "dfdce983134c41959ea9408d05069243",
      "5895a2ed74d64cfa80401f4b38bd799f",
      "209e83ee7e4347a0a87506ea99cb9739",
      "44e8d92348e24aed8a2b04ce71371dc4",
      "16ed98d84adf450aa95b7b15a2478e2b",
      "7e709d72929f4f7fa5aa080600e7cc94",
      "c32f6643dc104f5ca4420d3b32bef106"
     ]
    },
    "id": "N5xmRNVsMduo",
    "outputId": "140c9fb3-7e08-4a25-9885-cd9eacc76f72"
   },
   "execution_count": 21,
   "outputs": [
    {
     "output_type": "stream",
     "name": "stderr",
     "text": [
      "2025-06-09 03:13:39,985 - BERTopic - Embedding - Transforming documents to embeddings.\n"
     ]
    },
    {
     "output_type": "display_data",
     "data": {
      "text/plain": [
       "Batches:   0%|          | 0/63 [00:00<?, ?it/s]"
      ],
      "application/vnd.jupyter.widget-view+json": {
       "version_major": 2,
       "version_minor": 0,
       "model_id": "b7ba263436274a9688392981a73e25bc"
      }
     },
     "metadata": {}
    },
    {
     "output_type": "stream",
     "name": "stderr",
     "text": [
      "2025-06-09 03:13:53,964 - BERTopic - Embedding - Completed \u2713\n",
      "2025-06-09 03:13:53,968 - BERTopic - Dimensionality - Fitting the dimensionality reduction algorithm\n",
      "2025-06-09 03:14:01,679 - BERTopic - Dimensionality - Completed \u2713\n",
      "2025-06-09 03:14:01,680 - BERTopic - Cluster - Start clustering the reduced embeddings\n",
      "2025-06-09 03:14:01,770 - BERTopic - Cluster - Completed \u2713\n",
      "2025-06-09 03:14:01,772 - BERTopic - Representation - Extracting topics using c-TF-IDF for topic reduction.\n",
      "2025-06-09 03:14:01,863 - BERTopic - Representation - Completed \u2713\n",
      "2025-06-09 03:14:01,864 - BERTopic - Topic reduction - Reducing number of topics\n",
      "2025-06-09 03:14:01,876 - BERTopic - Representation - Fine-tuning topics using representation models.\n",
      "2025-06-09 03:14:01,926 - BERTopic - Representation - Completed \u2713\n",
      "2025-06-09 03:14:01,931 - BERTopic - Topic reduction - Reduced number of topics from 73 to 20\n"
     ]
    },
    {
     "output_type": "stream",
     "name": "stdout",
     "text": [
      "\n",
      "Informasi Topik:\n",
      "    Topic  Count                                Name  \\\n",
      "0      -1    684      -1_corona_virus_tinggal_pasien   \n",
      "1       0    667     0_corona_virus_indonesia_sembuh   \n",
      "2       1    249     1_banjir_olahraga_sehat_manfaat   \n",
      "3       2    115          2_masker_pakai_fakta_viral   \n",
      "4       3     51           3_covid_who_positif_jubir   \n",
      "5       4     41            4_cinta_posisi_seks_miss   \n",
      "6       5     28       5_orgasme_sperma_wanita_cinta   \n",
      "7       6     21     6_dampak_masturbasi_tubuh_buruk   \n",
      "8       7     20  7_pneumonia_misterius_china_gempar   \n",
      "9       8     15    8_kolesterol_lebaran_kalap_makan   \n",
      "10      9     14         9_henti_didi_kempot_jantung   \n",
      "11     10     14     10_sulianti_saroso_rspi_isolasi   \n",
      "12     11     13         11_tidur_malam_mudah_bangun   \n",
      "13     12     12            12_normal_new_hadap_siap   \n",
      "14     13     12      13_sanitizer_hand_botol_refill   \n",
      "15     14     11             14_jemur_index_bmkg_jam   \n",
      "16     15      9           15_hati_minum_picu_risiko   \n",
      "17     16      8           16_odp_total_pdp_spesimen   \n",
      "18     17      8          17_jenis_kenal_gila_herpes   \n",
      "19     18      8    18_hipotermia_banjir_korban_skin   \n",
      "\n",
      "                                       Representation  \\\n",
      "0   [corona, virus, tinggal, pasien, sehat, dokter...   \n",
      "1   [corona, virus, indonesia, sembuh, pasien, tin...   \n",
      "2   [banjir, olahraga, sehat, manfaat, anak, sakit...   \n",
      "3   [masker, pakai, fakta, viral, kain, disinfekta...   \n",
      "4   [covid, who, positif, jubir, prediksi, pasien,...   \n",
      "5   [cinta, posisi, seks, miss, diam, wanita, ejak...   \n",
      "6   [orgasme, sperma, wanita, cinta, pria, butuh, ...   \n",
      "7   [dampak, masturbasi, tubuh, buruk, imunitas, o...   \n",
      "8   [pneumonia, misterius, china, gempar, isolasi,...   \n",
      "9   [kolesterol, lebaran, kalap, makan, turun, kad...   \n",
      "10  [henti, didi, kempot, jantung, alami, tinggal,...   \n",
      "11  [sulianti, saroso, rspi, isolasi, suspek, ruan...   \n",
      "12  [tidur, malam, mudah, bangun, minum, ganggu, a...   \n",
      "13  [normal, new, hadap, siap, grab, mental, terap...   \n",
      "14  [sanitizer, hand, botol, refill, lem, krl, ger...   \n",
      "15  [jemur, index, bmkg, jam, baik, data, pilih, a...   \n",
      "16  [hati, minum, picu, risiko, hayo, gadget, caha...   \n",
      "17  [odp, total, pdp, spesimen, periksa, ribu, wee...   \n",
      "18  [jenis, kenal, gila, herpes, banderol, masker,...   \n",
      "19  [hipotermia, banjir, korban, skin, orang, anca...   \n",
      "\n",
      "                                  Representative_Docs  \n",
      "0   [wanita infeksi virus corona rumah minggu, tam...  \n",
      "1   [sebar pasien virus corona indonesia sembuh ti...  \n",
      "2   [fakta kanker kelenjar getah bening sakit idap...  \n",
      "3   [perintah saran masker kain pakai jam, anak pa...  \n",
      "4   [tingkat who tegas prediksi sebar covid, inves...  \n",
      "5    [sih cinta, posisi seks lelah cinta, miss cinta]  \n",
      "6   [manfaat orgasme cinta, butuh wanita orgasme, ...  \n",
      "7   [dampak buruk nekat masturbasi, masturbasi tin...  \n",
      "8   [wabah pneumonia misterius gempar china masuk ...  \n",
      "9   [besok lebaran kalap makan biar kolesterol ngg...  \n",
      "10  [didi kempot tinggal henti jantung kenal beda ...  \n",
      "11  [kondisi kini pasien virus corona rspi suliant...  \n",
      "12  [manfaat minum air putih bangun tidur, mudah c...  \n",
      "13  [siap sektor medis indonesia hadap new normal,...  \n",
      "14  [cuci tangan pakai hand sanitizer, buat hand s...  \n",
      "15  [pusing pilih jemur data index april bmkg, jem...  \n",
      "16  [hati hati olahraga sebab tubuh rentan sakit, ...  \n",
      "17  [ribu spesimen periksa total odp pdp, ribu spe...  \n",
      "18  [kenal jenis masker pakai fungsi, sakit darah ...  \n",
      "19  [mati hipotermia ancam lansia anak anak korban...  \n"
     ]
    }
   ]
  },
  {
   "cell_type": "markdown",
   "source": [
    "## *c. Visualisasi*"
   ],
   "metadata": {
    "id": "ScMubUyFM8id"
   }
  },
  {
   "cell_type": "code",
   "source": [
    "optimal_model.visualize_barchart(top_n_topics=min(20, optimal_num_topics_pmi))"
   ],
   "metadata": {
    "colab": {
     "base_uri": "https://localhost:8080/",
     "height": 1267
    },
    "id": "ptEbfmoAMgN9",
    "outputId": "71a02a93-4598-40c3-dc54-2796a20bce8e"
   },
   "execution_count": 25,
   "outputs": [
    {
     "output_type": "display_data",
     "data": {
      "text/html": [
       "<html>\n",
       "<head><meta charset=\"utf-8\" /></head>\n",
       "<body>\n",
       "    <div>            <script src=\"https://cdnjs.cloudflare.com/ajax/libs/mathjax/2.7.5/MathJax.js?config=TeX-AMS-MML_SVG\"></script><script type=\"text/javascript\">if (window.MathJax && window.MathJax.Hub && window.MathJax.Hub.Config) {window.MathJax.Hub.Config({SVG: {font: \"STIX-Web\"}});}</script>                <script type=\"text/javascript\">window.PlotlyConfig = {MathJaxConfig: 'local'};</script>\n",
       "        <script charset=\"utf-8\" src=\"https://cdn.plot.ly/plotly-2.35.2.min.js\"></script>                <div id=\"304862f0-3772-48b8-9b5a-3f3bf50c0b4c\" class=\"plotly-graph-div\" style=\"height:1250px; width:1000px;\"></div>            <script type=\"text/javascript\">                                    window.PLOTLYENV=window.PLOTLYENV || {};                                    if (document.getElementById(\"304862f0-3772-48b8-9b5a-3f3bf50c0b4c\")) {                    Plotly.newPlot(                        \"304862f0-3772-48b8-9b5a-3f3bf50c0b4c\",                        [{\"marker\":{\"color\":\"#D55E00\"},\"orientation\":\"h\",\"x\":[0.04170119990551501,0.04211914653285613,0.048568602973848254,0.05692272010003097,0.07233916186044755],\"y\":[\"pasien  \",\"sembuh  \",\"indonesia  \",\"virus  \",\"corona  \"],\"type\":\"bar\",\"xaxis\":\"x\",\"yaxis\":\"y\"},{\"marker\":{\"color\":\"#0072B2\"},\"orientation\":\"h\",\"x\":[0.0343198929555893,0.04023861868372872,0.04301668780669811,0.0468189044699539,0.055014004276562674],\"y\":[\"anak  \",\"manfaat  \",\"sehat  \",\"olahraga  \",\"banjir  \"],\"type\":\"bar\",\"xaxis\":\"x2\",\"yaxis\":\"y2\"},{\"marker\":{\"color\":\"#CC79A7\"},\"orientation\":\"h\",\"x\":[0.052781102170219515,0.055457868766847884,0.06081482766975133,0.08361227510800275,0.1552038124903164],\"y\":[\"kain  \",\"viral  \",\"fakta  \",\"pakai  \",\"masker  \"],\"type\":\"bar\",\"xaxis\":\"x3\",\"yaxis\":\"y3\"},{\"marker\":{\"color\":\"#E69F00\"},\"orientation\":\"h\",\"x\":[0.04433755140790471,0.048737598310412904,0.05186045474120542,0.061304330835642094,0.2721221790199058],\"y\":[\"prediksi  \",\"jubir  \",\"positif  \",\"who  \",\"covid  \"],\"type\":\"bar\",\"xaxis\":\"x4\",\"yaxis\":\"y4\"},{\"marker\":{\"color\":\"#56B4E9\"},\"orientation\":\"h\",\"x\":[0.10073871429902903,0.13671171646317581,0.14731474003332923,0.17072242732837536,0.4357122698709725],\"y\":[\"diam  \",\"miss  \",\"seks  \",\"posisi  \",\"cinta  \"],\"type\":\"bar\",\"xaxis\":\"x5\",\"yaxis\":\"y5\"},{\"marker\":{\"color\":\"#009E73\"},\"orientation\":\"h\",\"x\":[0.10326948152448835,0.10555027723825433,0.15381334802719898,0.24388286823415617,0.4378279215526061],\"y\":[\"pria  \",\"cinta  \",\"wanita  \",\"sperma  \",\"orgasme  \"],\"type\":\"bar\",\"xaxis\":\"x6\",\"yaxis\":\"y6\"},{\"marker\":{\"color\":\"#F0E442\"},\"orientation\":\"h\",\"x\":[0.10619981639840367,0.10619981639840367,0.22744815888588987,0.2433628717736797,0.26275333827731917],\"y\":[\"imunitas  \",\"buruk  \",\"tubuh  \",\"masturbasi  \",\"dampak  \"],\"type\":\"bar\",\"xaxis\":\"x7\",\"yaxis\":\"y7\"},{\"marker\":{\"color\":\"#D55E00\"},\"orientation\":\"h\",\"x\":[0.10100378286306942,0.18378966878741437,0.244525721070027,0.30799440272839645,0.542910132846402],\"y\":[\"isolasi  \",\"gempar  \",\"china  \",\"misterius  \",\"pneumonia  \"],\"type\":\"bar\",\"xaxis\":\"x8\",\"yaxis\":\"y8\"},{\"marker\":{\"color\":\"#0072B2\"},\"orientation\":\"h\",\"x\":[0.19486242467047615,0.21373838117421187,0.22208307470467764,0.4479918585140312,0.4772960173774521],\"y\":[\"turun  \",\"makan  \",\"kalap  \",\"lebaran  \",\"kolesterol  \"],\"type\":\"bar\",\"xaxis\":\"x9\",\"yaxis\":\"y9\"},{\"marker\":{\"color\":\"#CC79A7\"},\"orientation\":\"h\",\"x\":[0.19377056533860737,0.34359358012825025,0.402704548108485,0.402704548108485,0.40889075187289897],\"y\":[\"alami  \",\"jantung  \",\"kempot  \",\"didi  \",\"henti  \"],\"type\":\"bar\",\"xaxis\":\"x10\",\"yaxis\":\"y10\"},{\"marker\":{\"color\":\"#E69F00\"},\"orientation\":\"h\",\"x\":[0.1491062015459192,0.1584373064518736,0.45522356136661574,0.5024536138627957,0.5024536138627957],\"y\":[\"suspek  \",\"isolasi  \",\"rspi  \",\"saroso  \",\"sulianti  \"],\"type\":\"bar\",\"xaxis\":\"x11\",\"yaxis\":\"y11\"},{\"marker\":{\"color\":\"#56B4E9\"},\"orientation\":\"h\",\"x\":[0.18807143106394242,0.19501524260188316,0.2199503886708792,0.2531802996002453,0.5582791407775431],\"y\":[\"minum  \",\"bangun  \",\"mudah  \",\"malam  \",\"tidur  \"],\"type\":\"bar\",\"xaxis\":\"x12\",\"yaxis\":\"y12\"},{\"marker\":{\"color\":\"#009E73\"},\"orientation\":\"h\",\"x\":[0.13155189137444787,0.16171995727961042,0.21186736891566907,0.3575065912027537,0.39673928863502106],\"y\":[\"grab  \",\"siap  \",\"hadap  \",\"new  \",\"normal  \"],\"type\":\"bar\",\"xaxis\":\"x13\",\"yaxis\":\"y13\"},{\"marker\":{\"color\":\"#F0E442\"},\"orientation\":\"h\",\"x\":[0.1610437876095156,0.1610437876095156,0.1610437876095156,0.5575847459669278,0.5575847459669278],\"y\":[\"lem  \",\"refill  \",\"botol  \",\"hand  \",\"sanitizer  \"],\"type\":\"bar\",\"xaxis\":\"x14\",\"yaxis\":\"y14\"},{\"marker\":{\"color\":\"#D55E00\"},\"orientation\":\"h\",\"x\":[0.2347725246176538,0.2347725246176538,0.28387513401854536,0.42858137223709714,0.7467864891389588],\"y\":[\"baik  \",\"jam  \",\"bmkg  \",\"index  \",\"jemur  \"],\"type\":\"bar\",\"xaxis\":\"x15\",\"yaxis\":\"y15\"},{\"marker\":{\"color\":\"#0072B2\"},\"orientation\":\"h\",\"x\":[0.11188284364353995,0.1333287094778776,0.14159975519787157,0.16537315490105284,1.014330513584268],\"y\":[\"hayo  \",\"risiko  \",\"picu  \",\"minum  \",\"hati  \"],\"type\":\"bar\",\"xaxis\":\"x16\",\"yaxis\":\"y16\"},{\"marker\":{\"color\":\"#CC79A7\"},\"orientation\":\"h\",\"x\":[0.5152023473598527,0.5519259696892865,0.5519259696892865,0.5519259696892865,0.6188483698566426],\"y\":[\"periksa  \",\"spesimen  \",\"pdp  \",\"total  \",\"odp  \"],\"type\":\"bar\",\"xaxis\":\"x17\",\"yaxis\":\"y17\"},{\"marker\":{\"color\":\"#E69F00\"},\"orientation\":\"h\",\"x\":[0.12017046169120957,0.12017046169120957,0.1594098182668211,0.18263671887962318,0.5644330970401671],\"y\":[\"banderol  \",\"herpes  \",\"gila  \",\"kenal  \",\"jenis  \"],\"type\":\"bar\",\"xaxis\":\"x18\",\"yaxis\":\"y18\"},{\"marker\":{\"color\":\"#56B4E9\"},\"orientation\":\"h\",\"x\":[0.1958470231308105,0.21877646618651175,0.32354515794343214,0.34986893628828275,0.6672219621095876],\"y\":[\"orang  \",\"skin  \",\"korban  \",\"banjir  \",\"hipotermia  \"],\"type\":\"bar\",\"xaxis\":\"x19\",\"yaxis\":\"y19\"}],                        {\"template\":{\"data\":{\"barpolar\":[{\"marker\":{\"line\":{\"color\":\"white\",\"width\":0.5},\"pattern\":{\"fillmode\":\"overlay\",\"size\":10,\"solidity\":0.2}},\"type\":\"barpolar\"}],\"bar\":[{\"error_x\":{\"color\":\"#2a3f5f\"},\"error_y\":{\"color\":\"#2a3f5f\"},\"marker\":{\"line\":{\"color\":\"white\",\"width\":0.5},\"pattern\":{\"fillmode\":\"overlay\",\"size\":10,\"solidity\":0.2}},\"type\":\"bar\"}],\"carpet\":[{\"aaxis\":{\"endlinecolor\":\"#2a3f5f\",\"gridcolor\":\"#C8D4E3\",\"linecolor\":\"#C8D4E3\",\"minorgridcolor\":\"#C8D4E3\",\"startlinecolor\":\"#2a3f5f\"},\"baxis\":{\"endlinecolor\":\"#2a3f5f\",\"gridcolor\":\"#C8D4E3\",\"linecolor\":\"#C8D4E3\",\"minorgridcolor\":\"#C8D4E3\",\"startlinecolor\":\"#2a3f5f\"},\"type\":\"carpet\"}],\"choropleth\":[{\"colorbar\":{\"outlinewidth\":0,\"ticks\":\"\"},\"type\":\"choropleth\"}],\"contourcarpet\":[{\"colorbar\":{\"outlinewidth\":0,\"ticks\":\"\"},\"type\":\"contourcarpet\"}],\"contour\":[{\"colorbar\":{\"outlinewidth\":0,\"ticks\":\"\"},\"colorscale\":[[0.0,\"#0d0887\"],[0.1111111111111111,\"#46039f\"],[0.2222222222222222,\"#7201a8\"],[0.3333333333333333,\"#9c179e\"],[0.4444444444444444,\"#bd3786\"],[0.5555555555555556,\"#d8576b\"],[0.6666666666666666,\"#ed7953\"],[0.7777777777777778,\"#fb9f3a\"],[0.8888888888888888,\"#fdca26\"],[1.0,\"#f0f921\"]],\"type\":\"contour\"}],\"heatmapgl\":[{\"colorbar\":{\"outlinewidth\":0,\"ticks\":\"\"},\"colorscale\":[[0.0,\"#0d0887\"],[0.1111111111111111,\"#46039f\"],[0.2222222222222222,\"#7201a8\"],[0.3333333333333333,\"#9c179e\"],[0.4444444444444444,\"#bd3786\"],[0.5555555555555556,\"#d8576b\"],[0.6666666666666666,\"#ed7953\"],[0.7777777777777778,\"#fb9f3a\"],[0.8888888888888888,\"#fdca26\"],[1.0,\"#f0f921\"]],\"type\":\"heatmapgl\"}],\"heatmap\":[{\"colorbar\":{\"outlinewidth\":0,\"ticks\":\"\"},\"colorscale\":[[0.0,\"#0d0887\"],[0.1111111111111111,\"#46039f\"],[0.2222222222222222,\"#7201a8\"],[0.3333333333333333,\"#9c179e\"],[0.4444444444444444,\"#bd3786\"],[0.5555555555555556,\"#d8576b\"],[0.6666666666666666,\"#ed7953\"],[0.7777777777777778,\"#fb9f3a\"],[0.8888888888888888,\"#fdca26\"],[1.0,\"#f0f921\"]],\"type\":\"heatmap\"}],\"histogram2dcontour\":[{\"colorbar\":{\"outlinewidth\":0,\"ticks\":\"\"},\"colorscale\":[[0.0,\"#0d0887\"],[0.1111111111111111,\"#46039f\"],[0.2222222222222222,\"#7201a8\"],[0.3333333333333333,\"#9c179e\"],[0.4444444444444444,\"#bd3786\"],[0.5555555555555556,\"#d8576b\"],[0.6666666666666666,\"#ed7953\"],[0.7777777777777778,\"#fb9f3a\"],[0.8888888888888888,\"#fdca26\"],[1.0,\"#f0f921\"]],\"type\":\"histogram2dcontour\"}],\"histogram2d\":[{\"colorbar\":{\"outlinewidth\":0,\"ticks\":\"\"},\"colorscale\":[[0.0,\"#0d0887\"],[0.1111111111111111,\"#46039f\"],[0.2222222222222222,\"#7201a8\"],[0.3333333333333333,\"#9c179e\"],[0.4444444444444444,\"#bd3786\"],[0.5555555555555556,\"#d8576b\"],[0.6666666666666666,\"#ed7953\"],[0.7777777777777778,\"#fb9f3a\"],[0.8888888888888888,\"#fdca26\"],[1.0,\"#f0f921\"]],\"type\":\"histogram2d\"}],\"histogram\":[{\"marker\":{\"pattern\":{\"fillmode\":\"overlay\",\"size\":10,\"solidity\":0.2}},\"type\":\"histogram\"}],\"mesh3d\":[{\"colorbar\":{\"outlinewidth\":0,\"ticks\":\"\"},\"type\":\"mesh3d\"}],\"parcoords\":[{\"line\":{\"colorbar\":{\"outlinewidth\":0,\"ticks\":\"\"}},\"type\":\"parcoords\"}],\"pie\":[{\"automargin\":true,\"type\":\"pie\"}],\"scatter3d\":[{\"line\":{\"colorbar\":{\"outlinewidth\":0,\"ticks\":\"\"}},\"marker\":{\"colorbar\":{\"outlinewidth\":0,\"ticks\":\"\"}},\"type\":\"scatter3d\"}],\"scattercarpet\":[{\"marker\":{\"colorbar\":{\"outlinewidth\":0,\"ticks\":\"\"}},\"type\":\"scattercarpet\"}],\"scattergeo\":[{\"marker\":{\"colorbar\":{\"outlinewidth\":0,\"ticks\":\"\"}},\"type\":\"scattergeo\"}],\"scattergl\":[{\"marker\":{\"colorbar\":{\"outlinewidth\":0,\"ticks\":\"\"}},\"type\":\"scattergl\"}],\"scattermapbox\":[{\"marker\":{\"colorbar\":{\"outlinewidth\":0,\"ticks\":\"\"}},\"type\":\"scattermapbox\"}],\"scatterpolargl\":[{\"marker\":{\"colorbar\":{\"outlinewidth\":0,\"ticks\":\"\"}},\"type\":\"scatterpolargl\"}],\"scatterpolar\":[{\"marker\":{\"colorbar\":{\"outlinewidth\":0,\"ticks\":\"\"}},\"type\":\"scatterpolar\"}],\"scatter\":[{\"fillpattern\":{\"fillmode\":\"overlay\",\"size\":10,\"solidity\":0.2},\"type\":\"scatter\"}],\"scatterternary\":[{\"marker\":{\"colorbar\":{\"outlinewidth\":0,\"ticks\":\"\"}},\"type\":\"scatterternary\"}],\"surface\":[{\"colorbar\":{\"outlinewidth\":0,\"ticks\":\"\"},\"colorscale\":[[0.0,\"#0d0887\"],[0.1111111111111111,\"#46039f\"],[0.2222222222222222,\"#7201a8\"],[0.3333333333333333,\"#9c179e\"],[0.4444444444444444,\"#bd3786\"],[0.5555555555555556,\"#d8576b\"],[0.6666666666666666,\"#ed7953\"],[0.7777777777777778,\"#fb9f3a\"],[0.8888888888888888,\"#fdca26\"],[1.0,\"#f0f921\"]],\"type\":\"surface\"}],\"table\":[{\"cells\":{\"fill\":{\"color\":\"#EBF0F8\"},\"line\":{\"color\":\"white\"}},\"header\":{\"fill\":{\"color\":\"#C8D4E3\"},\"line\":{\"color\":\"white\"}},\"type\":\"table\"}]},\"layout\":{\"annotationdefaults\":{\"arrowcolor\":\"#2a3f5f\",\"arrowhead\":0,\"arrowwidth\":1},\"autotypenumbers\":\"strict\",\"coloraxis\":{\"colorbar\":{\"outlinewidth\":0,\"ticks\":\"\"}},\"colorscale\":{\"diverging\":[[0,\"#8e0152\"],[0.1,\"#c51b7d\"],[0.2,\"#de77ae\"],[0.3,\"#f1b6da\"],[0.4,\"#fde0ef\"],[0.5,\"#f7f7f7\"],[0.6,\"#e6f5d0\"],[0.7,\"#b8e186\"],[0.8,\"#7fbc41\"],[0.9,\"#4d9221\"],[1,\"#276419\"]],\"sequential\":[[0.0,\"#0d0887\"],[0.1111111111111111,\"#46039f\"],[0.2222222222222222,\"#7201a8\"],[0.3333333333333333,\"#9c179e\"],[0.4444444444444444,\"#bd3786\"],[0.5555555555555556,\"#d8576b\"],[0.6666666666666666,\"#ed7953\"],[0.7777777777777778,\"#fb9f3a\"],[0.8888888888888888,\"#fdca26\"],[1.0,\"#f0f921\"]],\"sequentialminus\":[[0.0,\"#0d0887\"],[0.1111111111111111,\"#46039f\"],[0.2222222222222222,\"#7201a8\"],[0.3333333333333333,\"#9c179e\"],[0.4444444444444444,\"#bd3786\"],[0.5555555555555556,\"#d8576b\"],[0.6666666666666666,\"#ed7953\"],[0.7777777777777778,\"#fb9f3a\"],[0.8888888888888888,\"#fdca26\"],[1.0,\"#f0f921\"]]},\"colorway\":[\"#636efa\",\"#EF553B\",\"#00cc96\",\"#ab63fa\",\"#FFA15A\",\"#19d3f3\",\"#FF6692\",\"#B6E880\",\"#FF97FF\",\"#FECB52\"],\"font\":{\"color\":\"#2a3f5f\"},\"geo\":{\"bgcolor\":\"white\",\"lakecolor\":\"white\",\"landcolor\":\"white\",\"showlakes\":true,\"showland\":true,\"subunitcolor\":\"#C8D4E3\"},\"hoverlabel\":{\"align\":\"left\"},\"hovermode\":\"closest\",\"mapbox\":{\"style\":\"light\"},\"paper_bgcolor\":\"white\",\"plot_bgcolor\":\"white\",\"polar\":{\"angularaxis\":{\"gridcolor\":\"#EBF0F8\",\"linecolor\":\"#EBF0F8\",\"ticks\":\"\"},\"bgcolor\":\"white\",\"radialaxis\":{\"gridcolor\":\"#EBF0F8\",\"linecolor\":\"#EBF0F8\",\"ticks\":\"\"}},\"scene\":{\"xaxis\":{\"backgroundcolor\":\"white\",\"gridcolor\":\"#DFE8F3\",\"gridwidth\":2,\"linecolor\":\"#EBF0F8\",\"showbackground\":true,\"ticks\":\"\",\"zerolinecolor\":\"#EBF0F8\"},\"yaxis\":{\"backgroundcolor\":\"white\",\"gridcolor\":\"#DFE8F3\",\"gridwidth\":2,\"linecolor\":\"#EBF0F8\",\"showbackground\":true,\"ticks\":\"\",\"zerolinecolor\":\"#EBF0F8\"},\"zaxis\":{\"backgroundcolor\":\"white\",\"gridcolor\":\"#DFE8F3\",\"gridwidth\":2,\"linecolor\":\"#EBF0F8\",\"showbackground\":true,\"ticks\":\"\",\"zerolinecolor\":\"#EBF0F8\"}},\"shapedefaults\":{\"line\":{\"color\":\"#2a3f5f\"}},\"ternary\":{\"aaxis\":{\"gridcolor\":\"#DFE8F3\",\"linecolor\":\"#A2B1C6\",\"ticks\":\"\"},\"baxis\":{\"gridcolor\":\"#DFE8F3\",\"linecolor\":\"#A2B1C6\",\"ticks\":\"\"},\"bgcolor\":\"white\",\"caxis\":{\"gridcolor\":\"#DFE8F3\",\"linecolor\":\"#A2B1C6\",\"ticks\":\"\"}},\"title\":{\"x\":0.05},\"xaxis\":{\"automargin\":true,\"gridcolor\":\"#EBF0F8\",\"linecolor\":\"#EBF0F8\",\"ticks\":\"\",\"title\":{\"standoff\":15},\"zerolinecolor\":\"#EBF0F8\",\"zerolinewidth\":2},\"yaxis\":{\"automargin\":true,\"gridcolor\":\"#EBF0F8\",\"linecolor\":\"#EBF0F8\",\"ticks\":\"\",\"title\":{\"standoff\":15},\"zerolinecolor\":\"#EBF0F8\",\"zerolinewidth\":2}}},\"xaxis\":{\"anchor\":\"y\",\"domain\":[0.0,0.175],\"showgrid\":true},\"yaxis\":{\"anchor\":\"x\",\"domain\":[0.8639999999999999,0.9999999999999999],\"showgrid\":true},\"xaxis2\":{\"anchor\":\"y2\",\"domain\":[0.275,0.45],\"showgrid\":true},\"yaxis2\":{\"anchor\":\"x2\",\"domain\":[0.8639999999999999,0.9999999999999999],\"showgrid\":true},\"xaxis3\":{\"anchor\":\"y3\",\"domain\":[0.55,0.7250000000000001],\"showgrid\":true},\"yaxis3\":{\"anchor\":\"x3\",\"domain\":[0.8639999999999999,0.9999999999999999],\"showgrid\":true},\"xaxis4\":{\"anchor\":\"y4\",\"domain\":[0.825,1.0],\"showgrid\":true},\"yaxis4\":{\"anchor\":\"x4\",\"domain\":[0.8639999999999999,0.9999999999999999],\"showgrid\":true},\"xaxis5\":{\"anchor\":\"y5\",\"domain\":[0.0,0.175],\"showgrid\":true},\"yaxis5\":{\"anchor\":\"x5\",\"domain\":[0.6479999999999999,0.7839999999999999],\"showgrid\":true},\"xaxis6\":{\"anchor\":\"y6\",\"domain\":[0.275,0.45],\"showgrid\":true},\"yaxis6\":{\"anchor\":\"x6\",\"domain\":[0.6479999999999999,0.7839999999999999],\"showgrid\":true},\"xaxis7\":{\"anchor\":\"y7\",\"domain\":[0.55,0.7250000000000001],\"showgrid\":true},\"yaxis7\":{\"anchor\":\"x7\",\"domain\":[0.6479999999999999,0.7839999999999999],\"showgrid\":true},\"xaxis8\":{\"anchor\":\"y8\",\"domain\":[0.825,1.0],\"showgrid\":true},\"yaxis8\":{\"anchor\":\"x8\",\"domain\":[0.6479999999999999,0.7839999999999999],\"showgrid\":true},\"xaxis9\":{\"anchor\":\"y9\",\"domain\":[0.0,0.175],\"showgrid\":true},\"yaxis9\":{\"anchor\":\"x9\",\"domain\":[0.43199999999999994,0.568],\"showgrid\":true},\"xaxis10\":{\"anchor\":\"y10\",\"domain\":[0.275,0.45],\"showgrid\":true},\"yaxis10\":{\"anchor\":\"x10\",\"domain\":[0.43199999999999994,0.568],\"showgrid\":true},\"xaxis11\":{\"anchor\":\"y11\",\"domain\":[0.55,0.7250000000000001],\"showgrid\":true},\"yaxis11\":{\"anchor\":\"x11\",\"domain\":[0.43199999999999994,0.568],\"showgrid\":true},\"xaxis12\":{\"anchor\":\"y12\",\"domain\":[0.825,1.0],\"showgrid\":true},\"yaxis12\":{\"anchor\":\"x12\",\"domain\":[0.43199999999999994,0.568],\"showgrid\":true},\"xaxis13\":{\"anchor\":\"y13\",\"domain\":[0.0,0.175],\"showgrid\":true},\"yaxis13\":{\"anchor\":\"x13\",\"domain\":[0.21599999999999997,0.352],\"showgrid\":true},\"xaxis14\":{\"anchor\":\"y14\",\"domain\":[0.275,0.45],\"showgrid\":true},\"yaxis14\":{\"anchor\":\"x14\",\"domain\":[0.21599999999999997,0.352],\"showgrid\":true},\"xaxis15\":{\"anchor\":\"y15\",\"domain\":[0.55,0.7250000000000001],\"showgrid\":true},\"yaxis15\":{\"anchor\":\"x15\",\"domain\":[0.21599999999999997,0.352],\"showgrid\":true},\"xaxis16\":{\"anchor\":\"y16\",\"domain\":[0.825,1.0],\"showgrid\":true},\"yaxis16\":{\"anchor\":\"x16\",\"domain\":[0.21599999999999997,0.352],\"showgrid\":true},\"xaxis17\":{\"anchor\":\"y17\",\"domain\":[0.0,0.175],\"showgrid\":true},\"yaxis17\":{\"anchor\":\"x17\",\"domain\":[0.0,0.13599999999999998],\"showgrid\":true},\"xaxis18\":{\"anchor\":\"y18\",\"domain\":[0.275,0.45],\"showgrid\":true},\"yaxis18\":{\"anchor\":\"x18\",\"domain\":[0.0,0.13599999999999998],\"showgrid\":true},\"xaxis19\":{\"anchor\":\"y19\",\"domain\":[0.55,0.7250000000000001],\"showgrid\":true},\"yaxis19\":{\"anchor\":\"x19\",\"domain\":[0.0,0.13599999999999998],\"showgrid\":true},\"xaxis20\":{\"anchor\":\"y20\",\"domain\":[0.825,1.0],\"showgrid\":true},\"yaxis20\":{\"anchor\":\"x20\",\"domain\":[0.0,0.13599999999999998],\"showgrid\":true},\"annotations\":[{\"font\":{\"size\":16},\"showarrow\":false,\"text\":\"Topic 0\",\"x\":0.0875,\"xanchor\":\"center\",\"xref\":\"paper\",\"y\":0.9999999999999999,\"yanchor\":\"bottom\",\"yref\":\"paper\"},{\"font\":{\"size\":16},\"showarrow\":false,\"text\":\"Topic 1\",\"x\":0.36250000000000004,\"xanchor\":\"center\",\"xref\":\"paper\",\"y\":0.9999999999999999,\"yanchor\":\"bottom\",\"yref\":\"paper\"},{\"font\":{\"size\":16},\"showarrow\":false,\"text\":\"Topic 2\",\"x\":0.6375000000000001,\"xanchor\":\"center\",\"xref\":\"paper\",\"y\":0.9999999999999999,\"yanchor\":\"bottom\",\"yref\":\"paper\"},{\"font\":{\"size\":16},\"showarrow\":false,\"text\":\"Topic 3\",\"x\":0.9125,\"xanchor\":\"center\",\"xref\":\"paper\",\"y\":0.9999999999999999,\"yanchor\":\"bottom\",\"yref\":\"paper\"},{\"font\":{\"size\":16},\"showarrow\":false,\"text\":\"Topic 4\",\"x\":0.0875,\"xanchor\":\"center\",\"xref\":\"paper\",\"y\":0.7839999999999999,\"yanchor\":\"bottom\",\"yref\":\"paper\"},{\"font\":{\"size\":16},\"showarrow\":false,\"text\":\"Topic 5\",\"x\":0.36250000000000004,\"xanchor\":\"center\",\"xref\":\"paper\",\"y\":0.7839999999999999,\"yanchor\":\"bottom\",\"yref\":\"paper\"},{\"font\":{\"size\":16},\"showarrow\":false,\"text\":\"Topic 6\",\"x\":0.6375000000000001,\"xanchor\":\"center\",\"xref\":\"paper\",\"y\":0.7839999999999999,\"yanchor\":\"bottom\",\"yref\":\"paper\"},{\"font\":{\"size\":16},\"showarrow\":false,\"text\":\"Topic 7\",\"x\":0.9125,\"xanchor\":\"center\",\"xref\":\"paper\",\"y\":0.7839999999999999,\"yanchor\":\"bottom\",\"yref\":\"paper\"},{\"font\":{\"size\":16},\"showarrow\":false,\"text\":\"Topic 8\",\"x\":0.0875,\"xanchor\":\"center\",\"xref\":\"paper\",\"y\":0.568,\"yanchor\":\"bottom\",\"yref\":\"paper\"},{\"font\":{\"size\":16},\"showarrow\":false,\"text\":\"Topic 9\",\"x\":0.36250000000000004,\"xanchor\":\"center\",\"xref\":\"paper\",\"y\":0.568,\"yanchor\":\"bottom\",\"yref\":\"paper\"},{\"font\":{\"size\":16},\"showarrow\":false,\"text\":\"Topic 10\",\"x\":0.6375000000000001,\"xanchor\":\"center\",\"xref\":\"paper\",\"y\":0.568,\"yanchor\":\"bottom\",\"yref\":\"paper\"},{\"font\":{\"size\":16},\"showarrow\":false,\"text\":\"Topic 11\",\"x\":0.9125,\"xanchor\":\"center\",\"xref\":\"paper\",\"y\":0.568,\"yanchor\":\"bottom\",\"yref\":\"paper\"},{\"font\":{\"size\":16},\"showarrow\":false,\"text\":\"Topic 12\",\"x\":0.0875,\"xanchor\":\"center\",\"xref\":\"paper\",\"y\":0.352,\"yanchor\":\"bottom\",\"yref\":\"paper\"},{\"font\":{\"size\":16},\"showarrow\":false,\"text\":\"Topic 13\",\"x\":0.36250000000000004,\"xanchor\":\"center\",\"xref\":\"paper\",\"y\":0.352,\"yanchor\":\"bottom\",\"yref\":\"paper\"},{\"font\":{\"size\":16},\"showarrow\":false,\"text\":\"Topic 14\",\"x\":0.6375000000000001,\"xanchor\":\"center\",\"xref\":\"paper\",\"y\":0.352,\"yanchor\":\"bottom\",\"yref\":\"paper\"},{\"font\":{\"size\":16},\"showarrow\":false,\"text\":\"Topic 15\",\"x\":0.9125,\"xanchor\":\"center\",\"xref\":\"paper\",\"y\":0.352,\"yanchor\":\"bottom\",\"yref\":\"paper\"},{\"font\":{\"size\":16},\"showarrow\":false,\"text\":\"Topic 16\",\"x\":0.0875,\"xanchor\":\"center\",\"xref\":\"paper\",\"y\":0.13599999999999998,\"yanchor\":\"bottom\",\"yref\":\"paper\"},{\"font\":{\"size\":16},\"showarrow\":false,\"text\":\"Topic 17\",\"x\":0.36250000000000004,\"xanchor\":\"center\",\"xref\":\"paper\",\"y\":0.13599999999999998,\"yanchor\":\"bottom\",\"yref\":\"paper\"},{\"font\":{\"size\":16},\"showarrow\":false,\"text\":\"Topic 18\",\"x\":0.6375000000000001,\"xanchor\":\"center\",\"xref\":\"paper\",\"y\":0.13599999999999998,\"yanchor\":\"bottom\",\"yref\":\"paper\"}],\"title\":{\"font\":{\"size\":22,\"color\":\"Black\"},\"text\":\"Topic Word Scores\",\"x\":0.5,\"xanchor\":\"center\",\"yanchor\":\"top\"},\"hoverlabel\":{\"font\":{\"size\":16,\"family\":\"Rockwell\"},\"bgcolor\":\"white\"},\"showlegend\":false,\"width\":1000,\"height\":1250},                        {\"responsive\": true}                    ).then(function(){\n",
       "                            \n",
       "var gd = document.getElementById('304862f0-3772-48b8-9b5a-3f3bf50c0b4c');\n",
       "var x = new MutationObserver(function (mutations, observer) {{\n",
       "        var display = window.getComputedStyle(gd).display;\n",
       "        if (!display || display === 'none') {{\n",
       "            console.log([gd, 'removed!']);\n",
       "            Plotly.purge(gd);\n",
       "            observer.disconnect();\n",
       "        }}\n",
       "}});\n",
       "\n",
       "// Listen for the removal of the full notebook cells\n",
       "var notebookContainer = gd.closest('#notebook-container');\n",
       "if (notebookContainer) {{\n",
       "    x.observe(notebookContainer, {childList: true});\n",
       "}}\n",
       "\n",
       "// Listen for the clearing of the current output cell\n",
       "var outputEl = gd.closest('.output');\n",
       "if (outputEl) {{\n",
       "    x.observe(outputEl, {childList: true});\n",
       "}}\n",
       "\n",
       "                        })                };                            </script>        </div>\n",
       "</body>\n",
       "</html>"
      ]
     },
     "metadata": {}
    }
   ]
  },
  {
   "cell_type": "markdown",
   "source": [
    "Saat nilai optimal_num_topics_pmi adalah 20, maka min(21, optimal_num_topics_pmi) akan menghasilkan 20.\n",
    "\n",
    "Namun, BERTopic memiliki fitur khusus yang menambahkan topik dengan ID -1 untuk dokumen-dokumen outlier\u2014yaitu dokumen yang tidak cocok dengan topik manapun. Jadi, meskipun model menemukan 20 topik utama (dari ID 0 sampai 19), topik -1 juga disertakan, sehingga totalnya menjadi 21 topik.\n",
    "\n",
    "Ketika Anda mengatur top_n_topics=20, visualisasi biasanya tetap menampilkan topik -1, karena dianggap penting meskipun bukan bagian dari 20 topik utama. Inilah sebabnya mengapa visualisasi bisa terlihat hanya memuat 19 topik utama ditambah topik -1.\n",
    "\n",
    "Untuk melihat semua topik yang ditemukan, termasuk topik -1, Anda bisa menjalankan optimal_model.get_topic_info()."
   ],
   "metadata": {
    "id": "lyVjVKfLsl9Q"
   }
  },
  {
   "cell_type": "code",
   "source": [
    "model.visualize_topics()"
   ],
   "metadata": {
    "colab": {
     "base_uri": "https://localhost:8080/",
     "height": 667
    },
    "id": "txQVf22-MkRU",
    "outputId": "bb1fae7b-6c0d-4edb-d7ee-cc968926e417"
   },
   "execution_count": 19,
   "outputs": [
    {
     "output_type": "display_data",
     "data": {
      "text/html": [
       "<html>\n",
       "<head><meta charset=\"utf-8\" /></head>\n",
       "<body>\n",
       "    <div>            <script src=\"https://cdnjs.cloudflare.com/ajax/libs/mathjax/2.7.5/MathJax.js?config=TeX-AMS-MML_SVG\"></script><script type=\"text/javascript\">if (window.MathJax && window.MathJax.Hub && window.MathJax.Hub.Config) {window.MathJax.Hub.Config({SVG: {font: \"STIX-Web\"}});}</script>                <script type=\"text/javascript\">window.PlotlyConfig = {MathJaxConfig: 'local'};</script>\n",
       "        <script charset=\"utf-8\" src=\"https://cdn.plot.ly/plotly-2.35.2.min.js\"></script>                <div id=\"1ae8de5d-ab65-446b-92a3-e09c0955a3f2\" class=\"plotly-graph-div\" style=\"height:650px; width:650px;\"></div>            <script type=\"text/javascript\">                                    window.PLOTLYENV=window.PLOTLYENV || {};                                    if (document.getElementById(\"1ae8de5d-ab65-446b-92a3-e09c0955a3f2\")) {                    Plotly.newPlot(                        \"1ae8de5d-ab65-446b-92a3-e09c0955a3f2\",                        [{\"customdata\":[[0,\"corona | indonesia | virus | sembuh | pasien\",594],[1,\"puasa | manfaat | sehat | makan | buka\",79],[2,\"masker | kain | pakai | warga | tisu\",72],[3,\"banjir | korban | hipotermia | waspada | anak\",53],[4,\"covid | who | jubir | positif | prediksi\",50],[5,\"cinta | posisi | seks | miss | diam\",46],[6,\"olahraga | tidur | gbk | minum | air\",46],[7,\"reynhard | sinaga | kanker | ciri | ria\",42],[8,\"fakta | disinfektan | semprot | gunungkidul | antraks\",36],[9,\"pria | diamond | abk | princess | populer\",24],[10,\"hati | ginjal | sakit | beda | gejala\",24],[11,\"pneumonia | misterius | china | gempar | isolasi\",20],[12,\"orgasme | wanita | cinta | butuh | dapat\",19],[13,\"kolesterol | lebaran | kalap | makan | turun\",15],[14,\"sulianti | saroso | rspi | isolasi | suspek\",14],[15,\"henti | didi | kempot | jantung | alami\",14],[16,\"normal | new | hadap | mental | siap\",13],[17,\"sanitizer | hand | botol | refill | lem\",12],[18,\"jenis | kenal | kosong | beda | gila\",11],[19,\"jemur | index | bmkg | data | jam\",11],[20,\"masturbasi | dampak | buruk | besi | sasono\",10],[21,\"sperma | pria | kualitas | bikin | dampak\",9],[22,\"tubuh | imunitas | tingkat | amphetamine | yoghurt\",8],[23,\"odp | total | pdp | spesimen | periksa\",8]],\"hovertemplate\":\"\\u003cb\\u003eTopic %{customdata[0]}\\u003c\\u002fb\\u003e\\u003cbr\\u003e%{customdata[1]}\\u003cbr\\u003eSize: %{customdata[2]}\",\"legendgroup\":\"\",\"marker\":{\"color\":\"#B0BEC5\",\"size\":[594,79,72,53,50,46,46,42,36,24,24,20,19,15,14,14,13,12,11,11,10,9,8,8],\"sizemode\":\"area\",\"sizeref\":0.37125,\"symbol\":\"circle\",\"line\":{\"color\":\"DarkSlateGrey\",\"width\":2}},\"mode\":\"markers\",\"name\":\"\",\"orientation\":\"v\",\"showlegend\":false,\"x\":[8.047797,6.3810453,5.109541,5.466379,7.4585824,11.420916,2.828473,3.3784568,6.81375,10.236005,6.2706637,8.399061,11.850342,2.5370655,8.201231,10.547996,5.2508535,5.507943,3.7637327,7.0398126,6.4977336,11.745882,6.5216513,3.3844903],\"xaxis\":\"x\",\"y\":[5.791582,7.046511,7.5985274,7.2397504,6.271697,4.1748714,5.7560406,6.207922,6.826382,5.2400427,6.7554717,5.483911,3.7435222,5.499896,5.646577,5.0602384,7.060225,7.636325,5.8915043,7.2614923,6.4063077,3.852658,7.4135785,6.3545666],\"yaxis\":\"y\",\"type\":\"scatter\"}],                        {\"template\":{\"data\":{\"barpolar\":[{\"marker\":{\"line\":{\"color\":\"white\",\"width\":0.5},\"pattern\":{\"fillmode\":\"overlay\",\"size\":10,\"solidity\":0.2}},\"type\":\"barpolar\"}],\"bar\":[{\"error_x\":{\"color\":\"rgb(36,36,36)\"},\"error_y\":{\"color\":\"rgb(36,36,36)\"},\"marker\":{\"line\":{\"color\":\"white\",\"width\":0.5},\"pattern\":{\"fillmode\":\"overlay\",\"size\":10,\"solidity\":0.2}},\"type\":\"bar\"}],\"carpet\":[{\"aaxis\":{\"endlinecolor\":\"rgb(36,36,36)\",\"gridcolor\":\"white\",\"linecolor\":\"white\",\"minorgridcolor\":\"white\",\"startlinecolor\":\"rgb(36,36,36)\"},\"baxis\":{\"endlinecolor\":\"rgb(36,36,36)\",\"gridcolor\":\"white\",\"linecolor\":\"white\",\"minorgridcolor\":\"white\",\"startlinecolor\":\"rgb(36,36,36)\"},\"type\":\"carpet\"}],\"choropleth\":[{\"colorbar\":{\"outlinewidth\":1,\"tickcolor\":\"rgb(36,36,36)\",\"ticks\":\"outside\"},\"type\":\"choropleth\"}],\"contourcarpet\":[{\"colorbar\":{\"outlinewidth\":1,\"tickcolor\":\"rgb(36,36,36)\",\"ticks\":\"outside\"},\"type\":\"contourcarpet\"}],\"contour\":[{\"colorbar\":{\"outlinewidth\":1,\"tickcolor\":\"rgb(36,36,36)\",\"ticks\":\"outside\"},\"colorscale\":[[0.0,\"#440154\"],[0.1111111111111111,\"#482878\"],[0.2222222222222222,\"#3e4989\"],[0.3333333333333333,\"#31688e\"],[0.4444444444444444,\"#26828e\"],[0.5555555555555556,\"#1f9e89\"],[0.6666666666666666,\"#35b779\"],[0.7777777777777778,\"#6ece58\"],[0.8888888888888888,\"#b5de2b\"],[1.0,\"#fde725\"]],\"type\":\"contour\"}],\"heatmapgl\":[{\"colorbar\":{\"outlinewidth\":1,\"tickcolor\":\"rgb(36,36,36)\",\"ticks\":\"outside\"},\"colorscale\":[[0.0,\"#440154\"],[0.1111111111111111,\"#482878\"],[0.2222222222222222,\"#3e4989\"],[0.3333333333333333,\"#31688e\"],[0.4444444444444444,\"#26828e\"],[0.5555555555555556,\"#1f9e89\"],[0.6666666666666666,\"#35b779\"],[0.7777777777777778,\"#6ece58\"],[0.8888888888888888,\"#b5de2b\"],[1.0,\"#fde725\"]],\"type\":\"heatmapgl\"}],\"heatmap\":[{\"colorbar\":{\"outlinewidth\":1,\"tickcolor\":\"rgb(36,36,36)\",\"ticks\":\"outside\"},\"colorscale\":[[0.0,\"#440154\"],[0.1111111111111111,\"#482878\"],[0.2222222222222222,\"#3e4989\"],[0.3333333333333333,\"#31688e\"],[0.4444444444444444,\"#26828e\"],[0.5555555555555556,\"#1f9e89\"],[0.6666666666666666,\"#35b779\"],[0.7777777777777778,\"#6ece58\"],[0.8888888888888888,\"#b5de2b\"],[1.0,\"#fde725\"]],\"type\":\"heatmap\"}],\"histogram2dcontour\":[{\"colorbar\":{\"outlinewidth\":1,\"tickcolor\":\"rgb(36,36,36)\",\"ticks\":\"outside\"},\"colorscale\":[[0.0,\"#440154\"],[0.1111111111111111,\"#482878\"],[0.2222222222222222,\"#3e4989\"],[0.3333333333333333,\"#31688e\"],[0.4444444444444444,\"#26828e\"],[0.5555555555555556,\"#1f9e89\"],[0.6666666666666666,\"#35b779\"],[0.7777777777777778,\"#6ece58\"],[0.8888888888888888,\"#b5de2b\"],[1.0,\"#fde725\"]],\"type\":\"histogram2dcontour\"}],\"histogram2d\":[{\"colorbar\":{\"outlinewidth\":1,\"tickcolor\":\"rgb(36,36,36)\",\"ticks\":\"outside\"},\"colorscale\":[[0.0,\"#440154\"],[0.1111111111111111,\"#482878\"],[0.2222222222222222,\"#3e4989\"],[0.3333333333333333,\"#31688e\"],[0.4444444444444444,\"#26828e\"],[0.5555555555555556,\"#1f9e89\"],[0.6666666666666666,\"#35b779\"],[0.7777777777777778,\"#6ece58\"],[0.8888888888888888,\"#b5de2b\"],[1.0,\"#fde725\"]],\"type\":\"histogram2d\"}],\"histogram\":[{\"marker\":{\"line\":{\"color\":\"white\",\"width\":0.6}},\"type\":\"histogram\"}],\"mesh3d\":[{\"colorbar\":{\"outlinewidth\":1,\"tickcolor\":\"rgb(36,36,36)\",\"ticks\":\"outside\"},\"type\":\"mesh3d\"}],\"parcoords\":[{\"line\":{\"colorbar\":{\"outlinewidth\":1,\"tickcolor\":\"rgb(36,36,36)\",\"ticks\":\"outside\"}},\"type\":\"parcoords\"}],\"pie\":[{\"automargin\":true,\"type\":\"pie\"}],\"scatter3d\":[{\"line\":{\"colorbar\":{\"outlinewidth\":1,\"tickcolor\":\"rgb(36,36,36)\",\"ticks\":\"outside\"}},\"marker\":{\"colorbar\":{\"outlinewidth\":1,\"tickcolor\":\"rgb(36,36,36)\",\"ticks\":\"outside\"}},\"type\":\"scatter3d\"}],\"scattercarpet\":[{\"marker\":{\"colorbar\":{\"outlinewidth\":1,\"tickcolor\":\"rgb(36,36,36)\",\"ticks\":\"outside\"}},\"type\":\"scattercarpet\"}],\"scattergeo\":[{\"marker\":{\"colorbar\":{\"outlinewidth\":1,\"tickcolor\":\"rgb(36,36,36)\",\"ticks\":\"outside\"}},\"type\":\"scattergeo\"}],\"scattergl\":[{\"marker\":{\"colorbar\":{\"outlinewidth\":1,\"tickcolor\":\"rgb(36,36,36)\",\"ticks\":\"outside\"}},\"type\":\"scattergl\"}],\"scattermapbox\":[{\"marker\":{\"colorbar\":{\"outlinewidth\":1,\"tickcolor\":\"rgb(36,36,36)\",\"ticks\":\"outside\"}},\"type\":\"scattermapbox\"}],\"scatterpolargl\":[{\"marker\":{\"colorbar\":{\"outlinewidth\":1,\"tickcolor\":\"rgb(36,36,36)\",\"ticks\":\"outside\"}},\"type\":\"scatterpolargl\"}],\"scatterpolar\":[{\"marker\":{\"colorbar\":{\"outlinewidth\":1,\"tickcolor\":\"rgb(36,36,36)\",\"ticks\":\"outside\"}},\"type\":\"scatterpolar\"}],\"scatter\":[{\"fillpattern\":{\"fillmode\":\"overlay\",\"size\":10,\"solidity\":0.2},\"type\":\"scatter\"}],\"scatterternary\":[{\"marker\":{\"colorbar\":{\"outlinewidth\":1,\"tickcolor\":\"rgb(36,36,36)\",\"ticks\":\"outside\"}},\"type\":\"scatterternary\"}],\"surface\":[{\"colorbar\":{\"outlinewidth\":1,\"tickcolor\":\"rgb(36,36,36)\",\"ticks\":\"outside\"},\"colorscale\":[[0.0,\"#440154\"],[0.1111111111111111,\"#482878\"],[0.2222222222222222,\"#3e4989\"],[0.3333333333333333,\"#31688e\"],[0.4444444444444444,\"#26828e\"],[0.5555555555555556,\"#1f9e89\"],[0.6666666666666666,\"#35b779\"],[0.7777777777777778,\"#6ece58\"],[0.8888888888888888,\"#b5de2b\"],[1.0,\"#fde725\"]],\"type\":\"surface\"}],\"table\":[{\"cells\":{\"fill\":{\"color\":\"rgb(237,237,237)\"},\"line\":{\"color\":\"white\"}},\"header\":{\"fill\":{\"color\":\"rgb(217,217,217)\"},\"line\":{\"color\":\"white\"}},\"type\":\"table\"}]},\"layout\":{\"annotationdefaults\":{\"arrowhead\":0,\"arrowwidth\":1},\"autotypenumbers\":\"strict\",\"coloraxis\":{\"colorbar\":{\"outlinewidth\":1,\"tickcolor\":\"rgb(36,36,36)\",\"ticks\":\"outside\"}},\"colorscale\":{\"diverging\":[[0.0,\"rgb(103,0,31)\"],[0.1,\"rgb(178,24,43)\"],[0.2,\"rgb(214,96,77)\"],[0.3,\"rgb(244,165,130)\"],[0.4,\"rgb(253,219,199)\"],[0.5,\"rgb(247,247,247)\"],[0.6,\"rgb(209,229,240)\"],[0.7,\"rgb(146,197,222)\"],[0.8,\"rgb(67,147,195)\"],[0.9,\"rgb(33,102,172)\"],[1.0,\"rgb(5,48,97)\"]],\"sequential\":[[0.0,\"#440154\"],[0.1111111111111111,\"#482878\"],[0.2222222222222222,\"#3e4989\"],[0.3333333333333333,\"#31688e\"],[0.4444444444444444,\"#26828e\"],[0.5555555555555556,\"#1f9e89\"],[0.6666666666666666,\"#35b779\"],[0.7777777777777778,\"#6ece58\"],[0.8888888888888888,\"#b5de2b\"],[1.0,\"#fde725\"]],\"sequentialminus\":[[0.0,\"#440154\"],[0.1111111111111111,\"#482878\"],[0.2222222222222222,\"#3e4989\"],[0.3333333333333333,\"#31688e\"],[0.4444444444444444,\"#26828e\"],[0.5555555555555556,\"#1f9e89\"],[0.6666666666666666,\"#35b779\"],[0.7777777777777778,\"#6ece58\"],[0.8888888888888888,\"#b5de2b\"],[1.0,\"#fde725\"]]},\"colorway\":[\"#1F77B4\",\"#FF7F0E\",\"#2CA02C\",\"#D62728\",\"#9467BD\",\"#8C564B\",\"#E377C2\",\"#7F7F7F\",\"#BCBD22\",\"#17BECF\"],\"font\":{\"color\":\"rgb(36,36,36)\"},\"geo\":{\"bgcolor\":\"white\",\"lakecolor\":\"white\",\"landcolor\":\"white\",\"showlakes\":true,\"showland\":true,\"subunitcolor\":\"white\"},\"hoverlabel\":{\"align\":\"left\"},\"hovermode\":\"closest\",\"mapbox\":{\"style\":\"light\"},\"paper_bgcolor\":\"white\",\"plot_bgcolor\":\"white\",\"polar\":{\"angularaxis\":{\"gridcolor\":\"rgb(232,232,232)\",\"linecolor\":\"rgb(36,36,36)\",\"showgrid\":false,\"showline\":true,\"ticks\":\"outside\"},\"bgcolor\":\"white\",\"radialaxis\":{\"gridcolor\":\"rgb(232,232,232)\",\"linecolor\":\"rgb(36,36,36)\",\"showgrid\":false,\"showline\":true,\"ticks\":\"outside\"}},\"scene\":{\"xaxis\":{\"backgroundcolor\":\"white\",\"gridcolor\":\"rgb(232,232,232)\",\"gridwidth\":2,\"linecolor\":\"rgb(36,36,36)\",\"showbackground\":true,\"showgrid\":false,\"showline\":true,\"ticks\":\"outside\",\"zeroline\":false,\"zerolinecolor\":\"rgb(36,36,36)\"},\"yaxis\":{\"backgroundcolor\":\"white\",\"gridcolor\":\"rgb(232,232,232)\",\"gridwidth\":2,\"linecolor\":\"rgb(36,36,36)\",\"showbackground\":true,\"showgrid\":false,\"showline\":true,\"ticks\":\"outside\",\"zeroline\":false,\"zerolinecolor\":\"rgb(36,36,36)\"},\"zaxis\":{\"backgroundcolor\":\"white\",\"gridcolor\":\"rgb(232,232,232)\",\"gridwidth\":2,\"linecolor\":\"rgb(36,36,36)\",\"showbackground\":true,\"showgrid\":false,\"showline\":true,\"ticks\":\"outside\",\"zeroline\":false,\"zerolinecolor\":\"rgb(36,36,36)\"}},\"shapedefaults\":{\"fillcolor\":\"black\",\"line\":{\"width\":0},\"opacity\":0.3},\"ternary\":{\"aaxis\":{\"gridcolor\":\"rgb(232,232,232)\",\"linecolor\":\"rgb(36,36,36)\",\"showgrid\":false,\"showline\":true,\"ticks\":\"outside\"},\"baxis\":{\"gridcolor\":\"rgb(232,232,232)\",\"linecolor\":\"rgb(36,36,36)\",\"showgrid\":false,\"showline\":true,\"ticks\":\"outside\"},\"bgcolor\":\"white\",\"caxis\":{\"gridcolor\":\"rgb(232,232,232)\",\"linecolor\":\"rgb(36,36,36)\",\"showgrid\":false,\"showline\":true,\"ticks\":\"outside\"}},\"title\":{\"x\":0.05},\"xaxis\":{\"automargin\":true,\"gridcolor\":\"rgb(232,232,232)\",\"linecolor\":\"rgb(36,36,36)\",\"showgrid\":false,\"showline\":true,\"ticks\":\"outside\",\"title\":{\"standoff\":15},\"zeroline\":false,\"zerolinecolor\":\"rgb(36,36,36)\"},\"yaxis\":{\"automargin\":true,\"gridcolor\":\"rgb(232,232,232)\",\"linecolor\":\"rgb(36,36,36)\",\"showgrid\":false,\"showline\":true,\"ticks\":\"outside\",\"title\":{\"standoff\":15},\"zeroline\":false,\"zerolinecolor\":\"rgb(36,36,36)\"}}},\"xaxis\":{\"anchor\":\"y\",\"domain\":[0.0,1.0],\"title\":{\"text\":\"\"},\"visible\":false,\"range\":[2.1565056800842286,13.62789306640625]},\"yaxis\":{\"anchor\":\"x\",\"domain\":[0.0,1.0],\"title\":{\"text\":\"\"},\"visible\":false,\"range\":[3.181993842124939,8.781773614883424]},\"legend\":{\"tracegroupgap\":0,\"itemsizing\":\"constant\"},\"margin\":{\"t\":60},\"title\":{\"font\":{\"size\":22,\"color\":\"Black\"},\"text\":\"\\u003cb\\u003eIntertopic Distance Map\\u003c\\u002fb\\u003e\",\"y\":0.95,\"x\":0.5,\"xanchor\":\"center\",\"yanchor\":\"top\"},\"hoverlabel\":{\"font\":{\"size\":16,\"family\":\"Rockwell\"},\"bgcolor\":\"white\"},\"width\":650,\"height\":650,\"sliders\":[{\"active\":0,\"pad\":{\"t\":50},\"steps\":[{\"args\":[{\"marker.color\":[[\"red\",\"#B0BEC5\",\"#B0BEC5\",\"#B0BEC5\",\"#B0BEC5\",\"#B0BEC5\",\"#B0BEC5\",\"#B0BEC5\",\"#B0BEC5\",\"#B0BEC5\",\"#B0BEC5\",\"#B0BEC5\",\"#B0BEC5\",\"#B0BEC5\",\"#B0BEC5\",\"#B0BEC5\",\"#B0BEC5\",\"#B0BEC5\",\"#B0BEC5\",\"#B0BEC5\",\"#B0BEC5\",\"#B0BEC5\",\"#B0BEC5\",\"#B0BEC5\"]]}],\"label\":\"Topic 0\",\"method\":\"update\"},{\"args\":[{\"marker.color\":[[\"#B0BEC5\",\"red\",\"#B0BEC5\",\"#B0BEC5\",\"#B0BEC5\",\"#B0BEC5\",\"#B0BEC5\",\"#B0BEC5\",\"#B0BEC5\",\"#B0BEC5\",\"#B0BEC5\",\"#B0BEC5\",\"#B0BEC5\",\"#B0BEC5\",\"#B0BEC5\",\"#B0BEC5\",\"#B0BEC5\",\"#B0BEC5\",\"#B0BEC5\",\"#B0BEC5\",\"#B0BEC5\",\"#B0BEC5\",\"#B0BEC5\",\"#B0BEC5\"]]}],\"label\":\"Topic 1\",\"method\":\"update\"},{\"args\":[{\"marker.color\":[[\"#B0BEC5\",\"#B0BEC5\",\"red\",\"#B0BEC5\",\"#B0BEC5\",\"#B0BEC5\",\"#B0BEC5\",\"#B0BEC5\",\"#B0BEC5\",\"#B0BEC5\",\"#B0BEC5\",\"#B0BEC5\",\"#B0BEC5\",\"#B0BEC5\",\"#B0BEC5\",\"#B0BEC5\",\"#B0BEC5\",\"#B0BEC5\",\"#B0BEC5\",\"#B0BEC5\",\"#B0BEC5\",\"#B0BEC5\",\"#B0BEC5\",\"#B0BEC5\"]]}],\"label\":\"Topic 2\",\"method\":\"update\"},{\"args\":[{\"marker.color\":[[\"#B0BEC5\",\"#B0BEC5\",\"#B0BEC5\",\"red\",\"#B0BEC5\",\"#B0BEC5\",\"#B0BEC5\",\"#B0BEC5\",\"#B0BEC5\",\"#B0BEC5\",\"#B0BEC5\",\"#B0BEC5\",\"#B0BEC5\",\"#B0BEC5\",\"#B0BEC5\",\"#B0BEC5\",\"#B0BEC5\",\"#B0BEC5\",\"#B0BEC5\",\"#B0BEC5\",\"#B0BEC5\",\"#B0BEC5\",\"#B0BEC5\",\"#B0BEC5\"]]}],\"label\":\"Topic 3\",\"method\":\"update\"},{\"args\":[{\"marker.color\":[[\"#B0BEC5\",\"#B0BEC5\",\"#B0BEC5\",\"#B0BEC5\",\"red\",\"#B0BEC5\",\"#B0BEC5\",\"#B0BEC5\",\"#B0BEC5\",\"#B0BEC5\",\"#B0BEC5\",\"#B0BEC5\",\"#B0BEC5\",\"#B0BEC5\",\"#B0BEC5\",\"#B0BEC5\",\"#B0BEC5\",\"#B0BEC5\",\"#B0BEC5\",\"#B0BEC5\",\"#B0BEC5\",\"#B0BEC5\",\"#B0BEC5\",\"#B0BEC5\"]]}],\"label\":\"Topic 4\",\"method\":\"update\"},{\"args\":[{\"marker.color\":[[\"#B0BEC5\",\"#B0BEC5\",\"#B0BEC5\",\"#B0BEC5\",\"#B0BEC5\",\"red\",\"#B0BEC5\",\"#B0BEC5\",\"#B0BEC5\",\"#B0BEC5\",\"#B0BEC5\",\"#B0BEC5\",\"#B0BEC5\",\"#B0BEC5\",\"#B0BEC5\",\"#B0BEC5\",\"#B0BEC5\",\"#B0BEC5\",\"#B0BEC5\",\"#B0BEC5\",\"#B0BEC5\",\"#B0BEC5\",\"#B0BEC5\",\"#B0BEC5\"]]}],\"label\":\"Topic 5\",\"method\":\"update\"},{\"args\":[{\"marker.color\":[[\"#B0BEC5\",\"#B0BEC5\",\"#B0BEC5\",\"#B0BEC5\",\"#B0BEC5\",\"#B0BEC5\",\"red\",\"#B0BEC5\",\"#B0BEC5\",\"#B0BEC5\",\"#B0BEC5\",\"#B0BEC5\",\"#B0BEC5\",\"#B0BEC5\",\"#B0BEC5\",\"#B0BEC5\",\"#B0BEC5\",\"#B0BEC5\",\"#B0BEC5\",\"#B0BEC5\",\"#B0BEC5\",\"#B0BEC5\",\"#B0BEC5\",\"#B0BEC5\"]]}],\"label\":\"Topic 6\",\"method\":\"update\"},{\"args\":[{\"marker.color\":[[\"#B0BEC5\",\"#B0BEC5\",\"#B0BEC5\",\"#B0BEC5\",\"#B0BEC5\",\"#B0BEC5\",\"#B0BEC5\",\"red\",\"#B0BEC5\",\"#B0BEC5\",\"#B0BEC5\",\"#B0BEC5\",\"#B0BEC5\",\"#B0BEC5\",\"#B0BEC5\",\"#B0BEC5\",\"#B0BEC5\",\"#B0BEC5\",\"#B0BEC5\",\"#B0BEC5\",\"#B0BEC5\",\"#B0BEC5\",\"#B0BEC5\",\"#B0BEC5\"]]}],\"label\":\"Topic 7\",\"method\":\"update\"},{\"args\":[{\"marker.color\":[[\"#B0BEC5\",\"#B0BEC5\",\"#B0BEC5\",\"#B0BEC5\",\"#B0BEC5\",\"#B0BEC5\",\"#B0BEC5\",\"#B0BEC5\",\"red\",\"#B0BEC5\",\"#B0BEC5\",\"#B0BEC5\",\"#B0BEC5\",\"#B0BEC5\",\"#B0BEC5\",\"#B0BEC5\",\"#B0BEC5\",\"#B0BEC5\",\"#B0BEC5\",\"#B0BEC5\",\"#B0BEC5\",\"#B0BEC5\",\"#B0BEC5\",\"#B0BEC5\"]]}],\"label\":\"Topic 8\",\"method\":\"update\"},{\"args\":[{\"marker.color\":[[\"#B0BEC5\",\"#B0BEC5\",\"#B0BEC5\",\"#B0BEC5\",\"#B0BEC5\",\"#B0BEC5\",\"#B0BEC5\",\"#B0BEC5\",\"#B0BEC5\",\"red\",\"#B0BEC5\",\"#B0BEC5\",\"#B0BEC5\",\"#B0BEC5\",\"#B0BEC5\",\"#B0BEC5\",\"#B0BEC5\",\"#B0BEC5\",\"#B0BEC5\",\"#B0BEC5\",\"#B0BEC5\",\"#B0BEC5\",\"#B0BEC5\",\"#B0BEC5\"]]}],\"label\":\"Topic 9\",\"method\":\"update\"},{\"args\":[{\"marker.color\":[[\"#B0BEC5\",\"#B0BEC5\",\"#B0BEC5\",\"#B0BEC5\",\"#B0BEC5\",\"#B0BEC5\",\"#B0BEC5\",\"#B0BEC5\",\"#B0BEC5\",\"#B0BEC5\",\"red\",\"#B0BEC5\",\"#B0BEC5\",\"#B0BEC5\",\"#B0BEC5\",\"#B0BEC5\",\"#B0BEC5\",\"#B0BEC5\",\"#B0BEC5\",\"#B0BEC5\",\"#B0BEC5\",\"#B0BEC5\",\"#B0BEC5\",\"#B0BEC5\"]]}],\"label\":\"Topic 10\",\"method\":\"update\"},{\"args\":[{\"marker.color\":[[\"#B0BEC5\",\"#B0BEC5\",\"#B0BEC5\",\"#B0BEC5\",\"#B0BEC5\",\"#B0BEC5\",\"#B0BEC5\",\"#B0BEC5\",\"#B0BEC5\",\"#B0BEC5\",\"#B0BEC5\",\"red\",\"#B0BEC5\",\"#B0BEC5\",\"#B0BEC5\",\"#B0BEC5\",\"#B0BEC5\",\"#B0BEC5\",\"#B0BEC5\",\"#B0BEC5\",\"#B0BEC5\",\"#B0BEC5\",\"#B0BEC5\",\"#B0BEC5\"]]}],\"label\":\"Topic 11\",\"method\":\"update\"},{\"args\":[{\"marker.color\":[[\"#B0BEC5\",\"#B0BEC5\",\"#B0BEC5\",\"#B0BEC5\",\"#B0BEC5\",\"#B0BEC5\",\"#B0BEC5\",\"#B0BEC5\",\"#B0BEC5\",\"#B0BEC5\",\"#B0BEC5\",\"#B0BEC5\",\"red\",\"#B0BEC5\",\"#B0BEC5\",\"#B0BEC5\",\"#B0BEC5\",\"#B0BEC5\",\"#B0BEC5\",\"#B0BEC5\",\"#B0BEC5\",\"#B0BEC5\",\"#B0BEC5\",\"#B0BEC5\"]]}],\"label\":\"Topic 12\",\"method\":\"update\"},{\"args\":[{\"marker.color\":[[\"#B0BEC5\",\"#B0BEC5\",\"#B0BEC5\",\"#B0BEC5\",\"#B0BEC5\",\"#B0BEC5\",\"#B0BEC5\",\"#B0BEC5\",\"#B0BEC5\",\"#B0BEC5\",\"#B0BEC5\",\"#B0BEC5\",\"#B0BEC5\",\"red\",\"#B0BEC5\",\"#B0BEC5\",\"#B0BEC5\",\"#B0BEC5\",\"#B0BEC5\",\"#B0BEC5\",\"#B0BEC5\",\"#B0BEC5\",\"#B0BEC5\",\"#B0BEC5\"]]}],\"label\":\"Topic 13\",\"method\":\"update\"},{\"args\":[{\"marker.color\":[[\"#B0BEC5\",\"#B0BEC5\",\"#B0BEC5\",\"#B0BEC5\",\"#B0BEC5\",\"#B0BEC5\",\"#B0BEC5\",\"#B0BEC5\",\"#B0BEC5\",\"#B0BEC5\",\"#B0BEC5\",\"#B0BEC5\",\"#B0BEC5\",\"#B0BEC5\",\"red\",\"#B0BEC5\",\"#B0BEC5\",\"#B0BEC5\",\"#B0BEC5\",\"#B0BEC5\",\"#B0BEC5\",\"#B0BEC5\",\"#B0BEC5\",\"#B0BEC5\"]]}],\"label\":\"Topic 14\",\"method\":\"update\"},{\"args\":[{\"marker.color\":[[\"#B0BEC5\",\"#B0BEC5\",\"#B0BEC5\",\"#B0BEC5\",\"#B0BEC5\",\"#B0BEC5\",\"#B0BEC5\",\"#B0BEC5\",\"#B0BEC5\",\"#B0BEC5\",\"#B0BEC5\",\"#B0BEC5\",\"#B0BEC5\",\"#B0BEC5\",\"#B0BEC5\",\"red\",\"#B0BEC5\",\"#B0BEC5\",\"#B0BEC5\",\"#B0BEC5\",\"#B0BEC5\",\"#B0BEC5\",\"#B0BEC5\",\"#B0BEC5\"]]}],\"label\":\"Topic 15\",\"method\":\"update\"},{\"args\":[{\"marker.color\":[[\"#B0BEC5\",\"#B0BEC5\",\"#B0BEC5\",\"#B0BEC5\",\"#B0BEC5\",\"#B0BEC5\",\"#B0BEC5\",\"#B0BEC5\",\"#B0BEC5\",\"#B0BEC5\",\"#B0BEC5\",\"#B0BEC5\",\"#B0BEC5\",\"#B0BEC5\",\"#B0BEC5\",\"#B0BEC5\",\"red\",\"#B0BEC5\",\"#B0BEC5\",\"#B0BEC5\",\"#B0BEC5\",\"#B0BEC5\",\"#B0BEC5\",\"#B0BEC5\"]]}],\"label\":\"Topic 16\",\"method\":\"update\"},{\"args\":[{\"marker.color\":[[\"#B0BEC5\",\"#B0BEC5\",\"#B0BEC5\",\"#B0BEC5\",\"#B0BEC5\",\"#B0BEC5\",\"#B0BEC5\",\"#B0BEC5\",\"#B0BEC5\",\"#B0BEC5\",\"#B0BEC5\",\"#B0BEC5\",\"#B0BEC5\",\"#B0BEC5\",\"#B0BEC5\",\"#B0BEC5\",\"#B0BEC5\",\"red\",\"#B0BEC5\",\"#B0BEC5\",\"#B0BEC5\",\"#B0BEC5\",\"#B0BEC5\",\"#B0BEC5\"]]}],\"label\":\"Topic 17\",\"method\":\"update\"},{\"args\":[{\"marker.color\":[[\"#B0BEC5\",\"#B0BEC5\",\"#B0BEC5\",\"#B0BEC5\",\"#B0BEC5\",\"#B0BEC5\",\"#B0BEC5\",\"#B0BEC5\",\"#B0BEC5\",\"#B0BEC5\",\"#B0BEC5\",\"#B0BEC5\",\"#B0BEC5\",\"#B0BEC5\",\"#B0BEC5\",\"#B0BEC5\",\"#B0BEC5\",\"#B0BEC5\",\"red\",\"#B0BEC5\",\"#B0BEC5\",\"#B0BEC5\",\"#B0BEC5\",\"#B0BEC5\"]]}],\"label\":\"Topic 18\",\"method\":\"update\"},{\"args\":[{\"marker.color\":[[\"#B0BEC5\",\"#B0BEC5\",\"#B0BEC5\",\"#B0BEC5\",\"#B0BEC5\",\"#B0BEC5\",\"#B0BEC5\",\"#B0BEC5\",\"#B0BEC5\",\"#B0BEC5\",\"#B0BEC5\",\"#B0BEC5\",\"#B0BEC5\",\"#B0BEC5\",\"#B0BEC5\",\"#B0BEC5\",\"#B0BEC5\",\"#B0BEC5\",\"#B0BEC5\",\"red\",\"#B0BEC5\",\"#B0BEC5\",\"#B0BEC5\",\"#B0BEC5\"]]}],\"label\":\"Topic 19\",\"method\":\"update\"},{\"args\":[{\"marker.color\":[[\"#B0BEC5\",\"#B0BEC5\",\"#B0BEC5\",\"#B0BEC5\",\"#B0BEC5\",\"#B0BEC5\",\"#B0BEC5\",\"#B0BEC5\",\"#B0BEC5\",\"#B0BEC5\",\"#B0BEC5\",\"#B0BEC5\",\"#B0BEC5\",\"#B0BEC5\",\"#B0BEC5\",\"#B0BEC5\",\"#B0BEC5\",\"#B0BEC5\",\"#B0BEC5\",\"#B0BEC5\",\"red\",\"#B0BEC5\",\"#B0BEC5\",\"#B0BEC5\"]]}],\"label\":\"Topic 20\",\"method\":\"update\"},{\"args\":[{\"marker.color\":[[\"#B0BEC5\",\"#B0BEC5\",\"#B0BEC5\",\"#B0BEC5\",\"#B0BEC5\",\"#B0BEC5\",\"#B0BEC5\",\"#B0BEC5\",\"#B0BEC5\",\"#B0BEC5\",\"#B0BEC5\",\"#B0BEC5\",\"#B0BEC5\",\"#B0BEC5\",\"#B0BEC5\",\"#B0BEC5\",\"#B0BEC5\",\"#B0BEC5\",\"#B0BEC5\",\"#B0BEC5\",\"#B0BEC5\",\"red\",\"#B0BEC5\",\"#B0BEC5\"]]}],\"label\":\"Topic 21\",\"method\":\"update\"},{\"args\":[{\"marker.color\":[[\"#B0BEC5\",\"#B0BEC5\",\"#B0BEC5\",\"#B0BEC5\",\"#B0BEC5\",\"#B0BEC5\",\"#B0BEC5\",\"#B0BEC5\",\"#B0BEC5\",\"#B0BEC5\",\"#B0BEC5\",\"#B0BEC5\",\"#B0BEC5\",\"#B0BEC5\",\"#B0BEC5\",\"#B0BEC5\",\"#B0BEC5\",\"#B0BEC5\",\"#B0BEC5\",\"#B0BEC5\",\"#B0BEC5\",\"#B0BEC5\",\"red\",\"#B0BEC5\"]]}],\"label\":\"Topic 22\",\"method\":\"update\"},{\"args\":[{\"marker.color\":[[\"#B0BEC5\",\"#B0BEC5\",\"#B0BEC5\",\"#B0BEC5\",\"#B0BEC5\",\"#B0BEC5\",\"#B0BEC5\",\"#B0BEC5\",\"#B0BEC5\",\"#B0BEC5\",\"#B0BEC5\",\"#B0BEC5\",\"#B0BEC5\",\"#B0BEC5\",\"#B0BEC5\",\"#B0BEC5\",\"#B0BEC5\",\"#B0BEC5\",\"#B0BEC5\",\"#B0BEC5\",\"#B0BEC5\",\"#B0BEC5\",\"#B0BEC5\",\"red\"]]}],\"label\":\"Topic 23\",\"method\":\"update\"}]}],\"shapes\":[{\"line\":{\"color\":\"#CFD8DC\",\"width\":2},\"type\":\"line\",\"x0\":7.892199373245239,\"x1\":7.892199373245239,\"y0\":3.181993842124939,\"y1\":8.781773614883424},{\"line\":{\"color\":\"#9E9E9E\",\"width\":2},\"type\":\"line\",\"x0\":2.1565056800842286,\"x1\":13.62789306640625,\"y0\":5.981883728504181,\"y1\":5.981883728504181}],\"annotations\":[{\"showarrow\":false,\"text\":\"D1\",\"x\":2.1565056800842286,\"y\":5.981883728504181,\"yshift\":10},{\"showarrow\":false,\"text\":\"D2\",\"x\":7.892199373245239,\"xshift\":10,\"y\":8.781773614883424}]},                        {\"responsive\": true}                    ).then(function(){\n",
       "                            \n",
       "var gd = document.getElementById('1ae8de5d-ab65-446b-92a3-e09c0955a3f2');\n",
       "var x = new MutationObserver(function (mutations, observer) {{\n",
       "        var display = window.getComputedStyle(gd).display;\n",
       "        if (!display || display === 'none') {{\n",
       "            console.log([gd, 'removed!']);\n",
       "            Plotly.purge(gd);\n",
       "            observer.disconnect();\n",
       "        }}\n",
       "}});\n",
       "\n",
       "// Listen for the removal of the full notebook cells\n",
       "var notebookContainer = gd.closest('#notebook-container');\n",
       "if (notebookContainer) {{\n",
       "    x.observe(notebookContainer, {childList: true});\n",
       "}}\n",
       "\n",
       "// Listen for the clearing of the current output cell\n",
       "var outputEl = gd.closest('.output');\n",
       "if (outputEl) {{\n",
       "    x.observe(outputEl, {childList: true});\n",
       "}}\n",
       "\n",
       "                        })                };                            </script>        </div>\n",
       "</body>\n",
       "</html>"
      ]
     },
     "metadata": {}
    }
   ]
  },
  {
   "cell_type": "code",
   "source": [
    "model.visualize_hierarchy(top_n_topics=30)"
   ],
   "metadata": {
    "colab": {
     "base_uri": "https://localhost:8080/",
     "height": 577
    },
    "id": "6-a9r61pM3PI",
    "outputId": "b68f0eb4-f1cb-4189-b524-947730822162"
   },
   "execution_count": 20,
   "outputs": [
    {
     "output_type": "display_data",
     "data": {
      "text/html": [
       "<html>\n",
       "<head><meta charset=\"utf-8\" /></head>\n",
       "<body>\n",
       "    <div>            <script src=\"https://cdnjs.cloudflare.com/ajax/libs/mathjax/2.7.5/MathJax.js?config=TeX-AMS-MML_SVG\"></script><script type=\"text/javascript\">if (window.MathJax && window.MathJax.Hub && window.MathJax.Hub.Config) {window.MathJax.Hub.Config({SVG: {font: \"STIX-Web\"}});}</script>                <script type=\"text/javascript\">window.PlotlyConfig = {MathJaxConfig: 'local'};</script>\n",
       "        <script charset=\"utf-8\" src=\"https://cdn.plot.ly/plotly-2.35.2.min.js\"></script>                <div id=\"ff66883a-94e9-4f1b-a920-441033287042\" class=\"plotly-graph-div\" style=\"height:560px; width:1000px;\"></div>            <script type=\"text/javascript\">                                    window.PLOTLYENV=window.PLOTLYENV || {};                                    if (document.getElementById(\"ff66883a-94e9-4f1b-a920-441033287042\")) {                    Plotly.newPlot(                        \"ff66883a-94e9-4f1b-a920-441033287042\",                        [{\"hoverinfo\":\"text\",\"marker\":{\"color\":\"rgb(0,116,217)\"},\"mode\":\"lines\",\"x\":[0.0,1.0,1.0,0.0],\"xaxis\":\"x\",\"y\":[-15.0,-15.0,-25.0,-25.0],\"yaxis\":\"y\",\"type\":\"scatter\"},{\"hoverinfo\":\"text\",\"marker\":{\"color\":\"rgb(0,116,217)\"},\"mode\":\"lines\",\"x\":[0.0,1.0,1.0,1.0],\"xaxis\":\"x\",\"y\":[-5.0,-5.0,-20.0,-20.0],\"yaxis\":\"y\",\"type\":\"scatter\"},{\"hoverinfo\":\"text\",\"marker\":{\"color\":\"rgb(61,153,112)\"},\"mode\":\"lines\",\"x\":[0.0,0.9023961787603283,0.9023961787603283,0.0],\"xaxis\":\"x\",\"y\":[-35.0,-35.0,-45.0,-45.0],\"yaxis\":\"y\",\"type\":\"scatter\"},{\"hoverinfo\":\"text\",\"marker\":{\"color\":\"rgb(0,116,217)\"},\"mode\":\"lines\",\"x\":[1.0,1.0462510806997198,1.0462510806997198,0.9023961787603283],\"xaxis\":\"x\",\"y\":[-12.5,-12.5,-40.0,-40.0],\"yaxis\":\"y\",\"type\":\"scatter\"},{\"hoverinfo\":\"text\",\"marker\":{\"color\":\"rgb(255,65,54)\"},\"mode\":\"lines\",\"x\":[0.0,0.7055999631792476,0.7055999631792476,0.0],\"xaxis\":\"x\",\"y\":[-55.0,-55.0,-65.0,-65.0],\"yaxis\":\"y\",\"type\":\"scatter\"},{\"hoverinfo\":\"text\",\"marker\":{\"color\":\"rgb(255,65,54)\"},\"mode\":\"lines\",\"x\":[0.7055999631792476,0.9661644998145446,0.9661644998145446,0.0],\"xaxis\":\"x\",\"y\":[-60.0,-60.0,-75.0,-75.0],\"yaxis\":\"y\",\"type\":\"scatter\"},{\"hoverinfo\":\"text\",\"marker\":{\"color\":\"rgb(0,116,217)\"},\"mode\":\"lines\",\"x\":[1.0462510806997198,1.0625151980779928,1.0625151980779928,0.9661644998145446],\"xaxis\":\"x\",\"y\":[-26.25,-26.25,-67.5,-67.5],\"yaxis\":\"y\",\"type\":\"scatter\"},{\"hoverinfo\":\"text\",\"marker\":{\"color\":\"rgb(35,205,205)\"},\"mode\":\"lines\",\"x\":[0.0,0.8555641726814733,0.8555641726814733,0.0],\"xaxis\":\"x\",\"y\":[-85.0,-85.0,-95.0,-95.0],\"yaxis\":\"y\",\"type\":\"scatter\"},{\"hoverinfo\":\"text\",\"marker\":{\"color\":\"rgb(35,205,205)\"},\"mode\":\"lines\",\"x\":[0.0,0.9207265046965223,0.9207265046965223,0.0],\"xaxis\":\"x\",\"y\":[-125.0,-125.0,-135.0,-135.0],\"yaxis\":\"y\",\"type\":\"scatter\"},{\"hoverinfo\":\"text\",\"marker\":{\"color\":\"rgb(35,205,205)\"},\"mode\":\"lines\",\"x\":[0.0,0.9420652010800706,0.9420652010800706,0.9207265046965223],\"xaxis\":\"x\",\"y\":[-115.0,-115.0,-130.0,-130.0],\"yaxis\":\"y\",\"type\":\"scatter\"},{\"hoverinfo\":\"text\",\"marker\":{\"color\":\"rgb(35,205,205)\"},\"mode\":\"lines\",\"x\":[0.9420652010800706,0.9513995619626796,0.9513995619626796,0.0],\"xaxis\":\"x\",\"y\":[-122.5,-122.5,-145.0,-145.0],\"yaxis\":\"y\",\"type\":\"scatter\"},{\"hoverinfo\":\"text\",\"marker\":{\"color\":\"rgb(35,205,205)\"},\"mode\":\"lines\",\"x\":[0.0,0.9654739936751906,0.9654739936751906,0.9513995619626796],\"xaxis\":\"x\",\"y\":[-105.0,-105.0,-133.75,-133.75],\"yaxis\":\"y\",\"type\":\"scatter\"},{\"hoverinfo\":\"text\",\"marker\":{\"color\":\"rgb(35,205,205)\"},\"mode\":\"lines\",\"x\":[0.8555641726814733,0.9880598523860757,0.9880598523860757,0.9654739936751906],\"xaxis\":\"x\",\"y\":[-90.0,-90.0,-119.375,-119.375],\"yaxis\":\"y\",\"type\":\"scatter\"},{\"hoverinfo\":\"text\",\"marker\":{\"color\":\"rgb(0,116,217)\"},\"mode\":\"lines\",\"x\":[1.0625151980779928,1.0887740701880941,1.0887740701880941,0.9880598523860757],\"xaxis\":\"x\",\"y\":[-46.875,-46.875,-104.6875,-104.6875],\"yaxis\":\"y\",\"type\":\"scatter\"},{\"hoverinfo\":\"text\",\"marker\":{\"color\":\"rgb(133,20,75)\"},\"mode\":\"lines\",\"x\":[0.0,0.7762621957655579,0.7762621957655579,0.0],\"xaxis\":\"x\",\"y\":[-155.0,-155.0,-165.0,-165.0],\"yaxis\":\"y\",\"type\":\"scatter\"},{\"hoverinfo\":\"text\",\"marker\":{\"color\":\"rgb(133,20,75)\"},\"mode\":\"lines\",\"x\":[0.0,0.8980432895429504,0.8980432895429504,0.0],\"xaxis\":\"x\",\"y\":[-175.0,-175.0,-185.0,-185.0],\"yaxis\":\"y\",\"type\":\"scatter\"},{\"hoverinfo\":\"text\",\"marker\":{\"color\":\"rgb(133,20,75)\"},\"mode\":\"lines\",\"x\":[0.7762621957655579,0.9823944064880135,0.9823944064880135,0.8980432895429504],\"xaxis\":\"x\",\"y\":[-160.0,-160.0,-180.0,-180.0],\"yaxis\":\"y\",\"type\":\"scatter\"},{\"hoverinfo\":\"text\",\"marker\":{\"color\":\"rgb(255,220,0)\"},\"mode\":\"lines\",\"x\":[0.0,0.8990171643737603,0.8990171643737603,0.0],\"xaxis\":\"x\",\"y\":[-195.0,-195.0,-205.0,-205.0],\"yaxis\":\"y\",\"type\":\"scatter\"},{\"hoverinfo\":\"text\",\"marker\":{\"color\":\"rgb(40,35,35)\"},\"mode\":\"lines\",\"x\":[0.0,0.8590211452112878,0.8590211452112878,0.0],\"xaxis\":\"x\",\"y\":[-215.0,-215.0,-225.0,-225.0],\"yaxis\":\"y\",\"type\":\"scatter\"},{\"hoverinfo\":\"text\",\"marker\":{\"color\":\"rgb(40,35,35)\"},\"mode\":\"lines\",\"x\":[0.8590211452112878,0.9401020085583212,0.9401020085583212,0.0],\"xaxis\":\"x\",\"y\":[-220.0,-220.0,-235.0,-235.0],\"yaxis\":\"y\",\"type\":\"scatter\"},{\"hoverinfo\":\"text\",\"marker\":{\"color\":\"rgb(0,116,217)\"},\"mode\":\"lines\",\"x\":[0.8990171643737603,1.0004567431482514,1.0004567431482514,0.9401020085583212],\"xaxis\":\"x\",\"y\":[-200.0,-200.0,-227.5,-227.5],\"yaxis\":\"y\",\"type\":\"scatter\"},{\"hoverinfo\":\"text\",\"marker\":{\"color\":\"rgb(0,116,217)\"},\"mode\":\"lines\",\"x\":[0.9823944064880135,1.108164017704368,1.108164017704368,1.0004567431482514],\"xaxis\":\"x\",\"y\":[-170.0,-170.0,-213.75,-213.75],\"yaxis\":\"y\",\"type\":\"scatter\"},{\"hoverinfo\":\"text\",\"marker\":{\"color\":\"rgb(0,116,217)\"},\"mode\":\"lines\",\"x\":[1.0887740701880941,1.1890184493461005,1.1890184493461005,1.108164017704368],\"xaxis\":\"x\",\"y\":[-75.78125,-75.78125,-191.875,-191.875],\"yaxis\":\"y\",\"type\":\"scatter\"}],                        {\"autosize\":false,\"height\":560,\"hovermode\":\"closest\",\"showlegend\":false,\"width\":1000,\"xaxis\":{\"mirror\":\"allticks\",\"rangemode\":\"tozero\",\"showgrid\":false,\"showline\":true,\"showticklabels\":true,\"ticks\":\"outside\",\"type\":\"linear\",\"zeroline\":false},\"yaxis\":{\"mirror\":\"allticks\",\"rangemode\":\"tozero\",\"showgrid\":false,\"showline\":true,\"showticklabels\":true,\"tickmode\":\"array\",\"ticks\":\"outside\",\"ticktext\":[\"19_jemur_index_bmkg\",\"23_odp_total_pdp\",\"17_sanitizer_hand_botol\",\"14_sulianti_saroso_rspi\",\"11_pneumonia_misterius_china\",\"0_corona_indonesia_virus\",\"4_covid_who_jubir\",\"16_normal_new_hadap\",\"2_masker_kain_pakai\",\"18_jenis_kenal_kosong\",\"15_henti_didi_kempot\",\"7_reynhard_sinaga_kanker\",\"10_hati_ginjal_sakit\",\"3_banjir_korban_hipotermia\",\"8_fakta_disinfektan_semprot\",\"12_orgasme_wanita_cinta\",\"5_cinta_posisi_seks\",\"9_pria_diamond_abk\",\"21_sperma_pria_kualitas\",\"20_masturbasi_dampak_buruk\",\"22_tubuh_imunitas_tingkat\",\"6_olahraga_tidur_gbk\",\"1_puasa_manfaat_sehat\",\"13_kolesterol_lebaran_kalap\"],\"tickvals\":[-5.0,-15.0,-25.0,-35.0,-45.0,-55.0,-65.0,-75.0,-85.0,-95.0,-105.0,-115.0,-125.0,-135.0,-145.0,-155.0,-165.0,-175.0,-185.0,-195.0,-205.0,-215.0,-225.0,-235.0],\"type\":\"linear\",\"zeroline\":false,\"range\":[-240.0,0.0]},\"template\":{\"data\":{\"barpolar\":[{\"marker\":{\"line\":{\"color\":\"white\",\"width\":0.5},\"pattern\":{\"fillmode\":\"overlay\",\"size\":10,\"solidity\":0.2}},\"type\":\"barpolar\"}],\"bar\":[{\"error_x\":{\"color\":\"#2a3f5f\"},\"error_y\":{\"color\":\"#2a3f5f\"},\"marker\":{\"line\":{\"color\":\"white\",\"width\":0.5},\"pattern\":{\"fillmode\":\"overlay\",\"size\":10,\"solidity\":0.2}},\"type\":\"bar\"}],\"carpet\":[{\"aaxis\":{\"endlinecolor\":\"#2a3f5f\",\"gridcolor\":\"#C8D4E3\",\"linecolor\":\"#C8D4E3\",\"minorgridcolor\":\"#C8D4E3\",\"startlinecolor\":\"#2a3f5f\"},\"baxis\":{\"endlinecolor\":\"#2a3f5f\",\"gridcolor\":\"#C8D4E3\",\"linecolor\":\"#C8D4E3\",\"minorgridcolor\":\"#C8D4E3\",\"startlinecolor\":\"#2a3f5f\"},\"type\":\"carpet\"}],\"choropleth\":[{\"colorbar\":{\"outlinewidth\":0,\"ticks\":\"\"},\"type\":\"choropleth\"}],\"contourcarpet\":[{\"colorbar\":{\"outlinewidth\":0,\"ticks\":\"\"},\"type\":\"contourcarpet\"}],\"contour\":[{\"colorbar\":{\"outlinewidth\":0,\"ticks\":\"\"},\"colorscale\":[[0.0,\"#0d0887\"],[0.1111111111111111,\"#46039f\"],[0.2222222222222222,\"#7201a8\"],[0.3333333333333333,\"#9c179e\"],[0.4444444444444444,\"#bd3786\"],[0.5555555555555556,\"#d8576b\"],[0.6666666666666666,\"#ed7953\"],[0.7777777777777778,\"#fb9f3a\"],[0.8888888888888888,\"#fdca26\"],[1.0,\"#f0f921\"]],\"type\":\"contour\"}],\"heatmapgl\":[{\"colorbar\":{\"outlinewidth\":0,\"ticks\":\"\"},\"colorscale\":[[0.0,\"#0d0887\"],[0.1111111111111111,\"#46039f\"],[0.2222222222222222,\"#7201a8\"],[0.3333333333333333,\"#9c179e\"],[0.4444444444444444,\"#bd3786\"],[0.5555555555555556,\"#d8576b\"],[0.6666666666666666,\"#ed7953\"],[0.7777777777777778,\"#fb9f3a\"],[0.8888888888888888,\"#fdca26\"],[1.0,\"#f0f921\"]],\"type\":\"heatmapgl\"}],\"heatmap\":[{\"colorbar\":{\"outlinewidth\":0,\"ticks\":\"\"},\"colorscale\":[[0.0,\"#0d0887\"],[0.1111111111111111,\"#46039f\"],[0.2222222222222222,\"#7201a8\"],[0.3333333333333333,\"#9c179e\"],[0.4444444444444444,\"#bd3786\"],[0.5555555555555556,\"#d8576b\"],[0.6666666666666666,\"#ed7953\"],[0.7777777777777778,\"#fb9f3a\"],[0.8888888888888888,\"#fdca26\"],[1.0,\"#f0f921\"]],\"type\":\"heatmap\"}],\"histogram2dcontour\":[{\"colorbar\":{\"outlinewidth\":0,\"ticks\":\"\"},\"colorscale\":[[0.0,\"#0d0887\"],[0.1111111111111111,\"#46039f\"],[0.2222222222222222,\"#7201a8\"],[0.3333333333333333,\"#9c179e\"],[0.4444444444444444,\"#bd3786\"],[0.5555555555555556,\"#d8576b\"],[0.6666666666666666,\"#ed7953\"],[0.7777777777777778,\"#fb9f3a\"],[0.8888888888888888,\"#fdca26\"],[1.0,\"#f0f921\"]],\"type\":\"histogram2dcontour\"}],\"histogram2d\":[{\"colorbar\":{\"outlinewidth\":0,\"ticks\":\"\"},\"colorscale\":[[0.0,\"#0d0887\"],[0.1111111111111111,\"#46039f\"],[0.2222222222222222,\"#7201a8\"],[0.3333333333333333,\"#9c179e\"],[0.4444444444444444,\"#bd3786\"],[0.5555555555555556,\"#d8576b\"],[0.6666666666666666,\"#ed7953\"],[0.7777777777777778,\"#fb9f3a\"],[0.8888888888888888,\"#fdca26\"],[1.0,\"#f0f921\"]],\"type\":\"histogram2d\"}],\"histogram\":[{\"marker\":{\"pattern\":{\"fillmode\":\"overlay\",\"size\":10,\"solidity\":0.2}},\"type\":\"histogram\"}],\"mesh3d\":[{\"colorbar\":{\"outlinewidth\":0,\"ticks\":\"\"},\"type\":\"mesh3d\"}],\"parcoords\":[{\"line\":{\"colorbar\":{\"outlinewidth\":0,\"ticks\":\"\"}},\"type\":\"parcoords\"}],\"pie\":[{\"automargin\":true,\"type\":\"pie\"}],\"scatter3d\":[{\"line\":{\"colorbar\":{\"outlinewidth\":0,\"ticks\":\"\"}},\"marker\":{\"colorbar\":{\"outlinewidth\":0,\"ticks\":\"\"}},\"type\":\"scatter3d\"}],\"scattercarpet\":[{\"marker\":{\"colorbar\":{\"outlinewidth\":0,\"ticks\":\"\"}},\"type\":\"scattercarpet\"}],\"scattergeo\":[{\"marker\":{\"colorbar\":{\"outlinewidth\":0,\"ticks\":\"\"}},\"type\":\"scattergeo\"}],\"scattergl\":[{\"marker\":{\"colorbar\":{\"outlinewidth\":0,\"ticks\":\"\"}},\"type\":\"scattergl\"}],\"scattermapbox\":[{\"marker\":{\"colorbar\":{\"outlinewidth\":0,\"ticks\":\"\"}},\"type\":\"scattermapbox\"}],\"scatterpolargl\":[{\"marker\":{\"colorbar\":{\"outlinewidth\":0,\"ticks\":\"\"}},\"type\":\"scatterpolargl\"}],\"scatterpolar\":[{\"marker\":{\"colorbar\":{\"outlinewidth\":0,\"ticks\":\"\"}},\"type\":\"scatterpolar\"}],\"scatter\":[{\"fillpattern\":{\"fillmode\":\"overlay\",\"size\":10,\"solidity\":0.2},\"type\":\"scatter\"}],\"scatterternary\":[{\"marker\":{\"colorbar\":{\"outlinewidth\":0,\"ticks\":\"\"}},\"type\":\"scatterternary\"}],\"surface\":[{\"colorbar\":{\"outlinewidth\":0,\"ticks\":\"\"},\"colorscale\":[[0.0,\"#0d0887\"],[0.1111111111111111,\"#46039f\"],[0.2222222222222222,\"#7201a8\"],[0.3333333333333333,\"#9c179e\"],[0.4444444444444444,\"#bd3786\"],[0.5555555555555556,\"#d8576b\"],[0.6666666666666666,\"#ed7953\"],[0.7777777777777778,\"#fb9f3a\"],[0.8888888888888888,\"#fdca26\"],[1.0,\"#f0f921\"]],\"type\":\"surface\"}],\"table\":[{\"cells\":{\"fill\":{\"color\":\"#EBF0F8\"},\"line\":{\"color\":\"white\"}},\"header\":{\"fill\":{\"color\":\"#C8D4E3\"},\"line\":{\"color\":\"white\"}},\"type\":\"table\"}]},\"layout\":{\"annotationdefaults\":{\"arrowcolor\":\"#2a3f5f\",\"arrowhead\":0,\"arrowwidth\":1},\"autotypenumbers\":\"strict\",\"coloraxis\":{\"colorbar\":{\"outlinewidth\":0,\"ticks\":\"\"}},\"colorscale\":{\"diverging\":[[0,\"#8e0152\"],[0.1,\"#c51b7d\"],[0.2,\"#de77ae\"],[0.3,\"#f1b6da\"],[0.4,\"#fde0ef\"],[0.5,\"#f7f7f7\"],[0.6,\"#e6f5d0\"],[0.7,\"#b8e186\"],[0.8,\"#7fbc41\"],[0.9,\"#4d9221\"],[1,\"#276419\"]],\"sequential\":[[0.0,\"#0d0887\"],[0.1111111111111111,\"#46039f\"],[0.2222222222222222,\"#7201a8\"],[0.3333333333333333,\"#9c179e\"],[0.4444444444444444,\"#bd3786\"],[0.5555555555555556,\"#d8576b\"],[0.6666666666666666,\"#ed7953\"],[0.7777777777777778,\"#fb9f3a\"],[0.8888888888888888,\"#fdca26\"],[1.0,\"#f0f921\"]],\"sequentialminus\":[[0.0,\"#0d0887\"],[0.1111111111111111,\"#46039f\"],[0.2222222222222222,\"#7201a8\"],[0.3333333333333333,\"#9c179e\"],[0.4444444444444444,\"#bd3786\"],[0.5555555555555556,\"#d8576b\"],[0.6666666666666666,\"#ed7953\"],[0.7777777777777778,\"#fb9f3a\"],[0.8888888888888888,\"#fdca26\"],[1.0,\"#f0f921\"]]},\"colorway\":[\"#636efa\",\"#EF553B\",\"#00cc96\",\"#ab63fa\",\"#FFA15A\",\"#19d3f3\",\"#FF6692\",\"#B6E880\",\"#FF97FF\",\"#FECB52\"],\"font\":{\"color\":\"#2a3f5f\"},\"geo\":{\"bgcolor\":\"white\",\"lakecolor\":\"white\",\"landcolor\":\"white\",\"showlakes\":true,\"showland\":true,\"subunitcolor\":\"#C8D4E3\"},\"hoverlabel\":{\"align\":\"left\"},\"hovermode\":\"closest\",\"mapbox\":{\"style\":\"light\"},\"paper_bgcolor\":\"white\",\"plot_bgcolor\":\"white\",\"polar\":{\"angularaxis\":{\"gridcolor\":\"#EBF0F8\",\"linecolor\":\"#EBF0F8\",\"ticks\":\"\"},\"bgcolor\":\"white\",\"radialaxis\":{\"gridcolor\":\"#EBF0F8\",\"linecolor\":\"#EBF0F8\",\"ticks\":\"\"}},\"scene\":{\"xaxis\":{\"backgroundcolor\":\"white\",\"gridcolor\":\"#DFE8F3\",\"gridwidth\":2,\"linecolor\":\"#EBF0F8\",\"showbackground\":true,\"ticks\":\"\",\"zerolinecolor\":\"#EBF0F8\"},\"yaxis\":{\"backgroundcolor\":\"white\",\"gridcolor\":\"#DFE8F3\",\"gridwidth\":2,\"linecolor\":\"#EBF0F8\",\"showbackground\":true,\"ticks\":\"\",\"zerolinecolor\":\"#EBF0F8\"},\"zaxis\":{\"backgroundcolor\":\"white\",\"gridcolor\":\"#DFE8F3\",\"gridwidth\":2,\"linecolor\":\"#EBF0F8\",\"showbackground\":true,\"ticks\":\"\",\"zerolinecolor\":\"#EBF0F8\"}},\"shapedefaults\":{\"line\":{\"color\":\"#2a3f5f\"}},\"ternary\":{\"aaxis\":{\"gridcolor\":\"#DFE8F3\",\"linecolor\":\"#A2B1C6\",\"ticks\":\"\"},\"baxis\":{\"gridcolor\":\"#DFE8F3\",\"linecolor\":\"#A2B1C6\",\"ticks\":\"\"},\"bgcolor\":\"white\",\"caxis\":{\"gridcolor\":\"#DFE8F3\",\"linecolor\":\"#A2B1C6\",\"ticks\":\"\"}},\"title\":{\"x\":0.05},\"xaxis\":{\"automargin\":true,\"gridcolor\":\"#EBF0F8\",\"linecolor\":\"#EBF0F8\",\"ticks\":\"\",\"title\":{\"standoff\":15},\"zerolinecolor\":\"#EBF0F8\",\"zerolinewidth\":2},\"yaxis\":{\"automargin\":true,\"gridcolor\":\"#EBF0F8\",\"linecolor\":\"#EBF0F8\",\"ticks\":\"\",\"title\":{\"standoff\":15},\"zerolinecolor\":\"#EBF0F8\",\"zerolinewidth\":2}}},\"title\":{\"font\":{\"size\":22,\"color\":\"Black\"},\"text\":\"\\u003cb\\u003eHierarchical Clustering\\u003c\\u002fb\\u003e\",\"x\":0.5,\"xanchor\":\"center\",\"yanchor\":\"top\"},\"hoverlabel\":{\"font\":{\"size\":16,\"family\":\"Rockwell\"},\"bgcolor\":\"white\"},\"plot_bgcolor\":\"#ECEFF1\"},                        {\"responsive\": true}                    ).then(function(){\n",
       "                            \n",
       "var gd = document.getElementById('ff66883a-94e9-4f1b-a920-441033287042');\n",
       "var x = new MutationObserver(function (mutations, observer) {{\n",
       "        var display = window.getComputedStyle(gd).display;\n",
       "        if (!display || display === 'none') {{\n",
       "            console.log([gd, 'removed!']);\n",
       "            Plotly.purge(gd);\n",
       "            observer.disconnect();\n",
       "        }}\n",
       "}});\n",
       "\n",
       "// Listen for the removal of the full notebook cells\n",
       "var notebookContainer = gd.closest('#notebook-container');\n",
       "if (notebookContainer) {{\n",
       "    x.observe(notebookContainer, {childList: true});\n",
       "}}\n",
       "\n",
       "// Listen for the clearing of the current output cell\n",
       "var outputEl = gd.closest('.output');\n",
       "if (outputEl) {{\n",
       "    x.observe(outputEl, {childList: true});\n",
       "}}\n",
       "\n",
       "                        })                };                            </script>        </div>\n",
       "</body>\n",
       "</html>"
      ]
     },
     "metadata": {}
    }
   ]
  },
  {
   "cell_type": "markdown",
   "source": [
    "# **5. EVALUASI**\n",
    "\n",
    "1. Jumlah topik terbaik untuk masing-masing algoritma dengan coherence score\n",
    "\n",
    "    a. LDA : Jumlah topik optimal berada di 7 topik dengan range jumlah topik yang diuji 2-10 topik\n",
    "\n",
    "    b. BERTopic : Jumlah topik optimal berada di 20 topik dengan range jumlah topik yang diuji range jumlah topik yang digunakan untuk pengujian BERTopic adalah dari 5 hingga 25 topik.\n",
    "\n",
    "2. Topik - topik yang dihasilkan LDA cenderung umum dan menyatu (topik besar) dengan COVID-19 sebagai topik dominan.Sedangkan, topik yang dihasilkan BERTopic lebih granular dan mencakup sub-subtema dengan COVID-19 tetap dominan, tetapi lebih bervariasi: lifestyle, seksualitas, tidur, dsb."
   ],
   "metadata": {
    "id": "EyXz1Wk5OIEW"
   }
  },
  {
   "cell_type": "markdown",
   "source": [
    "# **5. KESIMPULAN**\n",
    "1. BERTopic cenderung menemukan jumlah topik yang lebih banyak dan berpotensi lebih koheren secara semantik karena menggunakan model bahasa modern. BERTopic juga memiliki fitur tambahan seperti identifikasi outlier dan visualisasi yang lebih beragam. Namun, LDA tetap merupakan metode yang efektif dan seringkali lebih cepat untuk dataset yang sangat besar, meskipun mungkin memerlukan lebih banyak usaha dalam interpretasi topik dan pemilihan jumlah topik.\n",
    "\n",
    "2. Tantangan selama pelatihan model LDA, ditemukan beberapa tantangan. Semakin banyak jumlah topik (num_topics), waktu pelatihan menjadi semakin lama. Selain itu, LDA juga sering mengalami masalah kompatibilitas dengan versi pustaka seperti scikit-learn dan pandas, yang bisa menyebabkan error saat pelatihan. Sementara itu, BERTopic lebih cepat saat melatih model, meskipun jumlah topiknya banyak. Ini karena BERTopic menggunakan metode berbasis embedding dan clustering yang lebih efisien, terutama untuk data teks pendek seperti judul berita."
   ],
   "metadata": {
    "id": "yQv8dqUAz0Oa"
   }
  }
 ]
}